{
  "nbformat": 4,
  "nbformat_minor": 0,
  "metadata": {
    "colab": {
      "provenance": []
    },
    "kernelspec": {
      "name": "python3",
      "display_name": "Python 3"
    }
  },
  "cells": [
    {
      "cell_type": "markdown",
      "metadata": {
        "id": "82OvPKEiEqjc"
      },
      "source": [
        "# Введение в MapReduce модель на Python\n"
      ]
    },
    {
      "cell_type": "code",
      "metadata": {
        "id": "JQ2cvXLjICmI"
      },
      "source": [
        "from typing import NamedTuple # requires python 3.6+\n",
        "from typing import Iterator\n",
        "import random"
      ],
      "execution_count": 55,
      "outputs": []
    },
    {
      "cell_type": "code",
      "metadata": {
        "id": "yjPHumVwEyEg"
      },
      "source": [
        "def MAP(_, row:NamedTuple):\n",
        "  if (row.gender == 'female'):\n",
        "    yield (row.age, row)\n",
        "\n",
        "def REDUCE(age:str, rows:Iterator[NamedTuple]):\n",
        "  sum = 0\n",
        "  count = 0\n",
        "  for row in rows:\n",
        "    sum += row.social_contacts\n",
        "    count += 1\n",
        "  if (count > 0):\n",
        "    yield (age, sum/count)\n",
        "  else:\n",
        "    yield (age, 0)"
      ],
      "execution_count": 56,
      "outputs": []
    },
    {
      "cell_type": "markdown",
      "metadata": {
        "id": "vBKMgpG_ilaZ"
      },
      "source": [
        "Модель элемента данных"
      ]
    },
    {
      "cell_type": "code",
      "metadata": {
        "id": "Rv-XIjhTJPx3"
      },
      "source": [
        "class User(NamedTuple):\n",
        "  id: int\n",
        "  age: str\n",
        "  social_contacts: int\n",
        "  gender: str"
      ],
      "execution_count": 57,
      "outputs": []
    },
    {
      "cell_type": "code",
      "metadata": {
        "id": "5KV0Ze2vQgu5"
      },
      "source": [
        "input_collection = [\n",
        "    User(id=0, age=55, gender='male', social_contacts=20),\n",
        "    User(id=1, age=25, gender='female', social_contacts=240),\n",
        "    User(id=2, age=25, gender='female', social_contacts=500),\n",
        "    User(id=3, age=33, gender='female', social_contacts=800)\n",
        "]"
      ],
      "execution_count": 58,
      "outputs": []
    },
    {
      "cell_type": "markdown",
      "metadata": {
        "id": "YFeqzyZxZIFZ"
      },
      "source": [
        "Функция RECORDREADER моделирует чтение элементов с диска или по сети."
      ]
    },
    {
      "cell_type": "code",
      "metadata": {
        "id": "S5HR4E_GQoMJ"
      },
      "source": [
        "def RECORDREADER():\n",
        "  return [(u.id, u) for u in input_collection]"
      ],
      "execution_count": 59,
      "outputs": []
    },
    {
      "cell_type": "code",
      "metadata": {
        "id": "NeEoWla-ROUy",
        "colab": {
          "base_uri": "https://localhost:8080/"
        },
        "outputId": "255b0943-2a40-44cf-8845-45cdbe2af29e"
      },
      "source": [
        "list(RECORDREADER())"
      ],
      "execution_count": 60,
      "outputs": [
        {
          "output_type": "execute_result",
          "data": {
            "text/plain": [
              "[(0, User(id=0, age=55, social_contacts=20, gender='male')),\n",
              " (1, User(id=1, age=25, social_contacts=240, gender='female')),\n",
              " (2, User(id=2, age=25, social_contacts=500, gender='female')),\n",
              " (3, User(id=3, age=33, social_contacts=800, gender='female'))]"
            ]
          },
          "metadata": {},
          "execution_count": 60
        }
      ]
    },
    {
      "cell_type": "code",
      "metadata": {
        "id": "YB8orgPSZs8M"
      },
      "source": [
        "def flatten(nested_iterable):\n",
        "  for iterable in nested_iterable:\n",
        "    for element in iterable:\n",
        "      yield element"
      ],
      "execution_count": 61,
      "outputs": []
    },
    {
      "cell_type": "code",
      "metadata": {
        "id": "74oyvDLaRmd5",
        "colab": {
          "base_uri": "https://localhost:8080/"
        },
        "outputId": "087b968f-0c49-4a97-8744-7d61bca11ead"
      },
      "source": [
        "map_output = flatten(map(lambda x: MAP(*x), RECORDREADER()))\n",
        "map_output = list(map_output) # materialize\n",
        "map_output"
      ],
      "execution_count": 62,
      "outputs": [
        {
          "output_type": "execute_result",
          "data": {
            "text/plain": [
              "[(25, User(id=1, age=25, social_contacts=240, gender='female')),\n",
              " (25, User(id=2, age=25, social_contacts=500, gender='female')),\n",
              " (33, User(id=3, age=33, social_contacts=800, gender='female'))]"
            ]
          },
          "metadata": {},
          "execution_count": 62
        }
      ]
    },
    {
      "cell_type": "code",
      "metadata": {
        "id": "8ncYDJ3-VzDn"
      },
      "source": [
        "def groupbykey(iterable):\n",
        "  t = {}\n",
        "  for (k2, v2) in iterable:\n",
        "    t[k2] = t.get(k2, []) + [v2]\n",
        "  return t.items()"
      ],
      "execution_count": 63,
      "outputs": []
    },
    {
      "cell_type": "code",
      "metadata": {
        "id": "cKzY_6COWOA2",
        "colab": {
          "base_uri": "https://localhost:8080/"
        },
        "outputId": "adac8882-d8ea-495c-fefd-3e2b0e629c9c"
      },
      "source": [
        "shuffle_output = groupbykey(map_output)\n",
        "shuffle_output = list(shuffle_output)\n",
        "shuffle_output"
      ],
      "execution_count": 64,
      "outputs": [
        {
          "output_type": "execute_result",
          "data": {
            "text/plain": [
              "[(25,\n",
              "  [User(id=1, age=25, social_contacts=240, gender='female'),\n",
              "   User(id=2, age=25, social_contacts=500, gender='female')]),\n",
              " (33, [User(id=3, age=33, social_contacts=800, gender='female')])]"
            ]
          },
          "metadata": {},
          "execution_count": 64
        }
      ]
    },
    {
      "cell_type": "code",
      "metadata": {
        "id": "NlA7lkDDYL0t",
        "colab": {
          "base_uri": "https://localhost:8080/"
        },
        "outputId": "a8ca0809-b15f-4e87-b59c-53cb76918caa"
      },
      "source": [
        "reduce_output = flatten(map(lambda x: REDUCE(*x), shuffle_output))\n",
        "reduce_output = list(reduce_output)\n",
        "reduce_output"
      ],
      "execution_count": 65,
      "outputs": [
        {
          "output_type": "execute_result",
          "data": {
            "text/plain": [
              "[(25, 370.0), (33, 800.0)]"
            ]
          },
          "metadata": {},
          "execution_count": 65
        }
      ]
    },
    {
      "cell_type": "markdown",
      "metadata": {
        "id": "xf6qhHEtd6bI"
      },
      "source": [
        "Все действия одним конвейером!"
      ]
    },
    {
      "cell_type": "code",
      "metadata": {
        "id": "dZaQGYxCdpw5",
        "colab": {
          "base_uri": "https://localhost:8080/"
        },
        "outputId": "8e8fd391-b67f-47a8-997e-ab26d3f425c1"
      },
      "source": [
        "list(flatten(map(lambda x: REDUCE(*x), groupbykey(flatten(map(lambda x: MAP(*x), RECORDREADER()))))))"
      ],
      "execution_count": 66,
      "outputs": [
        {
          "output_type": "execute_result",
          "data": {
            "text/plain": [
              "[(25, 370.0), (33, 800.0)]"
            ]
          },
          "metadata": {},
          "execution_count": 66
        }
      ]
    },
    {
      "cell_type": "markdown",
      "metadata": {
        "id": "Vq3EWRIpwSiJ"
      },
      "source": [
        "# **MapReduce**\n",
        "Выделим общую для всех пользователей часть системы в отдельную функцию высшего порядка. Это наиболее простая модель MapReduce, без учёта распределённого хранения данных.\n",
        "\n",
        "Пользователь для решения своей задачи реализует RECORDREADER, MAP, REDUCE."
      ]
    },
    {
      "cell_type": "code",
      "metadata": {
        "id": "V1PZeQMwwVjc"
      },
      "source": [
        "def flatten(nested_iterable):\n",
        "  for iterable in nested_iterable:\n",
        "    for element in iterable:\n",
        "      yield element\n",
        "\n",
        "def groupbykey(iterable):\n",
        "  t = {}\n",
        "  for (k2, v2) in iterable:\n",
        "    t[k2] = t.get(k2, []) + [v2]\n",
        "  return t.items()\n",
        "\n",
        "def MapReduce(RECORDREADER, MAP, REDUCE):\n",
        "  return flatten(map(lambda x: REDUCE(*x), groupbykey(flatten(map(lambda x: MAP(*x), RECORDREADER())))))"
      ],
      "execution_count": 67,
      "outputs": []
    },
    {
      "cell_type": "markdown",
      "metadata": {
        "id": "iFIVrimep678"
      },
      "source": [
        "## Спецификация MapReduce\n",
        "\n",
        "\n",
        "\n",
        "```\n",
        "f (k1, v1) -> (k2,v2)*\n",
        "g (k2, v2*) -> (k3,v3)*\n",
        "\n",
        "mapreduce ((k1,v1)*) -> (k3,v3)*\n",
        "groupby ((k2,v2)*) -> (k2,v2*)*\n",
        "flatten (e2**) -> e2*\n",
        "\n",
        "mapreduce .map(f).flatten.groupby(k2).map(g).flatten\n",
        "```\n",
        "\n",
        "\n"
      ]
    },
    {
      "cell_type": "markdown",
      "metadata": {
        "id": "QtTFyqke3KGe"
      },
      "source": [
        "# Примеры"
      ]
    },
    {
      "cell_type": "markdown",
      "metadata": {
        "id": "BNhh5763w5Vn"
      },
      "source": [
        "## SQL"
      ]
    },
    {
      "cell_type": "code",
      "metadata": {
        "id": "QkyurnvGxBGk",
        "colab": {
          "base_uri": "https://localhost:8080/"
        },
        "outputId": "1b5e6b6e-5dc6-4f38-8776-0707424a5889"
      },
      "source": [
        "from typing import NamedTuple # requires python 3.6+\n",
        "from typing import Iterator\n",
        "\n",
        "class User(NamedTuple):\n",
        "  id: int\n",
        "  age: str\n",
        "  social_contacts: int\n",
        "  gender: str\n",
        "\n",
        "input_collection = [\n",
        "    User(id=0, age=55, gender='male', social_contacts=20),\n",
        "    User(id=1, age=25, gender='female', social_contacts=240),\n",
        "    User(id=2, age=25, gender='female', social_contacts=500),\n",
        "    User(id=3, age=33, gender='female', social_contacts=800)\n",
        "]\n",
        "\n",
        "def MAP(_, row:NamedTuple):\n",
        "  if (row.gender == 'female'):\n",
        "    yield (row.age, row)\n",
        "\n",
        "def REDUCE(age:str, rows:Iterator[NamedTuple]):\n",
        "  sum = 0\n",
        "  count = 0\n",
        "  for row in rows:\n",
        "    sum += row.social_contacts\n",
        "    count += 1\n",
        "  if (count > 0):\n",
        "    yield (age, sum/count)\n",
        "  else:\n",
        "    yield (age, 0)\n",
        "\n",
        "def RECORDREADER():\n",
        "  return [(u.id, u) for u in input_collection]\n",
        "\n",
        "output = MapReduce(RECORDREADER, MAP, REDUCE)\n",
        "output = list(output)\n",
        "output"
      ],
      "execution_count": 68,
      "outputs": [
        {
          "output_type": "execute_result",
          "data": {
            "text/plain": [
              "[(25, 370.0), (33, 800.0)]"
            ]
          },
          "metadata": {},
          "execution_count": 68
        }
      ]
    },
    {
      "cell_type": "markdown",
      "metadata": {
        "id": "kNKYIeerx0nY"
      },
      "source": [
        "## Matrix-Vector multiplication"
      ]
    },
    {
      "cell_type": "code",
      "metadata": {
        "id": "rwcntRcCyi1V",
        "colab": {
          "base_uri": "https://localhost:8080/"
        },
        "outputId": "be84fc47-cd7e-4b45-e55f-3f5fbee8c282"
      },
      "source": [
        "from typing import Iterator\n",
        "import numpy as np\n",
        "\n",
        "mat = np.ones((5,4))\n",
        "vec = np.random.rand(4) # in-memory vector in all map tasks\n",
        "\n",
        "def MAP(coordinates:(int, int), value:int):\n",
        "  i, j = coordinates\n",
        "  yield (i, value*vec[j])\n",
        "\n",
        "def REDUCE(i:int, products:Iterator[NamedTuple]):\n",
        "  sum = 0\n",
        "  for p in products:\n",
        "    sum += p\n",
        "  yield (i, sum)\n",
        "\n",
        "def RECORDREADER():\n",
        "  for i in range(mat.shape[0]):\n",
        "    for j in range(mat.shape[1]):\n",
        "      yield ((i, j), mat[i,j])\n",
        "\n",
        "output = MapReduce(RECORDREADER, MAP, REDUCE)\n",
        "output = list(output)\n",
        "output"
      ],
      "execution_count": 69,
      "outputs": [
        {
          "output_type": "execute_result",
          "data": {
            "text/plain": [
              "[(0, 1.6255698617172936),\n",
              " (1, 1.6255698617172936),\n",
              " (2, 1.6255698617172936),\n",
              " (3, 1.6255698617172936),\n",
              " (4, 1.6255698617172936)]"
            ]
          },
          "metadata": {},
          "execution_count": 69
        }
      ]
    },
    {
      "cell_type": "markdown",
      "metadata": {
        "id": "ruZREYdi2o4O"
      },
      "source": [
        "## Inverted index"
      ]
    },
    {
      "cell_type": "code",
      "metadata": {
        "id": "vt9H9Alf3TYv",
        "colab": {
          "base_uri": "https://localhost:8080/"
        },
        "outputId": "44890a0c-6995-4842-d785-4d17f52d6291"
      },
      "source": [
        "from typing import Iterator\n",
        "\n",
        "d1 = \"it is what it is\"\n",
        "d2 = \"what is it\"\n",
        "d3 = \"it is a banana\"\n",
        "documents = [d1, d2, d3]\n",
        "\n",
        "def RECORDREADER():\n",
        "  for (docid, document) in enumerate(documents):\n",
        "    yield (\"{}\".format(docid), document)\n",
        "\n",
        "def MAP(docId:str, body:str):\n",
        "  for word in set(body.split(' ')):\n",
        "    yield (word, docId)\n",
        "\n",
        "def REDUCE(word:str, docIds:Iterator[str]):\n",
        "  yield (word, sorted(docIds))\n",
        "\n",
        "output = MapReduce(RECORDREADER, MAP, REDUCE)\n",
        "output = list(output)\n",
        "output"
      ],
      "execution_count": 70,
      "outputs": [
        {
          "output_type": "execute_result",
          "data": {
            "text/plain": [
              "[('it', ['0', '1', '2']),\n",
              " ('is', ['0', '1', '2']),\n",
              " ('what', ['0', '1']),\n",
              " ('banana', ['2']),\n",
              " ('a', ['2'])]"
            ]
          },
          "metadata": {},
          "execution_count": 70
        }
      ]
    },
    {
      "cell_type": "markdown",
      "metadata": {
        "id": "R7az-6DA6qr2"
      },
      "source": [
        "## WordCount"
      ]
    },
    {
      "cell_type": "code",
      "metadata": {
        "id": "dN-nbtgG6uYG",
        "colab": {
          "base_uri": "https://localhost:8080/"
        },
        "outputId": "841a3566-ea84-480e-9337-7edc13bf928b"
      },
      "source": [
        "from typing import Iterator\n",
        "\n",
        "d1 = \"\"\"\n",
        "it is what it is\n",
        "it is what it is\n",
        "it is what it is\"\"\"\n",
        "d2 = \"\"\"\n",
        "what is it\n",
        "what is it\"\"\"\n",
        "d3 = \"\"\"\n",
        "it is a banana\"\"\"\n",
        "documents = [d1, d2, d3]\n",
        "\n",
        "def RECORDREADER():\n",
        "  for (docid, document) in enumerate(documents):\n",
        "    for (lineid, line) in enumerate(document.split('\\n')):\n",
        "      yield (\"{}:{}\".format(docid,lineid), line)\n",
        "\n",
        "def MAP(docId:str, line:str):\n",
        "  for word in line.split(\" \"):\n",
        "    yield (word, 1)\n",
        "\n",
        "def REDUCE(word:str, counts:Iterator[int]):\n",
        "  sum = 0\n",
        "  for c in counts:\n",
        "    sum += c\n",
        "  yield (word, sum)\n",
        "\n",
        "output = MapReduce(RECORDREADER, MAP, REDUCE)\n",
        "output = list(output)\n",
        "output"
      ],
      "execution_count": 71,
      "outputs": [
        {
          "output_type": "execute_result",
          "data": {
            "text/plain": [
              "[('', 3), ('it', 9), ('is', 9), ('what', 5), ('a', 1), ('banana', 1)]"
            ]
          },
          "metadata": {},
          "execution_count": 71
        }
      ]
    },
    {
      "cell_type": "markdown",
      "metadata": {
        "id": "h-jRAcYCAkkk"
      },
      "source": [
        "# MapReduce Distributed\n",
        "\n",
        "Добавляется в модель фабрика RECORDREARER-ов --- INPUTFORMAT, функция распределения промежуточных результатов по партициям PARTITIONER, и функция COMBINER для частичной аггрегации промежуточных результатов до распределения по новым партициям."
      ]
    },
    {
      "cell_type": "code",
      "metadata": {
        "id": "nw-b-xJsApgW"
      },
      "source": [
        "def flatten(nested_iterable):\n",
        "  for iterable in nested_iterable:\n",
        "    for element in iterable:\n",
        "      yield element\n",
        "\n",
        "def groupbykey(iterable):\n",
        "  t = {}\n",
        "  for (k2, v2) in iterable:\n",
        "    t[k2] = t.get(k2, []) + [v2]\n",
        "  return t.items()\n",
        "\n",
        "def groupbykey_distributed(map_partitions, PARTITIONER):\n",
        "  global reducers\n",
        "  partitions = [dict() for _ in range(reducers)]\n",
        "  for map_partition in map_partitions:\n",
        "    for (k2, v2) in map_partition:\n",
        "      p = partitions[PARTITIONER(k2)]\n",
        "      p[k2] = p.get(k2, []) + [v2]\n",
        "  return [(partition_id, sorted(partition.items(), key=lambda x: x[0])) for (partition_id, partition) in enumerate(partitions)]\n",
        "\n",
        "def PARTITIONER(obj):\n",
        "  global reducers\n",
        "  return hash(obj) % reducers\n",
        "\n",
        "def MapReduceDistributed(INPUTFORMAT, MAP, REDUCE, PARTITIONER=PARTITIONER, COMBINER=None):\n",
        "  map_partitions = map(lambda record_reader: flatten(map(lambda k1v1: MAP(*k1v1), record_reader)), INPUTFORMAT())\n",
        "  if COMBINER != None:\n",
        "    map_partitions = map(lambda map_partition: flatten(map(lambda k2v2: COMBINER(*k2v2), groupbykey(map_partition))), map_partitions)\n",
        "  reduce_partitions = groupbykey_distributed(map_partitions, PARTITIONER) # shuffle\n",
        "  reduce_outputs = map(lambda reduce_partition: (reduce_partition[0], flatten(map(lambda reduce_input_group: REDUCE(*reduce_input_group), reduce_partition[1]))), reduce_partitions)\n",
        "\n",
        "  print(\"{} key-value pairs were sent over a network.\".format(sum([len(vs) for (k,vs) in flatten([partition for (partition_id, partition) in reduce_partitions])])))\n",
        "  return reduce_outputs"
      ],
      "execution_count": 72,
      "outputs": []
    },
    {
      "cell_type": "markdown",
      "metadata": {
        "id": "kxirlf3XqZxY"
      },
      "source": [
        "## Спецификация MapReduce Distributed\n",
        "\n",
        "\n",
        "```\n",
        "f (k1, v1) -> (k2,v2)*\n",
        "g (k2, v2*) -> (k3,v3)*\n",
        "\n",
        "e1 (k1, v1)\n",
        "e2 (k2, v2)\n",
        "partition1 (k2, v2)*\n",
        "partition2 (k2, v2*)*\n",
        "\n",
        "flatmap (e1->e2*, e1*) -> partition1*\n",
        "groupby (partition1*) -> partition2*\n",
        "\n",
        "mapreduce ((k1,v1)*) -> (k3,v3)*\n",
        "mapreduce .flatmap(f).groupby(k2).flatmap(g)\n",
        "```\n",
        "\n"
      ]
    },
    {
      "cell_type": "markdown",
      "metadata": {
        "id": "CWYw_CpbbY3C"
      },
      "source": [
        "## WordCount"
      ]
    },
    {
      "cell_type": "code",
      "metadata": {
        "id": "uR_zfGFkMZlp",
        "colab": {
          "base_uri": "https://localhost:8080/"
        },
        "outputId": "b02648a1-1fd6-4795-8f71-d38fc94182ac"
      },
      "source": [
        "from typing import Iterator\n",
        "import numpy as np\n",
        "\n",
        "d1 = \"\"\"\n",
        "it is what it is\n",
        "it is what it is\n",
        "it is what it is\"\"\"\n",
        "d2 = \"\"\"\n",
        "what is it\n",
        "what is it\"\"\"\n",
        "d3 = \"\"\"\n",
        "it is a banana\"\"\"\n",
        "documents = [d1, d2, d3, d1, d2, d3]\n",
        "\n",
        "maps = 3\n",
        "reducers = 2\n",
        "\n",
        "def INPUTFORMAT():\n",
        "  global maps\n",
        "\n",
        "  def RECORDREADER(split):\n",
        "    for (docid, document) in enumerate(split):\n",
        "      for (lineid, line) in enumerate(document.split('\\n')):\n",
        "        yield (\"{}:{}\".format(docid,lineid), line)\n",
        "\n",
        "  split_size =  int(np.ceil(len(documents)/maps))\n",
        "  for i in range(0, len(documents), split_size):\n",
        "    yield RECORDREADER(documents[i:i+split_size])\n",
        "\n",
        "def MAP(docId:str, line:str):\n",
        "  for word in line.split(\" \"):\n",
        "    yield (word, 1)\n",
        "\n",
        "def REDUCE(word:str, counts:Iterator[int]):\n",
        "  sum = 0\n",
        "  for c in counts:\n",
        "    sum += c\n",
        "  yield (word, sum)\n",
        "\n",
        "# try to set COMBINER=REDUCER and look at the number of values sent over the network\n",
        "partitioned_output = MapReduceDistributed(INPUTFORMAT, MAP, REDUCE, COMBINER=None)\n",
        "partitioned_output = [(partition_id, list(partition)) for (partition_id, partition) in partitioned_output]\n",
        "partitioned_output"
      ],
      "execution_count": 73,
      "outputs": [
        {
          "output_type": "stream",
          "name": "stdout",
          "text": [
            "56 key-value pairs were sent over a network.\n"
          ]
        },
        {
          "output_type": "execute_result",
          "data": {
            "text/plain": [
              "[(0, [('', 6), ('a', 2), ('banana', 2), ('it', 18), ('what', 10)]),\n",
              " (1, [('is', 18)])]"
            ]
          },
          "metadata": {},
          "execution_count": 73
        }
      ]
    },
    {
      "cell_type": "markdown",
      "metadata": {
        "id": "gCJGx8IQ87xS"
      },
      "source": [
        "## TeraSort"
      ]
    },
    {
      "cell_type": "code",
      "metadata": {
        "id": "P2v8v1v_8_YR",
        "colab": {
          "base_uri": "https://localhost:8080/"
        },
        "outputId": "abaa9723-17b0-466b-a337-a44ca1a62ead"
      },
      "source": [
        "import numpy as np\n",
        "\n",
        "input_values = np.random.rand(30)\n",
        "maps = 3\n",
        "reducers = 2\n",
        "min_value = 0.0\n",
        "max_value = 1.0\n",
        "\n",
        "def INPUTFORMAT():\n",
        "  global maps\n",
        "\n",
        "  def RECORDREADER(split):\n",
        "    for value in split:\n",
        "        yield (value, None)\n",
        "\n",
        "  split_size =  int(np.ceil(len(input_values)/maps))\n",
        "  for i in range(0, len(input_values), split_size):\n",
        "    yield RECORDREADER(input_values[i:i+split_size])\n",
        "\n",
        "def MAP(value:int, _):\n",
        "  yield (value, None)\n",
        "\n",
        "def PARTITIONER(key):\n",
        "  global reducers\n",
        "  global max_value\n",
        "  global min_value\n",
        "  bucket_size = (max_value-min_value)/reducers\n",
        "  bucket_id = 0\n",
        "  while((key>(bucket_id+1)*bucket_size) and ((bucket_id+1)*bucket_size<max_value)):\n",
        "    bucket_id += 1\n",
        "  return bucket_id\n",
        "\n",
        "def REDUCE(value:int, _):\n",
        "  yield (None,value)\n",
        "\n",
        "partitioned_output = MapReduceDistributed(INPUTFORMAT, MAP, REDUCE, COMBINER=None, PARTITIONER=PARTITIONER)\n",
        "partitioned_output = [(partition_id, list(partition)) for (partition_id, partition) in partitioned_output]\n",
        "partitioned_output"
      ],
      "execution_count": 74,
      "outputs": [
        {
          "output_type": "stream",
          "name": "stdout",
          "text": [
            "30 key-value pairs were sent over a network.\n"
          ]
        },
        {
          "output_type": "execute_result",
          "data": {
            "text/plain": [
              "[(0,\n",
              "  [(None, 0.08806593405215135),\n",
              "   (None, 0.20330395628099673),\n",
              "   (None, 0.23644177535613342),\n",
              "   (None, 0.26427136800906714),\n",
              "   (None, 0.2707478355147447),\n",
              "   (None, 0.2960450822088805),\n",
              "   (None, 0.29702241927385575),\n",
              "   (None, 0.3304485094326084),\n",
              "   (None, 0.3468833581291805),\n",
              "   (None, 0.42557308150939666),\n",
              "   (None, 0.44188286199009086),\n",
              "   (None, 0.4477301363122663),\n",
              "   (None, 0.4527765340072626),\n",
              "   (None, 0.4727523467695264),\n",
              "   (None, 0.4842655140430563)]),\n",
              " (1,\n",
              "  [(None, 0.5063936512097185),\n",
              "   (None, 0.5162690713568517),\n",
              "   (None, 0.5163795888986793),\n",
              "   (None, 0.5716777801411518),\n",
              "   (None, 0.6800091275557612),\n",
              "   (None, 0.6950411449585012),\n",
              "   (None, 0.7002295226684974),\n",
              "   (None, 0.7096822273965279),\n",
              "   (None, 0.7104258426935389),\n",
              "   (None, 0.7496302861146492),\n",
              "   (None, 0.8033726628654874),\n",
              "   (None, 0.8399269880287269),\n",
              "   (None, 0.988696740930004),\n",
              "   (None, 0.9909896908157181),\n",
              "   (None, 0.9970259333950889)])]"
            ]
          },
          "metadata": {},
          "execution_count": 74
        }
      ]
    },
    {
      "cell_type": "code",
      "metadata": {
        "id": "MQhoJaVZI93G"
      },
      "source": [],
      "execution_count": 74,
      "outputs": []
    },
    {
      "cell_type": "markdown",
      "metadata": {
        "id": "Iy65YJTH99iT"
      },
      "source": [
        "# Упражнения\n",
        "Упражнения взяты из Rajaraman A., Ullman J. D. Mining of massive datasets. – Cambridge University Press, 2011.\n",
        "\n",
        "\n",
        "Для выполнения заданий переопределите функции RECORDREADER, MAP, REDUCE. Для модели распределённой системы может потребоваться переопределение функций PARTITION и COMBINER."
      ]
    },
    {
      "cell_type": "markdown",
      "metadata": {
        "id": "cfvAeZm3S8S8"
      },
      "source": [
        "### Максимальное значение ряда\n",
        "\n",
        "Разработайте MapReduce алгоритм, который находит максимальное число входного списка чисел."
      ]
    },
    {
      "cell_type": "code",
      "metadata": {
        "id": "3GRA1JR-Tkbg",
        "colab": {
          "base_uri": "https://localhost:8080/"
        },
        "outputId": "769877d1-42ed-4c38-e7bf-280babb14030"
      },
      "source": [
        "import random\n",
        "\n",
        "def MAP(num_list):\n",
        "    return max(num_list)\n",
        "\n",
        "\n",
        "def REDUCE(num_list):\n",
        "    return max(num_list)\n",
        "\n",
        "\n",
        "def RECORDREADER(count):\n",
        "    return [random.randint(0, count * 10) for i in range(count)]\n",
        "\n",
        "\n",
        "record = RECORDREADER(100)\n",
        "print(record)\n",
        "\n",
        "part_count = 5\n",
        "record_partitional = [record[d:d + part_count] for d in range(0, len(record), part_count)]\n",
        "print(record_partitional)\n",
        "\n",
        "print(REDUCE(list(map(lambda x: MAP(x), record_partitional))))"
      ],
      "execution_count": 75,
      "outputs": [
        {
          "output_type": "stream",
          "name": "stdout",
          "text": [
            "[256, 103, 254, 702, 431, 951, 519, 915, 723, 852, 800, 566, 621, 626, 575, 535, 537, 914, 252, 980, 953, 484, 409, 771, 800, 280, 856, 450, 572, 279, 410, 730, 388, 802, 159, 551, 874, 576, 824, 13, 130, 553, 522, 820, 480, 977, 385, 941, 78, 809, 660, 712, 582, 338, 135, 353, 670, 900, 984, 745, 111, 44, 417, 112, 427, 322, 261, 52, 659, 264, 400, 936, 321, 776, 143, 97, 996, 537, 865, 110, 149, 667, 141, 680, 439, 659, 615, 490, 864, 312, 766, 93, 725, 987, 918, 775, 424, 339, 952, 578]\n",
            "[[256, 103, 254, 702, 431], [951, 519, 915, 723, 852], [800, 566, 621, 626, 575], [535, 537, 914, 252, 980], [953, 484, 409, 771, 800], [280, 856, 450, 572, 279], [410, 730, 388, 802, 159], [551, 874, 576, 824, 13], [130, 553, 522, 820, 480], [977, 385, 941, 78, 809], [660, 712, 582, 338, 135], [353, 670, 900, 984, 745], [111, 44, 417, 112, 427], [322, 261, 52, 659, 264], [400, 936, 321, 776, 143], [97, 996, 537, 865, 110], [149, 667, 141, 680, 439], [659, 615, 490, 864, 312], [766, 93, 725, 987, 918], [775, 424, 339, 952, 578]]\n",
            "996\n"
          ]
        }
      ]
    },
    {
      "cell_type": "markdown",
      "metadata": {
        "id": "k86bXnqZTk-U"
      },
      "source": [
        "### Арифметическое среднее\n",
        "\n",
        "Разработайте MapReduce алгоритм, который находит арифметическое среднее.\n",
        "\n",
        "$$\\overline{X} = \\frac{1}{n}\\sum_{i=0}^{n} x_i$$\n"
      ]
    },
    {
      "cell_type": "code",
      "metadata": {
        "id": "MPoY5pkfUNZf",
        "colab": {
          "base_uri": "https://localhost:8080/"
        },
        "outputId": "720eabe2-b971-401d-e7f4-a5617907c3f9"
      },
      "source": [
        "# ключ группировки одинаковый для всех\n",
        "def MAP(num):\n",
        "    return (1, num)\n",
        "\n",
        "\n",
        "def REDUCE(key, nums: Iterator[NamedTuple]):\n",
        "    sum = 0\n",
        "    count = 0\n",
        "    for n in nums:\n",
        "        sum += n\n",
        "        count += 1\n",
        "    yield sum / count\n",
        "\n",
        "\n",
        "def RECORDREADER(count):\n",
        "    return [random.randint(0, 100) for i in range(count)]\n",
        "\n",
        "\n",
        "map_output = list(map(lambda x: MAP(x), RECORDREADER(100)))\n",
        "print(map_output)\n",
        "\n",
        "shuffle_output = groupbykey(map_output)\n",
        "shuffle_output = list(shuffle_output)\n",
        "\n",
        "print(shuffle_output)\n",
        "\n",
        "reduce_output = list(flatten(map(lambda x: REDUCE(*x), shuffle_output)))\n",
        "print(reduce_output)"
      ],
      "execution_count": 76,
      "outputs": [
        {
          "output_type": "stream",
          "name": "stdout",
          "text": [
            "[(1, 26), (1, 26), (1, 70), (1, 11), (1, 92), (1, 67), (1, 53), (1, 43), (1, 100), (1, 14), (1, 46), (1, 81), (1, 95), (1, 47), (1, 59), (1, 93), (1, 28), (1, 80), (1, 33), (1, 89), (1, 63), (1, 44), (1, 43), (1, 5), (1, 63), (1, 5), (1, 90), (1, 67), (1, 34), (1, 24), (1, 40), (1, 10), (1, 30), (1, 38), (1, 80), (1, 96), (1, 10), (1, 45), (1, 77), (1, 76), (1, 84), (1, 73), (1, 64), (1, 2), (1, 87), (1, 58), (1, 67), (1, 82), (1, 17), (1, 40), (1, 30), (1, 40), (1, 87), (1, 36), (1, 41), (1, 99), (1, 67), (1, 42), (1, 72), (1, 58), (1, 39), (1, 70), (1, 94), (1, 7), (1, 51), (1, 4), (1, 12), (1, 69), (1, 18), (1, 43), (1, 44), (1, 45), (1, 38), (1, 38), (1, 93), (1, 76), (1, 5), (1, 26), (1, 21), (1, 79), (1, 95), (1, 29), (1, 37), (1, 53), (1, 94), (1, 33), (1, 76), (1, 80), (1, 23), (1, 32), (1, 9), (1, 69), (1, 9), (1, 60), (1, 75), (1, 26), (1, 83), (1, 2), (1, 62), (1, 58)]\n",
            "[(1, [26, 26, 70, 11, 92, 67, 53, 43, 100, 14, 46, 81, 95, 47, 59, 93, 28, 80, 33, 89, 63, 44, 43, 5, 63, 5, 90, 67, 34, 24, 40, 10, 30, 38, 80, 96, 10, 45, 77, 76, 84, 73, 64, 2, 87, 58, 67, 82, 17, 40, 30, 40, 87, 36, 41, 99, 67, 42, 72, 58, 39, 70, 94, 7, 51, 4, 12, 69, 18, 43, 44, 45, 38, 38, 93, 76, 5, 26, 21, 79, 95, 29, 37, 53, 94, 33, 76, 80, 23, 32, 9, 69, 9, 60, 75, 26, 83, 2, 62, 58])]\n",
            "[51.16]\n"
          ]
        }
      ]
    },
    {
      "cell_type": "markdown",
      "metadata": {
        "id": "xanzszhsIlLe"
      },
      "source": [
        "### GroupByKey на основе сортировки\n",
        "\n",
        "Реализуйте groupByKey на основе сортировки, проверьте его работу на примерах"
      ]
    },
    {
      "cell_type": "code",
      "metadata": {
        "id": "hQPn3USsIkEC",
        "colab": {
          "base_uri": "https://localhost:8080/"
        },
        "outputId": "61680915-5832-4299-c320-48f8ec9b964f"
      },
      "source": [
        "def group_by_key(iterable):\n",
        "    sorted_data = sorted(iterable, key=lambda x: x[0])\n",
        "    grouped_data = {}\n",
        "    for key, value in sorted_data:\n",
        "        if key not in grouped_data:\n",
        "            grouped_data[key] = [value]\n",
        "        else:\n",
        "            grouped_data[key].append(value)\n",
        "    result = []\n",
        "    for key, value in grouped_data.items():\n",
        "        result.append((key, value))\n",
        "    return result\n",
        "\n",
        "def MAP(num):\n",
        "    return (1, num)\n",
        "\n",
        "\n",
        "def REDUCE(key, nums: Iterator[NamedTuple]):\n",
        "    sum = 0\n",
        "    count = 0\n",
        "    for n in nums:\n",
        "        sum += n\n",
        "        count += 1\n",
        "    yield sum / count\n",
        "\n",
        "\n",
        "def RECORDREADER(count):\n",
        "    return [random.randint(0, 100) for i in range(count)]\n",
        "\n",
        "map_output = list(map(lambda x: MAP(x), RECORDREADER(100)))\n",
        "print(map_output)\n",
        "\n",
        "shuffle_output = group_by_key(map_output)\n",
        "shuffle_output = list(shuffle_output)\n",
        "\n",
        "print(shuffle_output)\n",
        "\n",
        "reduce_output = list(flatten(map(lambda x: REDUCE(*x), shuffle_output)))\n",
        "print(reduce_output)"
      ],
      "execution_count": 77,
      "outputs": [
        {
          "output_type": "stream",
          "name": "stdout",
          "text": [
            "[(1, 97), (1, 99), (1, 62), (1, 90), (1, 0), (1, 49), (1, 25), (1, 98), (1, 42), (1, 39), (1, 8), (1, 14), (1, 99), (1, 39), (1, 20), (1, 80), (1, 50), (1, 3), (1, 62), (1, 76), (1, 65), (1, 49), (1, 45), (1, 71), (1, 16), (1, 77), (1, 63), (1, 64), (1, 80), (1, 27), (1, 82), (1, 34), (1, 32), (1, 41), (1, 22), (1, 83), (1, 88), (1, 42), (1, 69), (1, 21), (1, 22), (1, 15), (1, 88), (1, 47), (1, 17), (1, 54), (1, 32), (1, 40), (1, 100), (1, 9), (1, 40), (1, 52), (1, 20), (1, 13), (1, 87), (1, 23), (1, 68), (1, 80), (1, 71), (1, 90), (1, 81), (1, 85), (1, 75), (1, 18), (1, 57), (1, 29), (1, 21), (1, 53), (1, 68), (1, 83), (1, 39), (1, 95), (1, 14), (1, 95), (1, 72), (1, 91), (1, 70), (1, 25), (1, 58), (1, 12), (1, 27), (1, 35), (1, 71), (1, 90), (1, 56), (1, 59), (1, 92), (1, 4), (1, 82), (1, 97), (1, 56), (1, 13), (1, 46), (1, 42), (1, 35), (1, 4), (1, 53), (1, 34), (1, 7), (1, 31)]\n",
            "[(1, [97, 99, 62, 90, 0, 49, 25, 98, 42, 39, 8, 14, 99, 39, 20, 80, 50, 3, 62, 76, 65, 49, 45, 71, 16, 77, 63, 64, 80, 27, 82, 34, 32, 41, 22, 83, 88, 42, 69, 21, 22, 15, 88, 47, 17, 54, 32, 40, 100, 9, 40, 52, 20, 13, 87, 23, 68, 80, 71, 90, 81, 85, 75, 18, 57, 29, 21, 53, 68, 83, 39, 95, 14, 95, 72, 91, 70, 25, 58, 12, 27, 35, 71, 90, 56, 59, 92, 4, 82, 97, 56, 13, 46, 42, 35, 4, 53, 34, 7, 31])]\n",
            "[51.66]\n"
          ]
        }
      ]
    },
    {
      "cell_type": "markdown",
      "metadata": {
        "id": "5SgEjCZyGnu6"
      },
      "source": [
        "### Drop duplicates (set construction, unique elements, distinct)\n",
        "\n",
        "Реализуйте распределённую операцию исключения дубликатов"
      ]
    },
    {
      "cell_type": "code",
      "metadata": {
        "id": "okjbyApjGhMt",
        "colab": {
          "base_uri": "https://localhost:8080/"
        },
        "outputId": "54f6bcfb-117a-4f68-9406-52857199682b"
      },
      "source": [
        "def flatten(nested_iterable):\n",
        "  for iterable in nested_iterable:\n",
        "    for element in iterable:\n",
        "      yield element\n",
        "\n",
        "def groupbykey(iterable):\n",
        "  t = {}\n",
        "  for (k2, v2) in iterable:\n",
        "    t[k2] = t.get(k2, []) + [v2]\n",
        "  return t.items()\n",
        "\n",
        "def groupbykey_distributed(map_partitions, PARTITIONER):\n",
        "  global reducers\n",
        "  partitions = [dict() for _ in range(reducers)]\n",
        "  for map_partition in map_partitions:\n",
        "    for (k2, v2) in map_partition:\n",
        "      p = partitions[PARTITIONER(k2)]\n",
        "      p[k2] = p.get(k2, []) + [v2]\n",
        "  return [(partition_id, sorted(partition.items(), key=lambda x: x[0])) for (partition_id, partition) in enumerate(partitions)]\n",
        "\n",
        "def PARTITIONER(obj):\n",
        "  global reducers\n",
        "  return hash(obj) % reducers\n",
        "\n",
        "def MapReduceDistributed(INPUTFORMAT, MAP, REDUCE, PARTITIONER=PARTITIONER, COMBINER=None):\n",
        "  map_partitions = map(lambda record_reader: flatten(map(lambda k1v1: MAP(*k1v1), record_reader)), INPUTFORMAT())\n",
        "  if COMBINER != None:\n",
        "    map_partitions = map(lambda map_partition: flatten(map(lambda k2v2: COMBINER(*k2v2), groupbykey(map_partition))), map_partitions)\n",
        "  reduce_partitions = groupbykey_distributed(map_partitions, PARTITIONER) # shuffle\n",
        "  reduce_outputs = map(lambda reduce_partition: (reduce_partition[0], flatten(map(lambda reduce_input_group: REDUCE(*reduce_input_group), reduce_partition[1]))), reduce_partitions)\n",
        "\n",
        "  print(\"{} key-value pairs were sent over a network.\".format(sum([len(vs) for (k,vs) in flatten([partition for (partition_id, partition) in reduce_partitions])])))\n",
        "  return reduce_outputs\n",
        "\n",
        "\n",
        "# ===================================================================================================================================================================================\n",
        "\n",
        "from typing import Iterator\n",
        "import numpy as np\n",
        "\n",
        "d1 = \"\"\"\n",
        "it is what it is\n",
        "it is what it is\n",
        "it is what it is\"\"\"\n",
        "d2 = \"\"\"\n",
        "what is it\n",
        "what is it\"\"\"\n",
        "d3 = \"\"\"\n",
        "it is a banana\"\"\"\n",
        "documents = [d1, d2, d3, d1, d2, d3]\n",
        "\n",
        "maps = 3\n",
        "reducers = 2\n",
        "\n",
        "def INPUTFORMAT():\n",
        "  global maps\n",
        "\n",
        "  def RECORDREADER(split):\n",
        "    for (docid, document) in enumerate(split):\n",
        "      for (lineid, line) in enumerate(document.split('\\n')):\n",
        "        yield (\"{}:{}\".format(docid,lineid), line)\n",
        "\n",
        "  split_size =  int(np.ceil(len(documents)/maps))\n",
        "  for i in range(0, len(documents), split_size):\n",
        "    yield RECORDREADER(documents[i:i+split_size])\n",
        "\n",
        "def MAP(docId:str, line:str):\n",
        "  for word in line.split(\" \"):\n",
        "    yield (word, word)\n",
        "\n",
        "def REDUCE(key:str, value:Iterator[str]):\n",
        "  yield key\n",
        "\n",
        "# try to set COMBINER=REDUCER and look at the number of values sent over the network\n",
        "partitioned_output = MapReduceDistributed(INPUTFORMAT, MAP, REDUCE, COMBINER=None)\n",
        "partitioned_output = [(partition_id, list(partition)) for (partition_id, partition) in partitioned_output]\n",
        "partitioned_output"
      ],
      "execution_count": 78,
      "outputs": [
        {
          "output_type": "stream",
          "name": "stdout",
          "text": [
            "56 key-value pairs were sent over a network.\n"
          ]
        },
        {
          "output_type": "execute_result",
          "data": {
            "text/plain": [
              "[(0, ['', 'a', 'banana', 'it', 'what']), (1, ['is'])]"
            ]
          },
          "metadata": {},
          "execution_count": 78
        }
      ]
    },
    {
      "cell_type": "markdown",
      "metadata": {
        "id": "e7sRGoTXuJze"
      },
      "source": [
        "#Операторы реляционной алгебры\n",
        "### Selection (Выборка)\n",
        "\n",
        "**The Map Function**: Для  каждого кортежа $t \\in R$ вычисляется истинность предиката $C$. В случае истины создаётся пара ключ-значение $(t, t)$. В паре ключ и значение одинаковы, равны $t$.\n",
        "\n",
        "**The Reduce Function:** Роль функции Reduce выполняет функция идентичности, которая возвращает то же значение, что получила на вход.\n",
        "\n"
      ]
    },
    {
      "cell_type": "code",
      "metadata": {
        "id": "4nKIKe59uIfc",
        "colab": {
          "base_uri": "https://localhost:8080/"
        },
        "outputId": "889d14fe-25fa-467b-cfba-9d8b7471bd23"
      },
      "source": [
        "from collections import defaultdict\n",
        "\n",
        "def MAP(el_list):\n",
        "    mapped_result = defaultdict(list)\n",
        "    for t in el_list:\n",
        "        if C(t):  # Предикат C\n",
        "            mapped_result[t].append(t)\n",
        "    return mapped_result.items()\n",
        "\n",
        "\n",
        "def REDUCE(mapped_items):\n",
        "    reduced_result = []\n",
        "    print(mapped_items)\n",
        "    for values in mapped_items:\n",
        "        for value in values:\n",
        "            reduced_result.append(value[0])\n",
        "    return reduced_result\n",
        "\n",
        "def C(t):\n",
        "    return t[0] % 2 == 0  # Выбираем только кортежи с четным первым элементом\n",
        "\n",
        "\n",
        "def RECORDREADER(count):\n",
        "    return [(random.randint(0, 100), random.randint(0, 100), random.randint(0, 100)) for i in range(count)]\n",
        "\n",
        "record = RECORDREADER(100)\n",
        "print(record)\n",
        "\n",
        "part_count = 5\n",
        "record_partitional = [record[d:d + part_count] for d in range(0, len(record), part_count)]\n",
        "print(record_partitional)\n",
        "\n",
        "print(REDUCE(list(map(lambda x: MAP(x), record_partitional))))"
      ],
      "execution_count": 79,
      "outputs": [
        {
          "output_type": "stream",
          "name": "stdout",
          "text": [
            "[(39, 88, 80), (98, 93, 79), (80, 24, 13), (89, 19, 34), (76, 96, 20), (67, 8, 19), (59, 27, 43), (70, 92, 64), (34, 15, 77), (51, 50, 46), (66, 7, 84), (49, 84, 65), (87, 78, 37), (26, 93, 62), (65, 26, 6), (1, 72, 57), (7, 7, 91), (8, 54, 55), (77, 63, 25), (60, 48, 19), (65, 26, 75), (75, 72, 85), (58, 64, 94), (9, 54, 95), (30, 18, 30), (1, 50, 70), (49, 33, 25), (80, 68, 11), (57, 46, 99), (22, 53, 100), (14, 15, 46), (34, 48, 15), (45, 1, 15), (35, 56, 38), (29, 72, 55), (48, 30, 62), (30, 30, 76), (87, 64, 46), (59, 68, 28), (27, 98, 68), (27, 67, 1), (28, 14, 65), (41, 79, 48), (22, 13, 26), (24, 85, 33), (100, 88, 82), (14, 56, 70), (0, 65, 84), (49, 7, 27), (81, 14, 70), (64, 62, 83), (35, 94, 0), (15, 48, 68), (46, 51, 61), (44, 0, 84), (70, 53, 2), (6, 0, 65), (86, 51, 43), (86, 17, 46), (0, 94, 34), (86, 5, 86), (26, 29, 66), (45, 36, 78), (13, 40, 73), (76, 23, 21), (22, 4, 71), (62, 55, 5), (84, 25, 23), (48, 72, 92), (31, 29, 66), (13, 9, 23), (95, 96, 44), (77, 99, 37), (66, 53, 72), (10, 42, 86), (89, 33, 60), (39, 94, 42), (75, 41, 47), (38, 1, 28), (51, 40, 7), (54, 76, 68), (14, 6, 87), (53, 100, 90), (35, 11, 91), (77, 40, 24), (99, 17, 30), (49, 32, 73), (51, 43, 14), (44, 51, 14), (84, 41, 16), (60, 47, 49), (39, 12, 66), (16, 30, 85), (20, 32, 13), (49, 42, 56), (35, 25, 2), (52, 54, 52), (4, 46, 47), (87, 95, 18), (29, 38, 34)]\n",
            "[[(39, 88, 80), (98, 93, 79), (80, 24, 13), (89, 19, 34), (76, 96, 20)], [(67, 8, 19), (59, 27, 43), (70, 92, 64), (34, 15, 77), (51, 50, 46)], [(66, 7, 84), (49, 84, 65), (87, 78, 37), (26, 93, 62), (65, 26, 6)], [(1, 72, 57), (7, 7, 91), (8, 54, 55), (77, 63, 25), (60, 48, 19)], [(65, 26, 75), (75, 72, 85), (58, 64, 94), (9, 54, 95), (30, 18, 30)], [(1, 50, 70), (49, 33, 25), (80, 68, 11), (57, 46, 99), (22, 53, 100)], [(14, 15, 46), (34, 48, 15), (45, 1, 15), (35, 56, 38), (29, 72, 55)], [(48, 30, 62), (30, 30, 76), (87, 64, 46), (59, 68, 28), (27, 98, 68)], [(27, 67, 1), (28, 14, 65), (41, 79, 48), (22, 13, 26), (24, 85, 33)], [(100, 88, 82), (14, 56, 70), (0, 65, 84), (49, 7, 27), (81, 14, 70)], [(64, 62, 83), (35, 94, 0), (15, 48, 68), (46, 51, 61), (44, 0, 84)], [(70, 53, 2), (6, 0, 65), (86, 51, 43), (86, 17, 46), (0, 94, 34)], [(86, 5, 86), (26, 29, 66), (45, 36, 78), (13, 40, 73), (76, 23, 21)], [(22, 4, 71), (62, 55, 5), (84, 25, 23), (48, 72, 92), (31, 29, 66)], [(13, 9, 23), (95, 96, 44), (77, 99, 37), (66, 53, 72), (10, 42, 86)], [(89, 33, 60), (39, 94, 42), (75, 41, 47), (38, 1, 28), (51, 40, 7)], [(54, 76, 68), (14, 6, 87), (53, 100, 90), (35, 11, 91), (77, 40, 24)], [(99, 17, 30), (49, 32, 73), (51, 43, 14), (44, 51, 14), (84, 41, 16)], [(60, 47, 49), (39, 12, 66), (16, 30, 85), (20, 32, 13), (49, 42, 56)], [(35, 25, 2), (52, 54, 52), (4, 46, 47), (87, 95, 18), (29, 38, 34)]]\n",
            "[dict_items([((98, 93, 79), [(98, 93, 79)]), ((80, 24, 13), [(80, 24, 13)]), ((76, 96, 20), [(76, 96, 20)])]), dict_items([((70, 92, 64), [(70, 92, 64)]), ((34, 15, 77), [(34, 15, 77)])]), dict_items([((66, 7, 84), [(66, 7, 84)]), ((26, 93, 62), [(26, 93, 62)])]), dict_items([((8, 54, 55), [(8, 54, 55)]), ((60, 48, 19), [(60, 48, 19)])]), dict_items([((58, 64, 94), [(58, 64, 94)]), ((30, 18, 30), [(30, 18, 30)])]), dict_items([((80, 68, 11), [(80, 68, 11)]), ((22, 53, 100), [(22, 53, 100)])]), dict_items([((14, 15, 46), [(14, 15, 46)]), ((34, 48, 15), [(34, 48, 15)])]), dict_items([((48, 30, 62), [(48, 30, 62)]), ((30, 30, 76), [(30, 30, 76)])]), dict_items([((28, 14, 65), [(28, 14, 65)]), ((22, 13, 26), [(22, 13, 26)]), ((24, 85, 33), [(24, 85, 33)])]), dict_items([((100, 88, 82), [(100, 88, 82)]), ((14, 56, 70), [(14, 56, 70)]), ((0, 65, 84), [(0, 65, 84)])]), dict_items([((64, 62, 83), [(64, 62, 83)]), ((46, 51, 61), [(46, 51, 61)]), ((44, 0, 84), [(44, 0, 84)])]), dict_items([((70, 53, 2), [(70, 53, 2)]), ((6, 0, 65), [(6, 0, 65)]), ((86, 51, 43), [(86, 51, 43)]), ((86, 17, 46), [(86, 17, 46)]), ((0, 94, 34), [(0, 94, 34)])]), dict_items([((86, 5, 86), [(86, 5, 86)]), ((26, 29, 66), [(26, 29, 66)]), ((76, 23, 21), [(76, 23, 21)])]), dict_items([((22, 4, 71), [(22, 4, 71)]), ((62, 55, 5), [(62, 55, 5)]), ((84, 25, 23), [(84, 25, 23)]), ((48, 72, 92), [(48, 72, 92)])]), dict_items([((66, 53, 72), [(66, 53, 72)]), ((10, 42, 86), [(10, 42, 86)])]), dict_items([((38, 1, 28), [(38, 1, 28)])]), dict_items([((54, 76, 68), [(54, 76, 68)]), ((14, 6, 87), [(14, 6, 87)])]), dict_items([((44, 51, 14), [(44, 51, 14)]), ((84, 41, 16), [(84, 41, 16)])]), dict_items([((60, 47, 49), [(60, 47, 49)]), ((16, 30, 85), [(16, 30, 85)]), ((20, 32, 13), [(20, 32, 13)])]), dict_items([((52, 54, 52), [(52, 54, 52)]), ((4, 46, 47), [(4, 46, 47)])])]\n",
            "[(98, 93, 79), (80, 24, 13), (76, 96, 20), (70, 92, 64), (34, 15, 77), (66, 7, 84), (26, 93, 62), (8, 54, 55), (60, 48, 19), (58, 64, 94), (30, 18, 30), (80, 68, 11), (22, 53, 100), (14, 15, 46), (34, 48, 15), (48, 30, 62), (30, 30, 76), (28, 14, 65), (22, 13, 26), (24, 85, 33), (100, 88, 82), (14, 56, 70), (0, 65, 84), (64, 62, 83), (46, 51, 61), (44, 0, 84), (70, 53, 2), (6, 0, 65), (86, 51, 43), (86, 17, 46), (0, 94, 34), (86, 5, 86), (26, 29, 66), (76, 23, 21), (22, 4, 71), (62, 55, 5), (84, 25, 23), (48, 72, 92), (66, 53, 72), (10, 42, 86), (38, 1, 28), (54, 76, 68), (14, 6, 87), (44, 51, 14), (84, 41, 16), (60, 47, 49), (16, 30, 85), (20, 32, 13), (52, 54, 52), (4, 46, 47)]\n"
          ]
        }
      ]
    },
    {
      "cell_type": "markdown",
      "metadata": {
        "id": "w27Ca-_Ku85V"
      },
      "source": [
        "### Projection (Проекция)\n",
        "\n",
        "Проекция на множество атрибутов $S$.\n",
        "\n",
        "**The Map Function:** Для каждого кортежа $t \\in R$ создайте кортеж $t′$, исключая  из $t$ те значения, атрибуты которых не принадлежат  $S$. Верните пару $(t′, t′)$.\n",
        "\n",
        "**The Reduce Function:** Для каждого ключа $t′$, созданного любой Map задачей, вы получаете одну или несколько пар $(t′, t′)$. Reduce функция преобразует $(t′, [t′, t′, . . . , t′])$ в $(t′, t′)$, так, что для ключа $t′$ возвращается одна пара  $(t′, t′)$."
      ]
    },
    {
      "cell_type": "code",
      "metadata": {
        "id": "BEvuY4GqvhS6",
        "colab": {
          "base_uri": "https://localhost:8080/"
        },
        "outputId": "7f6d04e7-170c-45d0-ff69-c722a39080a5"
      },
      "source": [
        "S = set([1 ,12, 56])\n",
        "\n",
        "def MAP(t):\n",
        "  res_list = []\n",
        "  for el in t:\n",
        "    if el in S:\n",
        "      res_list.append(el)\n",
        "    res = tuple(res_list)\n",
        "    return (res, res)\n",
        "\n",
        "\n",
        "def REDUCE(key, values: Iterator[NamedTuple]):\n",
        "    return (key, key)\n",
        "\n",
        "def RECORDREADER(count):\n",
        "    return [(random.randint(0, 100), random.randint(0, 100), random.randint(0, 100)) for i in range(count)]\n",
        "\n",
        "def group_by_key(iterable):\n",
        "  t = {}\n",
        "  for (k2, v2) in iterable:\n",
        "    t[k2] = t.get(k2, []) + [v2]\n",
        "  return t.items()\n",
        "\n",
        "record = RECORDREADER(100)\n",
        "print(record)\n",
        "map_output = list(map(lambda x: MAP(x), RECORDREADER(100)))\n",
        "print(map_output)\n",
        "\n",
        "shuffle_output = group_by_key(map_output)\n",
        "shuffle_output = list(shuffle_output)\n",
        "\n",
        "print(shuffle_output)\n",
        "\n",
        "reduce_output = list(map(lambda x: REDUCE(*x)[0], shuffle_output))\n",
        "print(reduce_output)"
      ],
      "execution_count": 80,
      "outputs": [
        {
          "output_type": "stream",
          "name": "stdout",
          "text": [
            "[(85, 34, 81), (55, 44, 15), (41, 77, 32), (22, 6, 36), (8, 33, 6), (68, 56, 60), (18, 12, 0), (40, 33, 83), (69, 78, 13), (76, 45, 38), (18, 46, 21), (34, 28, 67), (81, 78, 95), (3, 95, 29), (50, 97, 22), (4, 33, 15), (70, 73, 70), (51, 57, 48), (6, 30, 94), (43, 12, 31), (57, 67, 37), (54, 10, 0), (72, 23, 1), (52, 11, 64), (29, 11, 44), (51, 1, 19), (12, 42, 83), (88, 7, 36), (82, 8, 98), (17, 50, 4), (99, 94, 28), (93, 53, 24), (14, 62, 60), (81, 81, 78), (33, 20, 84), (42, 17, 97), (48, 49, 18), (32, 77, 77), (21, 24, 64), (87, 98, 82), (82, 82, 22), (11, 23, 38), (6, 78, 84), (34, 75, 45), (13, 32, 28), (11, 74, 79), (50, 47, 13), (1, 46, 6), (1, 57, 40), (10, 74, 99), (68, 34, 99), (71, 95, 17), (84, 89, 8), (50, 93, 32), (50, 52, 75), (78, 3, 71), (81, 9, 3), (32, 99, 33), (74, 70, 12), (23, 81, 77), (80, 58, 86), (95, 29, 30), (29, 19, 39), (73, 36, 27), (69, 35, 79), (89, 39, 72), (81, 6, 71), (97, 13, 44), (92, 7, 63), (92, 30, 35), (63, 50, 65), (16, 20, 18), (20, 89, 0), (72, 33, 97), (42, 12, 92), (33, 63, 62), (0, 68, 25), (86, 78, 39), (92, 45, 84), (63, 16, 21), (20, 24, 41), (29, 42, 73), (86, 69, 22), (56, 2, 94), (9, 21, 88), (55, 14, 74), (31, 74, 86), (86, 57, 51), (16, 6, 97), (68, 53, 61), (8, 76, 4), (61, 70, 96), (70, 91, 25), (0, 58, 62), (7, 32, 10), (98, 73, 10), (53, 15, 58), (30, 23, 5), (48, 12, 59), (39, 70, 75)]\n",
            "[((), ()), ((), ()), ((), ()), ((), ()), ((), ()), ((1,), (1,)), ((), ()), ((), ()), ((1,), (1,)), ((), ()), ((), ()), ((), ()), ((), ()), ((), ()), ((), ()), ((), ()), ((), ()), ((), ()), ((), ()), ((), ()), ((), ()), ((), ()), ((), ()), ((), ()), ((), ()), ((), ()), ((), ()), ((), ()), ((), ()), ((), ()), ((56,), (56,)), ((), ()), ((56,), (56,)), ((), ()), ((), ()), ((), ()), ((), ()), ((), ()), ((56,), (56,)), ((), ()), ((), ()), ((), ()), ((), ()), ((), ()), ((), ()), ((), ()), ((), ()), ((), ()), ((), ()), ((), ()), ((), ()), ((), ()), ((), ()), ((), ()), ((), ()), ((), ()), ((), ()), ((56,), (56,)), ((), ()), ((), ()), ((), ()), ((), ()), ((), ()), ((), ()), ((), ()), ((), ()), ((), ()), ((), ()), ((), ()), ((), ()), ((), ()), ((), ()), ((), ()), ((), ()), ((), ()), ((), ()), ((), ()), ((), ()), ((), ()), ((), ()), ((), ()), ((), ()), ((), ()), ((), ()), ((), ()), ((), ()), ((), ()), ((), ()), ((), ()), ((), ()), ((), ()), ((), ()), ((), ()), ((), ()), ((), ()), ((), ()), ((), ()), ((), ()), ((), ()), ((), ())]\n",
            "[((), [(), (), (), (), (), (), (), (), (), (), (), (), (), (), (), (), (), (), (), (), (), (), (), (), (), (), (), (), (), (), (), (), (), (), (), (), (), (), (), (), (), (), (), (), (), (), (), (), (), (), (), (), (), (), (), (), (), (), (), (), (), (), (), (), (), (), (), (), (), (), (), (), (), (), (), (), (), (), (), (), (), (), (), (), (), (), (), (), (), (), (), (), (), ()]), ((1,), [(1,), (1,)]), ((56,), [(56,), (56,), (56,), (56,)])]\n",
            "[(), (1,), (56,)]\n"
          ]
        }
      ]
    },
    {
      "cell_type": "markdown",
      "metadata": {
        "id": "7gau6lKXvn2R"
      },
      "source": [
        "### Union (Объединение)\n",
        "\n",
        "**The Map Function:** Превратите каждый входной кортеж $t$ в пару ключ-значение $(t, t)$.\n",
        "\n",
        "**The Reduce Function:** С каждым ключом $t$ будет ассоциировано одно или два значений. В обоих случаях создайте $(t, t)$ в качестве выходного значения."
      ]
    },
    {
      "cell_type": "code",
      "metadata": {
        "id": "Sns7a5agv3nw",
        "colab": {
          "base_uri": "https://localhost:8080/"
        },
        "outputId": "1ec08597-474e-4131-82a9-d8ea32665d3b"
      },
      "source": [
        "def MAP(t):\n",
        "  return (t, t)\n",
        "\n",
        "\n",
        "def REDUCE(key, values: Iterator[NamedTuple]):\n",
        "    return (key, key)\n",
        "\n",
        "def RECORDREADER(count):\n",
        "    return [(random.randint(0, 100), random.randint(0, 100), random.randint(0, 100)) for i in range(count)]\n",
        "\n",
        "def group_by_key(iterable):\n",
        "  t = {}\n",
        "  for (k2, v2) in iterable:\n",
        "    t[k2] = t.get(k2, []) + [v2]\n",
        "  return t.items()\n",
        "\n",
        "record = RECORDREADER(100)\n",
        "print(record)\n",
        "map_output = list(map(lambda x: MAP(x), RECORDREADER(100)))\n",
        "print(map_output)\n",
        "\n",
        "shuffle_output = group_by_key(map_output)\n",
        "shuffle_output = list(shuffle_output)\n",
        "\n",
        "print(shuffle_output)\n",
        "\n",
        "reduce_output = list(map(lambda x: REDUCE(*x)[0], shuffle_output))\n",
        "print(reduce_output)"
      ],
      "execution_count": 81,
      "outputs": [
        {
          "output_type": "stream",
          "name": "stdout",
          "text": [
            "[(54, 84, 5), (62, 29, 67), (76, 2, 7), (22, 7, 40), (51, 92, 77), (11, 70, 86), (82, 6, 60), (90, 0, 73), (60, 57, 91), (67, 70, 19), (69, 100, 16), (71, 71, 95), (25, 32, 13), (31, 14, 49), (1, 19, 82), (43, 35, 22), (74, 35, 45), (46, 24, 84), (35, 67, 64), (2, 64, 17), (92, 59, 33), (30, 87, 85), (66, 1, 20), (8, 36, 78), (10, 59, 35), (93, 84, 61), (22, 6, 7), (0, 3, 59), (42, 48, 35), (75, 35, 76), (58, 50, 85), (77, 63, 5), (24, 15, 28), (17, 32, 62), (30, 9, 96), (54, 20, 25), (91, 76, 74), (25, 50, 48), (60, 35, 30), (25, 58, 71), (59, 80, 20), (44, 93, 18), (11, 55, 1), (54, 60, 23), (8, 63, 3), (8, 12, 51), (23, 72, 39), (9, 69, 20), (24, 26, 70), (30, 95, 81), (28, 37, 51), (51, 4, 39), (60, 76, 9), (66, 94, 61), (8, 1, 36), (29, 40, 56), (5, 31, 61), (43, 58, 90), (4, 20, 56), (58, 50, 42), (94, 2, 31), (21, 44, 3), (61, 84, 68), (68, 72, 48), (83, 71, 68), (94, 46, 10), (60, 40, 8), (81, 10, 31), (14, 85, 62), (36, 23, 23), (2, 32, 83), (0, 27, 47), (3, 86, 80), (13, 34, 66), (41, 13, 55), (84, 48, 12), (91, 44, 50), (50, 25, 77), (26, 52, 57), (85, 89, 65), (61, 5, 6), (33, 97, 1), (84, 9, 72), (20, 41, 18), (79, 81, 52), (37, 67, 70), (15, 81, 17), (67, 59, 30), (51, 43, 21), (23, 94, 96), (31, 17, 61), (18, 46, 89), (82, 38, 33), (57, 83, 35), (82, 87, 52), (30, 49, 84), (3, 17, 33), (42, 85, 46), (49, 92, 72), (88, 34, 15)]\n",
            "[((73, 44, 88), (73, 44, 88)), ((23, 62, 91), (23, 62, 91)), ((82, 44, 88), (82, 44, 88)), ((56, 47, 76), (56, 47, 76)), ((43, 17, 45), (43, 17, 45)), ((73, 90, 86), (73, 90, 86)), ((52, 35, 69), (52, 35, 69)), ((79, 8, 96), (79, 8, 96)), ((39, 73, 15), (39, 73, 15)), ((67, 98, 87), (67, 98, 87)), ((32, 48, 82), (32, 48, 82)), ((24, 8, 66), (24, 8, 66)), ((49, 62, 85), (49, 62, 85)), ((47, 42, 64), (47, 42, 64)), ((27, 28, 11), (27, 28, 11)), ((47, 81, 5), (47, 81, 5)), ((13, 57, 85), (13, 57, 85)), ((50, 43, 18), (50, 43, 18)), ((32, 21, 7), (32, 21, 7)), ((39, 89, 71), (39, 89, 71)), ((46, 1, 32), (46, 1, 32)), ((65, 3, 20), (65, 3, 20)), ((8, 60, 81), (8, 60, 81)), ((31, 63, 65), (31, 63, 65)), ((22, 84, 44), (22, 84, 44)), ((95, 47, 45), (95, 47, 45)), ((58, 58, 42), (58, 58, 42)), ((78, 21, 88), (78, 21, 88)), ((48, 16, 99), (48, 16, 99)), ((12, 41, 6), (12, 41, 6)), ((25, 4, 66), (25, 4, 66)), ((57, 15, 82), (57, 15, 82)), ((2, 98, 96), (2, 98, 96)), ((82, 100, 47), (82, 100, 47)), ((25, 88, 97), (25, 88, 97)), ((24, 51, 86), (24, 51, 86)), ((65, 43, 98), (65, 43, 98)), ((83, 55, 43), (83, 55, 43)), ((74, 11, 81), (74, 11, 81)), ((6, 88, 60), (6, 88, 60)), ((76, 58, 48), (76, 58, 48)), ((63, 64, 17), (63, 64, 17)), ((7, 43, 71), (7, 43, 71)), ((97, 88, 40), (97, 88, 40)), ((43, 80, 95), (43, 80, 95)), ((2, 60, 49), (2, 60, 49)), ((30, 99, 57), (30, 99, 57)), ((86, 68, 26), (86, 68, 26)), ((39, 48, 34), (39, 48, 34)), ((16, 19, 90), (16, 19, 90)), ((52, 82, 38), (52, 82, 38)), ((77, 64, 11), (77, 64, 11)), ((92, 78, 14), (92, 78, 14)), ((94, 72, 0), (94, 72, 0)), ((73, 55, 83), (73, 55, 83)), ((47, 71, 94), (47, 71, 94)), ((57, 31, 90), (57, 31, 90)), ((46, 88, 32), (46, 88, 32)), ((2, 89, 90), (2, 89, 90)), ((26, 28, 75), (26, 28, 75)), ((94, 49, 94), (94, 49, 94)), ((87, 15, 27), (87, 15, 27)), ((10, 70, 2), (10, 70, 2)), ((22, 61, 72), (22, 61, 72)), ((4, 41, 98), (4, 41, 98)), ((74, 44, 34), (74, 44, 34)), ((79, 6, 41), (79, 6, 41)), ((99, 41, 98), (99, 41, 98)), ((3, 21, 51), (3, 21, 51)), ((2, 72, 26), (2, 72, 26)), ((73, 8, 72), (73, 8, 72)), ((43, 19, 77), (43, 19, 77)), ((12, 1, 10), (12, 1, 10)), ((99, 65, 94), (99, 65, 94)), ((96, 0, 1), (96, 0, 1)), ((16, 68, 51), (16, 68, 51)), ((22, 4, 89), (22, 4, 89)), ((31, 16, 91), (31, 16, 91)), ((81, 77, 4), (81, 77, 4)), ((38, 6, 47), (38, 6, 47)), ((67, 20, 21), (67, 20, 21)), ((84, 99, 72), (84, 99, 72)), ((17, 45, 45), (17, 45, 45)), ((33, 73, 65), (33, 73, 65)), ((36, 0, 25), (36, 0, 25)), ((19, 38, 42), (19, 38, 42)), ((69, 17, 72), (69, 17, 72)), ((15, 79, 60), (15, 79, 60)), ((71, 96, 35), (71, 96, 35)), ((94, 88, 93), (94, 88, 93)), ((65, 30, 73), (65, 30, 73)), ((4, 87, 55), (4, 87, 55)), ((86, 94, 23), (86, 94, 23)), ((82, 95, 81), (82, 95, 81)), ((14, 13, 59), (14, 13, 59)), ((83, 16, 93), (83, 16, 93)), ((68, 34, 39), (68, 34, 39)), ((94, 56, 77), (94, 56, 77)), ((36, 72, 30), (36, 72, 30)), ((16, 25, 98), (16, 25, 98))]\n",
            "[((73, 44, 88), [(73, 44, 88)]), ((23, 62, 91), [(23, 62, 91)]), ((82, 44, 88), [(82, 44, 88)]), ((56, 47, 76), [(56, 47, 76)]), ((43, 17, 45), [(43, 17, 45)]), ((73, 90, 86), [(73, 90, 86)]), ((52, 35, 69), [(52, 35, 69)]), ((79, 8, 96), [(79, 8, 96)]), ((39, 73, 15), [(39, 73, 15)]), ((67, 98, 87), [(67, 98, 87)]), ((32, 48, 82), [(32, 48, 82)]), ((24, 8, 66), [(24, 8, 66)]), ((49, 62, 85), [(49, 62, 85)]), ((47, 42, 64), [(47, 42, 64)]), ((27, 28, 11), [(27, 28, 11)]), ((47, 81, 5), [(47, 81, 5)]), ((13, 57, 85), [(13, 57, 85)]), ((50, 43, 18), [(50, 43, 18)]), ((32, 21, 7), [(32, 21, 7)]), ((39, 89, 71), [(39, 89, 71)]), ((46, 1, 32), [(46, 1, 32)]), ((65, 3, 20), [(65, 3, 20)]), ((8, 60, 81), [(8, 60, 81)]), ((31, 63, 65), [(31, 63, 65)]), ((22, 84, 44), [(22, 84, 44)]), ((95, 47, 45), [(95, 47, 45)]), ((58, 58, 42), [(58, 58, 42)]), ((78, 21, 88), [(78, 21, 88)]), ((48, 16, 99), [(48, 16, 99)]), ((12, 41, 6), [(12, 41, 6)]), ((25, 4, 66), [(25, 4, 66)]), ((57, 15, 82), [(57, 15, 82)]), ((2, 98, 96), [(2, 98, 96)]), ((82, 100, 47), [(82, 100, 47)]), ((25, 88, 97), [(25, 88, 97)]), ((24, 51, 86), [(24, 51, 86)]), ((65, 43, 98), [(65, 43, 98)]), ((83, 55, 43), [(83, 55, 43)]), ((74, 11, 81), [(74, 11, 81)]), ((6, 88, 60), [(6, 88, 60)]), ((76, 58, 48), [(76, 58, 48)]), ((63, 64, 17), [(63, 64, 17)]), ((7, 43, 71), [(7, 43, 71)]), ((97, 88, 40), [(97, 88, 40)]), ((43, 80, 95), [(43, 80, 95)]), ((2, 60, 49), [(2, 60, 49)]), ((30, 99, 57), [(30, 99, 57)]), ((86, 68, 26), [(86, 68, 26)]), ((39, 48, 34), [(39, 48, 34)]), ((16, 19, 90), [(16, 19, 90)]), ((52, 82, 38), [(52, 82, 38)]), ((77, 64, 11), [(77, 64, 11)]), ((92, 78, 14), [(92, 78, 14)]), ((94, 72, 0), [(94, 72, 0)]), ((73, 55, 83), [(73, 55, 83)]), ((47, 71, 94), [(47, 71, 94)]), ((57, 31, 90), [(57, 31, 90)]), ((46, 88, 32), [(46, 88, 32)]), ((2, 89, 90), [(2, 89, 90)]), ((26, 28, 75), [(26, 28, 75)]), ((94, 49, 94), [(94, 49, 94)]), ((87, 15, 27), [(87, 15, 27)]), ((10, 70, 2), [(10, 70, 2)]), ((22, 61, 72), [(22, 61, 72)]), ((4, 41, 98), [(4, 41, 98)]), ((74, 44, 34), [(74, 44, 34)]), ((79, 6, 41), [(79, 6, 41)]), ((99, 41, 98), [(99, 41, 98)]), ((3, 21, 51), [(3, 21, 51)]), ((2, 72, 26), [(2, 72, 26)]), ((73, 8, 72), [(73, 8, 72)]), ((43, 19, 77), [(43, 19, 77)]), ((12, 1, 10), [(12, 1, 10)]), ((99, 65, 94), [(99, 65, 94)]), ((96, 0, 1), [(96, 0, 1)]), ((16, 68, 51), [(16, 68, 51)]), ((22, 4, 89), [(22, 4, 89)]), ((31, 16, 91), [(31, 16, 91)]), ((81, 77, 4), [(81, 77, 4)]), ((38, 6, 47), [(38, 6, 47)]), ((67, 20, 21), [(67, 20, 21)]), ((84, 99, 72), [(84, 99, 72)]), ((17, 45, 45), [(17, 45, 45)]), ((33, 73, 65), [(33, 73, 65)]), ((36, 0, 25), [(36, 0, 25)]), ((19, 38, 42), [(19, 38, 42)]), ((69, 17, 72), [(69, 17, 72)]), ((15, 79, 60), [(15, 79, 60)]), ((71, 96, 35), [(71, 96, 35)]), ((94, 88, 93), [(94, 88, 93)]), ((65, 30, 73), [(65, 30, 73)]), ((4, 87, 55), [(4, 87, 55)]), ((86, 94, 23), [(86, 94, 23)]), ((82, 95, 81), [(82, 95, 81)]), ((14, 13, 59), [(14, 13, 59)]), ((83, 16, 93), [(83, 16, 93)]), ((68, 34, 39), [(68, 34, 39)]), ((94, 56, 77), [(94, 56, 77)]), ((36, 72, 30), [(36, 72, 30)]), ((16, 25, 98), [(16, 25, 98)])]\n",
            "[(73, 44, 88), (23, 62, 91), (82, 44, 88), (56, 47, 76), (43, 17, 45), (73, 90, 86), (52, 35, 69), (79, 8, 96), (39, 73, 15), (67, 98, 87), (32, 48, 82), (24, 8, 66), (49, 62, 85), (47, 42, 64), (27, 28, 11), (47, 81, 5), (13, 57, 85), (50, 43, 18), (32, 21, 7), (39, 89, 71), (46, 1, 32), (65, 3, 20), (8, 60, 81), (31, 63, 65), (22, 84, 44), (95, 47, 45), (58, 58, 42), (78, 21, 88), (48, 16, 99), (12, 41, 6), (25, 4, 66), (57, 15, 82), (2, 98, 96), (82, 100, 47), (25, 88, 97), (24, 51, 86), (65, 43, 98), (83, 55, 43), (74, 11, 81), (6, 88, 60), (76, 58, 48), (63, 64, 17), (7, 43, 71), (97, 88, 40), (43, 80, 95), (2, 60, 49), (30, 99, 57), (86, 68, 26), (39, 48, 34), (16, 19, 90), (52, 82, 38), (77, 64, 11), (92, 78, 14), (94, 72, 0), (73, 55, 83), (47, 71, 94), (57, 31, 90), (46, 88, 32), (2, 89, 90), (26, 28, 75), (94, 49, 94), (87, 15, 27), (10, 70, 2), (22, 61, 72), (4, 41, 98), (74, 44, 34), (79, 6, 41), (99, 41, 98), (3, 21, 51), (2, 72, 26), (73, 8, 72), (43, 19, 77), (12, 1, 10), (99, 65, 94), (96, 0, 1), (16, 68, 51), (22, 4, 89), (31, 16, 91), (81, 77, 4), (38, 6, 47), (67, 20, 21), (84, 99, 72), (17, 45, 45), (33, 73, 65), (36, 0, 25), (19, 38, 42), (69, 17, 72), (15, 79, 60), (71, 96, 35), (94, 88, 93), (65, 30, 73), (4, 87, 55), (86, 94, 23), (82, 95, 81), (14, 13, 59), (83, 16, 93), (68, 34, 39), (94, 56, 77), (36, 72, 30), (16, 25, 98)]\n"
          ]
        }
      ]
    },
    {
      "cell_type": "markdown",
      "metadata": {
        "id": "dQ8TuEbjv4J8"
      },
      "source": [
        "### Intersection (Пересечение)\n",
        "\n",
        "**The Map Function:** Превратите каждый кортеж $t$ в пары ключ-значение $(t, t)$.\n",
        "\n",
        "**The Reduce Function:** Если для ключа $t$ есть список из двух элементов $[t, t]$ $-$ создайте пару $(t, t)$. Иначе, ничего не создавайте."
      ]
    },
    {
      "cell_type": "code",
      "metadata": {
        "id": "XKlBZh4IwERR",
        "colab": {
          "base_uri": "https://localhost:8080/"
        },
        "outputId": "cda173e1-9766-409f-898e-3b0d38818e5a"
      },
      "source": [
        "def MAP(t):\n",
        "  return (t, t)\n",
        "\n",
        "\n",
        "def REDUCE(key, values: Iterator[NamedTuple]):\n",
        "  if len(values) == 2:\n",
        "    return (key, key)\n",
        "\n",
        "def RECORDREADER(count):\n",
        "    return [(random.randint(0, 3), random.randint(0, 3)) for i in range(count)]\n",
        "\n",
        "def group_by_key(iterable):\n",
        "  t = {}\n",
        "  for (k2, v2) in iterable:\n",
        "    t[k2] = t.get(k2, []) + [v2]\n",
        "  return t.items()\n",
        "\n",
        "record = RECORDREADER(100)\n",
        "print(record)\n",
        "map_output = list(map(lambda x: MAP(x), RECORDREADER(100)))\n",
        "print(map_output)\n",
        "\n",
        "shuffle_output = group_by_key(map_output)\n",
        "shuffle_output = list(shuffle_output)\n",
        "\n",
        "print(shuffle_output)\n",
        "\n",
        "reduce_output = [el[0] for el in list(map(lambda x: REDUCE(*x), shuffle_output)) if el is not None]\n",
        "print(reduce_output)"
      ],
      "execution_count": 82,
      "outputs": [
        {
          "output_type": "stream",
          "name": "stdout",
          "text": [
            "[(3, 3), (3, 3), (0, 2), (1, 2), (2, 0), (0, 0), (3, 1), (2, 3), (2, 2), (3, 3), (0, 1), (1, 3), (1, 1), (0, 0), (0, 2), (2, 1), (0, 1), (1, 3), (3, 3), (1, 2), (2, 1), (3, 2), (2, 1), (1, 2), (0, 1), (0, 1), (2, 2), (0, 0), (1, 1), (1, 2), (0, 0), (0, 0), (3, 2), (3, 3), (1, 3), (1, 0), (3, 2), (1, 0), (2, 1), (1, 2), (1, 0), (1, 0), (2, 0), (3, 3), (0, 2), (1, 1), (3, 1), (3, 2), (3, 2), (1, 2), (1, 2), (1, 1), (3, 1), (2, 1), (2, 3), (2, 0), (2, 0), (0, 2), (1, 0), (0, 3), (0, 1), (2, 1), (3, 0), (0, 0), (0, 0), (3, 2), (1, 0), (0, 3), (0, 1), (3, 0), (2, 2), (0, 0), (2, 1), (2, 0), (3, 3), (0, 0), (0, 3), (0, 2), (3, 2), (3, 0), (0, 3), (3, 0), (1, 3), (1, 1), (3, 0), (2, 1), (3, 0), (3, 1), (3, 0), (3, 3), (1, 3), (3, 0), (3, 0), (2, 2), (1, 1), (0, 0), (2, 3), (3, 1), (2, 1), (3, 0)]\n",
            "[((2, 3), (2, 3)), ((0, 3), (0, 3)), ((3, 0), (3, 0)), ((0, 3), (0, 3)), ((2, 1), (2, 1)), ((0, 2), (0, 2)), ((1, 2), (1, 2)), ((0, 1), (0, 1)), ((1, 2), (1, 2)), ((2, 3), (2, 3)), ((1, 1), (1, 1)), ((0, 2), (0, 2)), ((3, 2), (3, 2)), ((3, 0), (3, 0)), ((0, 0), (0, 0)), ((0, 1), (0, 1)), ((3, 3), (3, 3)), ((2, 3), (2, 3)), ((0, 1), (0, 1)), ((3, 1), (3, 1)), ((1, 2), (1, 2)), ((2, 0), (2, 0)), ((0, 1), (0, 1)), ((0, 1), (0, 1)), ((0, 1), (0, 1)), ((0, 1), (0, 1)), ((0, 0), (0, 0)), ((0, 2), (0, 2)), ((0, 3), (0, 3)), ((3, 1), (3, 1)), ((2, 0), (2, 0)), ((3, 0), (3, 0)), ((3, 3), (3, 3)), ((2, 0), (2, 0)), ((0, 0), (0, 0)), ((3, 3), (3, 3)), ((0, 1), (0, 1)), ((0, 1), (0, 1)), ((2, 0), (2, 0)), ((0, 0), (0, 0)), ((2, 2), (2, 2)), ((2, 0), (2, 0)), ((1, 1), (1, 1)), ((2, 0), (2, 0)), ((0, 0), (0, 0)), ((2, 2), (2, 2)), ((2, 3), (2, 3)), ((0, 3), (0, 3)), ((1, 2), (1, 2)), ((3, 3), (3, 3)), ((2, 2), (2, 2)), ((1, 2), (1, 2)), ((2, 0), (2, 0)), ((0, 3), (0, 3)), ((3, 0), (3, 0)), ((1, 2), (1, 2)), ((2, 3), (2, 3)), ((3, 1), (3, 1)), ((0, 2), (0, 2)), ((0, 1), (0, 1)), ((0, 3), (0, 3)), ((2, 2), (2, 2)), ((2, 0), (2, 0)), ((1, 0), (1, 0)), ((0, 2), (0, 2)), ((2, 0), (2, 0)), ((3, 2), (3, 2)), ((0, 0), (0, 0)), ((1, 1), (1, 1)), ((2, 2), (2, 2)), ((3, 0), (3, 0)), ((1, 1), (1, 1)), ((2, 1), (2, 1)), ((3, 0), (3, 0)), ((2, 2), (2, 2)), ((0, 3), (0, 3)), ((2, 1), (2, 1)), ((2, 2), (2, 2)), ((2, 0), (2, 0)), ((3, 2), (3, 2)), ((3, 1), (3, 1)), ((2, 3), (2, 3)), ((3, 2), (3, 2)), ((0, 0), (0, 0)), ((3, 1), (3, 1)), ((3, 3), (3, 3)), ((0, 3), (0, 3)), ((0, 2), (0, 2)), ((0, 3), (0, 3)), ((0, 3), (0, 3)), ((1, 1), (1, 1)), ((2, 0), (2, 0)), ((0, 2), (0, 2)), ((1, 1), (1, 1)), ((2, 1), (2, 1)), ((0, 2), (0, 2)), ((2, 0), (2, 0)), ((2, 0), (2, 0)), ((0, 0), (0, 0)), ((3, 1), (3, 1))]\n",
            "[((2, 3), [(2, 3), (2, 3), (2, 3), (2, 3), (2, 3), (2, 3)]), ((0, 3), [(0, 3), (0, 3), (0, 3), (0, 3), (0, 3), (0, 3), (0, 3), (0, 3), (0, 3), (0, 3)]), ((3, 0), [(3, 0), (3, 0), (3, 0), (3, 0), (3, 0), (3, 0)]), ((2, 1), [(2, 1), (2, 1), (2, 1), (2, 1)]), ((0, 2), [(0, 2), (0, 2), (0, 2), (0, 2), (0, 2), (0, 2), (0, 2), (0, 2)]), ((1, 2), [(1, 2), (1, 2), (1, 2), (1, 2), (1, 2), (1, 2)]), ((0, 1), [(0, 1), (0, 1), (0, 1), (0, 1), (0, 1), (0, 1), (0, 1), (0, 1), (0, 1), (0, 1)]), ((1, 1), [(1, 1), (1, 1), (1, 1), (1, 1), (1, 1), (1, 1)]), ((3, 2), [(3, 2), (3, 2), (3, 2), (3, 2)]), ((0, 0), [(0, 0), (0, 0), (0, 0), (0, 0), (0, 0), (0, 0), (0, 0), (0, 0)]), ((3, 3), [(3, 3), (3, 3), (3, 3), (3, 3), (3, 3)]), ((3, 1), [(3, 1), (3, 1), (3, 1), (3, 1), (3, 1), (3, 1)]), ((2, 0), [(2, 0), (2, 0), (2, 0), (2, 0), (2, 0), (2, 0), (2, 0), (2, 0), (2, 0), (2, 0), (2, 0), (2, 0), (2, 0)]), ((2, 2), [(2, 2), (2, 2), (2, 2), (2, 2), (2, 2), (2, 2), (2, 2)]), ((1, 0), [(1, 0)])]\n",
            "[]\n"
          ]
        }
      ]
    },
    {
      "cell_type": "markdown",
      "metadata": {
        "id": "AVOpqoY3wE5k"
      },
      "source": [
        "### Difference (Разница)\n",
        "\n",
        "**The Map Function:** Для кортежа $t \\in R$, создайте пару $(t, R)$, и для кортежа $t \\in S$, создайте пару $(t, S)$. Задумка заключается в том, чтобы значение пары было именем отношения $R$ or $S$, которому принадлежит кортеж (а лучше, единичный бит, по которому можно два отношения различить $R$ or $S$), а не весь набор атрибутов отношения.\n",
        "\n",
        "**The Reduce Function:** Для каждого ключа $t$, если соответствующее значение является списком $[R]$, создайте пару $(t, t)$. В иных случаях не предпринимайте действий."
      ]
    },
    {
      "cell_type": "code",
      "metadata": {
        "id": "QE_AC09lwZIZ",
        "colab": {
          "base_uri": "https://localhost:8080/"
        },
        "outputId": "39738bc2-ab83-44a7-f507-25f4f3f2eba5"
      },
      "source": [
        "rels = [1, 2]\n",
        "class Tuple: # класс кортежа, который хранит данные и имя представления из массива rels выше\n",
        "  def __init__(self, data: tuple, rel_id: int):\n",
        "    self.data = data\n",
        "    self.rel_id = rel_id\n",
        "\n",
        "def get_random_tuple(count):\n",
        "  data = tuple([(random.randint(0, 3), random.randint(0, 3)) for i in range(count)])\n",
        "  rel_id = rels[random.randint(0, len(rels) - 1)]\n",
        "  return Tuple(data, rel_id)\n",
        "\n",
        "\n",
        "def RECORDREADER(count):\n",
        "    return [get_random_tuple(3) for i in range(count)]\n",
        "\n",
        "def MAP(t: Tuple):\n",
        "  return (t.data, t.rel_id)\n",
        "\n",
        "def REDUCE(key, values: Iterator[NamedTuple]):\n",
        "  if values == [rels[0]]: # если соответствующее значение является списком  [R] , создайте пару  (t,t)\n",
        "    return (key, key)\n",
        "\n",
        "def group_by_key(iterable):\n",
        "  t = {}\n",
        "  for (k2, v2) in iterable:\n",
        "    t[k2] = t.get(k2, []) + [v2]\n",
        "  return t.items()\n",
        "\n",
        "record = RECORDREADER(100)\n",
        "print(record)\n",
        "map_output = list(map(lambda x: MAP(x), RECORDREADER(100)))\n",
        "print(map_output)\n",
        "\n",
        "shuffle_output = group_by_key(map_output)\n",
        "shuffle_output = list(shuffle_output)\n",
        "\n",
        "print(shuffle_output)\n",
        "\n",
        "reduce_output = [el[0] for el in list(map(lambda x: REDUCE(*x), shuffle_output)) if el is not None]\n",
        "print(reduce_output)"
      ],
      "execution_count": 83,
      "outputs": [
        {
          "output_type": "stream",
          "name": "stdout",
          "text": [
            "[<__main__.Tuple object at 0x7b4b7c93d060>, <__main__.Tuple object at 0x7b4b7c93da20>, <__main__.Tuple object at 0x7b4b7c93d240>, <__main__.Tuple object at 0x7b4b7c93d3c0>, <__main__.Tuple object at 0x7b4b7c93da80>, <__main__.Tuple object at 0x7b4b7c93f880>, <__main__.Tuple object at 0x7b4b7c93f070>, <__main__.Tuple object at 0x7b4b7c93ca30>, <__main__.Tuple object at 0x7b4b7c93e170>, <__main__.Tuple object at 0x7b4b7c93e0b0>, <__main__.Tuple object at 0x7b4b7c93fd00>, <__main__.Tuple object at 0x7b4b7c93d9c0>, <__main__.Tuple object at 0x7b4b7c93d540>, <__main__.Tuple object at 0x7b4b7c93cbe0>, <__main__.Tuple object at 0x7b4b7c93cc40>, <__main__.Tuple object at 0x7b4b7c93ebc0>, <__main__.Tuple object at 0x7b4b7c93ec50>, <__main__.Tuple object at 0x7b4b7c93ccd0>, <__main__.Tuple object at 0x7b4b7c93dcf0>, <__main__.Tuple object at 0x7b4b7c93c700>, <__main__.Tuple object at 0x7b4b7c93c6a0>, <__main__.Tuple object at 0x7b4b7c93c0a0>, <__main__.Tuple object at 0x7b4b7c93c670>, <__main__.Tuple object at 0x7b4b7c93c6d0>, <__main__.Tuple object at 0x7b4b7c93d030>, <__main__.Tuple object at 0x7b4b7c93d1b0>, <__main__.Tuple object at 0x7b4b7c93fb20>, <__main__.Tuple object at 0x7b4b7c93eaa0>, <__main__.Tuple object at 0x7b4b7c93ea40>, <__main__.Tuple object at 0x7b4b7c93eb00>, <__main__.Tuple object at 0x7b4b7c93c2e0>, <__main__.Tuple object at 0x7b4b7c93f5b0>, <__main__.Tuple object at 0x7b4b7c93f160>, <__main__.Tuple object at 0x7b4b7c93dae0>, <__main__.Tuple object at 0x7b4b7c93e080>, <__main__.Tuple object at 0x7b4b7c93c940>, <__main__.Tuple object at 0x7b4b7c93d7e0>, <__main__.Tuple object at 0x7b4b7c93ca90>, <__main__.Tuple object at 0x7b4b7ca48220>, <__main__.Tuple object at 0x7b4b7ca495a0>, <__main__.Tuple object at 0x7b4b7ca4a5c0>, <__main__.Tuple object at 0x7b4b7ca495d0>, <__main__.Tuple object at 0x7b4b7ca4b1c0>, <__main__.Tuple object at 0x7b4b7ca49690>, <__main__.Tuple object at 0x7b4b7ca48310>, <__main__.Tuple object at 0x7b4b7ca48e80>, <__main__.Tuple object at 0x7b4b7ca4a1d0>, <__main__.Tuple object at 0x7b4b7ca49750>, <__main__.Tuple object at 0x7b4b7ca48d00>, <__main__.Tuple object at 0x7b4b7ca4b820>, <__main__.Tuple object at 0x7b4b7ca4a170>, <__main__.Tuple object at 0x7b4b7ca4bfa0>, <__main__.Tuple object at 0x7b4b7ca48d90>, <__main__.Tuple object at 0x7b4b7ca494b0>, <__main__.Tuple object at 0x7b4b7ca4b910>, <__main__.Tuple object at 0x7b4b7ca48040>, <__main__.Tuple object at 0x7b4b7ca492d0>, <__main__.Tuple object at 0x7b4b7ca48fa0>, <__main__.Tuple object at 0x7b4b7ca4a260>, <__main__.Tuple object at 0x7b4b7ca4baf0>, <__main__.Tuple object at 0x7b4b7ca4b340>, <__main__.Tuple object at 0x7b4b7ca499f0>, <__main__.Tuple object at 0x7b4b7ca4a4d0>, <__main__.Tuple object at 0x7b4b7ca48f40>, <__main__.Tuple object at 0x7b4b7ca48130>, <__main__.Tuple object at 0x7b4b7ca49ba0>, <__main__.Tuple object at 0x7b4b7ca4a5f0>, <__main__.Tuple object at 0x7b4b7ca49c00>, <__main__.Tuple object at 0x7b4b7ca48ac0>, <__main__.Tuple object at 0x7b4b7ca48eb0>, <__main__.Tuple object at 0x7b4b7ca4a350>, <__main__.Tuple object at 0x7b4b7ca4b640>, <__main__.Tuple object at 0x7b4b7ca488b0>, <__main__.Tuple object at 0x7b4b7ca4b4f0>, <__main__.Tuple object at 0x7b4b7ca4bf10>, <__main__.Tuple object at 0x7b4b7ca48610>, <__main__.Tuple object at 0x7b4b7ca4a200>, <__main__.Tuple object at 0x7b4b7ca4b970>, <__main__.Tuple object at 0x7b4b7ca4a6b0>, <__main__.Tuple object at 0x7b4b7ca4a0b0>, <__main__.Tuple object at 0x7b4b7ca4bdf0>, <__main__.Tuple object at 0x7b4b7ca492a0>, <__main__.Tuple object at 0x7b4b7ca49180>, <__main__.Tuple object at 0x7b4b7ca49a50>, <__main__.Tuple object at 0x7b4b7ca49e40>, <__main__.Tuple object at 0x7b4b7ca4b430>, <__main__.Tuple object at 0x7b4b7ca483a0>, <__main__.Tuple object at 0x7b4b7ca4b040>, <__main__.Tuple object at 0x7b4b7ca4a680>, <__main__.Tuple object at 0x7b4b7ca49300>, <__main__.Tuple object at 0x7b4b7ca4b880>, <__main__.Tuple object at 0x7b4b7ca4aaa0>, <__main__.Tuple object at 0x7b4b7ca4b9d0>, <__main__.Tuple object at 0x7b4b7ca4b2b0>, <__main__.Tuple object at 0x7b4b7ca48430>, <__main__.Tuple object at 0x7b4b7ca4ae00>, <__main__.Tuple object at 0x7b4b7ca482b0>, <__main__.Tuple object at 0x7b4b7ca49bd0>, <__main__.Tuple object at 0x7b4b7ca49c30>, <__main__.Tuple object at 0x7b4b7ca485b0>]\n",
            "[(((3, 3), (1, 0), (0, 0)), 1), (((1, 2), (2, 1), (1, 3)), 2), (((2, 3), (0, 0), (3, 1)), 2), (((1, 1), (0, 0), (1, 2)), 1), (((3, 0), (2, 2), (2, 2)), 2), (((3, 0), (1, 2), (2, 1)), 1), (((1, 3), (1, 2), (2, 1)), 2), (((0, 2), (1, 1), (0, 0)), 2), (((3, 2), (2, 2), (2, 0)), 1), (((1, 3), (0, 2), (2, 3)), 2), (((1, 2), (3, 3), (1, 1)), 2), (((0, 0), (2, 3), (3, 2)), 1), (((3, 3), (2, 0), (3, 2)), 1), (((0, 0), (1, 1), (0, 0)), 1), (((1, 2), (3, 1), (1, 1)), 1), (((3, 3), (0, 0), (1, 0)), 1), (((1, 2), (0, 3), (1, 2)), 2), (((3, 2), (1, 1), (1, 2)), 1), (((1, 0), (1, 3), (1, 0)), 2), (((3, 2), (1, 0), (3, 2)), 1), (((1, 3), (2, 2), (1, 2)), 2), (((3, 1), (2, 1), (3, 2)), 2), (((0, 2), (0, 3), (2, 1)), 1), (((3, 3), (2, 3), (1, 0)), 1), (((2, 3), (0, 2), (2, 1)), 1), (((3, 0), (3, 2), (2, 3)), 2), (((1, 0), (3, 3), (0, 1)), 2), (((0, 2), (3, 3), (1, 3)), 1), (((3, 2), (2, 1), (1, 2)), 2), (((1, 3), (3, 1), (2, 2)), 2), (((1, 1), (2, 0), (0, 3)), 1), (((0, 0), (2, 1), (1, 3)), 2), (((3, 1), (0, 2), (1, 0)), 2), (((3, 3), (0, 3), (0, 2)), 2), (((3, 1), (2, 0), (1, 0)), 2), (((0, 1), (0, 2), (1, 2)), 2), (((1, 2), (2, 2), (1, 3)), 2), (((1, 1), (0, 3), (3, 0)), 2), (((1, 0), (2, 0), (1, 1)), 2), (((2, 3), (0, 0), (3, 2)), 1), (((0, 3), (2, 2), (3, 1)), 1), (((1, 1), (3, 0), (3, 0)), 1), (((2, 0), (1, 0), (1, 0)), 2), (((2, 1), (3, 1), (0, 3)), 1), (((1, 0), (3, 1), (1, 0)), 1), (((2, 3), (1, 1), (3, 1)), 1), (((1, 0), (1, 3), (1, 1)), 2), (((2, 0), (0, 2), (3, 3)), 2), (((2, 2), (1, 0), (2, 1)), 2), (((1, 2), (2, 3), (2, 2)), 2), (((2, 3), (2, 3), (3, 1)), 2), (((0, 2), (1, 2), (0, 1)), 1), (((3, 2), (0, 1), (3, 1)), 1), (((2, 0), (1, 2), (0, 0)), 1), (((3, 3), (0, 1), (2, 2)), 2), (((3, 3), (1, 3), (2, 3)), 2), (((2, 2), (1, 2), (2, 3)), 1), (((2, 3), (2, 1), (0, 3)), 1), (((3, 2), (3, 3), (1, 3)), 2), (((2, 2), (1, 3), (3, 1)), 2), (((3, 1), (1, 1), (1, 3)), 2), (((0, 3), (1, 3), (3, 3)), 2), (((1, 0), (0, 1), (2, 1)), 2), (((0, 2), (1, 0), (3, 0)), 1), (((2, 3), (1, 0), (3, 0)), 2), (((0, 2), (2, 3), (0, 0)), 1), (((2, 0), (0, 0), (3, 1)), 1), (((3, 0), (0, 2), (2, 2)), 1), (((3, 2), (3, 3), (1, 3)), 2), (((0, 0), (1, 3), (3, 1)), 1), (((1, 3), (2, 3), (1, 3)), 2), (((3, 3), (2, 1), (1, 0)), 2), (((2, 0), (0, 2), (3, 1)), 1), (((3, 0), (0, 0), (2, 1)), 2), (((1, 1), (2, 3), (2, 2)), 2), (((1, 1), (2, 1), (0, 1)), 1), (((0, 1), (1, 1), (2, 1)), 1), (((2, 2), (2, 3), (3, 2)), 2), (((0, 3), (0, 2), (3, 2)), 2), (((1, 1), (2, 1), (2, 1)), 1), (((3, 0), (0, 2), (0, 0)), 2), (((0, 1), (2, 3), (0, 1)), 2), (((0, 3), (0, 1), (2, 3)), 2), (((1, 0), (2, 1), (1, 0)), 1), (((3, 2), (0, 1), (1, 1)), 2), (((2, 3), (1, 3), (3, 2)), 1), (((3, 2), (0, 1), (1, 0)), 2), (((2, 2), (2, 1), (3, 0)), 1), (((3, 0), (0, 3), (2, 0)), 1), (((3, 1), (2, 3), (1, 2)), 2), (((1, 3), (2, 2), (1, 2)), 1), (((2, 3), (3, 2), (3, 2)), 2), (((1, 0), (3, 1), (1, 1)), 1), (((2, 3), (0, 1), (1, 2)), 1), (((3, 3), (3, 1), (1, 3)), 1), (((0, 2), (0, 0), (1, 0)), 1), (((1, 1), (2, 1), (1, 1)), 2), (((3, 2), (1, 2), (1, 3)), 2), (((2, 2), (0, 1), (2, 2)), 2), (((0, 1), (1, 2), (0, 1)), 2)]\n",
            "[(((3, 3), (1, 0), (0, 0)), [1]), (((1, 2), (2, 1), (1, 3)), [2]), (((2, 3), (0, 0), (3, 1)), [2]), (((1, 1), (0, 0), (1, 2)), [1]), (((3, 0), (2, 2), (2, 2)), [2]), (((3, 0), (1, 2), (2, 1)), [1]), (((1, 3), (1, 2), (2, 1)), [2]), (((0, 2), (1, 1), (0, 0)), [2]), (((3, 2), (2, 2), (2, 0)), [1]), (((1, 3), (0, 2), (2, 3)), [2]), (((1, 2), (3, 3), (1, 1)), [2]), (((0, 0), (2, 3), (3, 2)), [1]), (((3, 3), (2, 0), (3, 2)), [1]), (((0, 0), (1, 1), (0, 0)), [1]), (((1, 2), (3, 1), (1, 1)), [1]), (((3, 3), (0, 0), (1, 0)), [1]), (((1, 2), (0, 3), (1, 2)), [2]), (((3, 2), (1, 1), (1, 2)), [1]), (((1, 0), (1, 3), (1, 0)), [2]), (((3, 2), (1, 0), (3, 2)), [1]), (((1, 3), (2, 2), (1, 2)), [2, 1]), (((3, 1), (2, 1), (3, 2)), [2]), (((0, 2), (0, 3), (2, 1)), [1]), (((3, 3), (2, 3), (1, 0)), [1]), (((2, 3), (0, 2), (2, 1)), [1]), (((3, 0), (3, 2), (2, 3)), [2]), (((1, 0), (3, 3), (0, 1)), [2]), (((0, 2), (3, 3), (1, 3)), [1]), (((3, 2), (2, 1), (1, 2)), [2]), (((1, 3), (3, 1), (2, 2)), [2]), (((1, 1), (2, 0), (0, 3)), [1]), (((0, 0), (2, 1), (1, 3)), [2]), (((3, 1), (0, 2), (1, 0)), [2]), (((3, 3), (0, 3), (0, 2)), [2]), (((3, 1), (2, 0), (1, 0)), [2]), (((0, 1), (0, 2), (1, 2)), [2]), (((1, 2), (2, 2), (1, 3)), [2]), (((1, 1), (0, 3), (3, 0)), [2]), (((1, 0), (2, 0), (1, 1)), [2]), (((2, 3), (0, 0), (3, 2)), [1]), (((0, 3), (2, 2), (3, 1)), [1]), (((1, 1), (3, 0), (3, 0)), [1]), (((2, 0), (1, 0), (1, 0)), [2]), (((2, 1), (3, 1), (0, 3)), [1]), (((1, 0), (3, 1), (1, 0)), [1]), (((2, 3), (1, 1), (3, 1)), [1]), (((1, 0), (1, 3), (1, 1)), [2]), (((2, 0), (0, 2), (3, 3)), [2]), (((2, 2), (1, 0), (2, 1)), [2]), (((1, 2), (2, 3), (2, 2)), [2]), (((2, 3), (2, 3), (3, 1)), [2]), (((0, 2), (1, 2), (0, 1)), [1]), (((3, 2), (0, 1), (3, 1)), [1]), (((2, 0), (1, 2), (0, 0)), [1]), (((3, 3), (0, 1), (2, 2)), [2]), (((3, 3), (1, 3), (2, 3)), [2]), (((2, 2), (1, 2), (2, 3)), [1]), (((2, 3), (2, 1), (0, 3)), [1]), (((3, 2), (3, 3), (1, 3)), [2, 2]), (((2, 2), (1, 3), (3, 1)), [2]), (((3, 1), (1, 1), (1, 3)), [2]), (((0, 3), (1, 3), (3, 3)), [2]), (((1, 0), (0, 1), (2, 1)), [2]), (((0, 2), (1, 0), (3, 0)), [1]), (((2, 3), (1, 0), (3, 0)), [2]), (((0, 2), (2, 3), (0, 0)), [1]), (((2, 0), (0, 0), (3, 1)), [1]), (((3, 0), (0, 2), (2, 2)), [1]), (((0, 0), (1, 3), (3, 1)), [1]), (((1, 3), (2, 3), (1, 3)), [2]), (((3, 3), (2, 1), (1, 0)), [2]), (((2, 0), (0, 2), (3, 1)), [1]), (((3, 0), (0, 0), (2, 1)), [2]), (((1, 1), (2, 3), (2, 2)), [2]), (((1, 1), (2, 1), (0, 1)), [1]), (((0, 1), (1, 1), (2, 1)), [1]), (((2, 2), (2, 3), (3, 2)), [2]), (((0, 3), (0, 2), (3, 2)), [2]), (((1, 1), (2, 1), (2, 1)), [1]), (((3, 0), (0, 2), (0, 0)), [2]), (((0, 1), (2, 3), (0, 1)), [2]), (((0, 3), (0, 1), (2, 3)), [2]), (((1, 0), (2, 1), (1, 0)), [1]), (((3, 2), (0, 1), (1, 1)), [2]), (((2, 3), (1, 3), (3, 2)), [1]), (((3, 2), (0, 1), (1, 0)), [2]), (((2, 2), (2, 1), (3, 0)), [1]), (((3, 0), (0, 3), (2, 0)), [1]), (((3, 1), (2, 3), (1, 2)), [2]), (((2, 3), (3, 2), (3, 2)), [2]), (((1, 0), (3, 1), (1, 1)), [1]), (((2, 3), (0, 1), (1, 2)), [1]), (((3, 3), (3, 1), (1, 3)), [1]), (((0, 2), (0, 0), (1, 0)), [1]), (((1, 1), (2, 1), (1, 1)), [2]), (((3, 2), (1, 2), (1, 3)), [2]), (((2, 2), (0, 1), (2, 2)), [2]), (((0, 1), (1, 2), (0, 1)), [2])]\n",
            "[((3, 3), (1, 0), (0, 0)), ((1, 1), (0, 0), (1, 2)), ((3, 0), (1, 2), (2, 1)), ((3, 2), (2, 2), (2, 0)), ((0, 0), (2, 3), (3, 2)), ((3, 3), (2, 0), (3, 2)), ((0, 0), (1, 1), (0, 0)), ((1, 2), (3, 1), (1, 1)), ((3, 3), (0, 0), (1, 0)), ((3, 2), (1, 1), (1, 2)), ((3, 2), (1, 0), (3, 2)), ((0, 2), (0, 3), (2, 1)), ((3, 3), (2, 3), (1, 0)), ((2, 3), (0, 2), (2, 1)), ((0, 2), (3, 3), (1, 3)), ((1, 1), (2, 0), (0, 3)), ((2, 3), (0, 0), (3, 2)), ((0, 3), (2, 2), (3, 1)), ((1, 1), (3, 0), (3, 0)), ((2, 1), (3, 1), (0, 3)), ((1, 0), (3, 1), (1, 0)), ((2, 3), (1, 1), (3, 1)), ((0, 2), (1, 2), (0, 1)), ((3, 2), (0, 1), (3, 1)), ((2, 0), (1, 2), (0, 0)), ((2, 2), (1, 2), (2, 3)), ((2, 3), (2, 1), (0, 3)), ((0, 2), (1, 0), (3, 0)), ((0, 2), (2, 3), (0, 0)), ((2, 0), (0, 0), (3, 1)), ((3, 0), (0, 2), (2, 2)), ((0, 0), (1, 3), (3, 1)), ((2, 0), (0, 2), (3, 1)), ((1, 1), (2, 1), (0, 1)), ((0, 1), (1, 1), (2, 1)), ((1, 1), (2, 1), (2, 1)), ((1, 0), (2, 1), (1, 0)), ((2, 3), (1, 3), (3, 2)), ((2, 2), (2, 1), (3, 0)), ((3, 0), (0, 3), (2, 0)), ((1, 0), (3, 1), (1, 1)), ((2, 3), (0, 1), (1, 2)), ((3, 3), (3, 1), (1, 3)), ((0, 2), (0, 0), (1, 0))]\n"
          ]
        }
      ]
    },
    {
      "cell_type": "markdown",
      "metadata": {
        "id": "j8I58V2VwhSm"
      },
      "source": [
        "### Natural Join\n",
        "\n",
        "**The Map Function:** Для каждого кортежа $(a, b)$ отношения $R$, создайте пару $(b,(R, a))$. Для каждого кортежа $(b, c)$ отношения $S$, создайте пару $(b,(S, c))$.\n",
        "\n",
        "**The Reduce Function:** Каждый ключ $b$ будет асоциирован со списком пар, которые принимают форму либо $(R, a)$, либо $(S, c)$. Создайте все пары, одни, состоящие из  первого компонента $R$, а другие, из первого компонента $S$, то есть $(R, a)$ и $(S, c)$. На выходе вы получаете последовательность пар ключ-значение из списков ключей и значений. Ключ не нужен. Каждое значение, это тройка $(a, b, c)$ такая, что $(R, a)$ и $(S, c)$ это принадлежат входному списку значений."
      ]
    },
    {
      "cell_type": "code",
      "metadata": {
        "id": "yHiuuTctw86I",
        "colab": {
          "base_uri": "https://localhost:8080/"
        },
        "outputId": "e052d36a-4979-4d2e-d4f9-bad418a1addf"
      },
      "source": [
        "rels = [1, 2]\n",
        "class Tuple: # класс кортежа, который хранит данные и имя представления из массива rels выше\n",
        "  def __init__(self, data: tuple, rel_id: int):\n",
        "    self.data = data\n",
        "    self.rel_id = rel_id\n",
        "\n",
        "def get_random_tuple():\n",
        "  data = (random.randint(0, 3), random.randint(0, 3))\n",
        "  rel_id = rels[random.randint(0, len(rels) - 1)]\n",
        "  return Tuple(data, rel_id)\n",
        "\n",
        "\n",
        "def RECORDREADER(count):\n",
        "  return [get_random_tuple() for i in range(count)]\n",
        "\n",
        "def MAP(t: Tuple):\n",
        "  if t.rel_id == rels[0]:\n",
        "    return (t.data[1], (t.rel_id, t.data[0]))\n",
        "  else:\n",
        "    return (t.data[0], (t.rel_id, t.data[1]))\n",
        "\n",
        "def REDUCE(key, values: Iterator[NamedTuple]):\n",
        "  res = []\n",
        "  for v in values:\n",
        "    res.append((v[0], key, v[1]))\n",
        "  return res\n",
        "\n",
        "def group_by_key(iterable):\n",
        "  t = {}\n",
        "  for (k2, v2) in iterable:\n",
        "    t[k2] = t.get(k2, []) + [v2]\n",
        "  return t.items()\n",
        "\n",
        "record = RECORDREADER(100)\n",
        "print(record)\n",
        "map_output = list(map(lambda x: MAP(x), RECORDREADER(100)))\n",
        "print(map_output)\n",
        "\n",
        "shuffle_output = group_by_key(map_output)\n",
        "shuffle_output = list(shuffle_output)\n",
        "\n",
        "print(shuffle_output)\n",
        "\n",
        "reduce_output = list(map(lambda x: REDUCE(*x), shuffle_output))\n",
        "print(reduce_output)"
      ],
      "execution_count": 84,
      "outputs": [
        {
          "output_type": "stream",
          "name": "stdout",
          "text": [
            "[<__main__.Tuple object at 0x7b4b7ca1efe0>, <__main__.Tuple object at 0x7b4b7ca1fdf0>, <__main__.Tuple object at 0x7b4b7ca1f6d0>, <__main__.Tuple object at 0x7b4b7ca1d360>, <__main__.Tuple object at 0x7b4b7ca1d5d0>, <__main__.Tuple object at 0x7b4b7ca1d9c0>, <__main__.Tuple object at 0x7b4b7ca1c940>, <__main__.Tuple object at 0x7b4b7ca1c2b0>, <__main__.Tuple object at 0x7b4b7ca1c190>, <__main__.Tuple object at 0x7b4b7ca1f790>, <__main__.Tuple object at 0x7b4b7ca1e800>, <__main__.Tuple object at 0x7b4b7ca1f760>, <__main__.Tuple object at 0x7b4b7ca49db0>, <__main__.Tuple object at 0x7b4b7ca4ad10>, <__main__.Tuple object at 0x7b4b7ca48160>, <__main__.Tuple object at 0x7b4b7ca4ae90>, <__main__.Tuple object at 0x7b4b7ca4a080>, <__main__.Tuple object at 0x7b4b7ca4ae60>, <__main__.Tuple object at 0x7b4b7ca49c90>, <__main__.Tuple object at 0x7b4b7ca4ae30>, <__main__.Tuple object at 0x7b4b7ca48df0>, <__main__.Tuple object at 0x7b4b7ca49060>, <__main__.Tuple object at 0x7b4b7ca48400>, <__main__.Tuple object at 0x7b4b7ca48520>, <__main__.Tuple object at 0x7b4b7ca4b370>, <__main__.Tuple object at 0x7b4b7ca4b3d0>, <__main__.Tuple object at 0x7b4b7ca4afb0>, <__main__.Tuple object at 0x7b4b7ca4ba00>, <__main__.Tuple object at 0x7b4b7ca49600>, <__main__.Tuple object at 0x7b4b7ca4ac50>, <__main__.Tuple object at 0x7b4b7ca4bbe0>, <__main__.Tuple object at 0x7b4b7ca4bc40>, <__main__.Tuple object at 0x7b4b7ca49f90>, <__main__.Tuple object at 0x7b4b7ca48550>, <__main__.Tuple object at 0x7b4b7ca494e0>, <__main__.Tuple object at 0x7b4b7ca48250>, <__main__.Tuple object at 0x7b4b7ca480a0>, <__main__.Tuple object at 0x7b4b7ca4bd60>, <__main__.Tuple object at 0x7b4b7ca48790>, <__main__.Tuple object at 0x7b4b7ca48cd0>, <__main__.Tuple object at 0x7b4b7ca4be80>, <__main__.Tuple object at 0x7b4b7ca49fc0>, <__main__.Tuple object at 0x7b4b7ca4a380>, <__main__.Tuple object at 0x7b4b7ca4a050>, <__main__.Tuple object at 0x7b4b7ca4ace0>, <__main__.Tuple object at 0x7b4b7ca499c0>, <__main__.Tuple object at 0x7b4b7ca48940>, <__main__.Tuple object at 0x7b4b7ca48b50>, <__main__.Tuple object at 0x7b4b7ca48d60>, <__main__.Tuple object at 0x7b4b7ca48be0>, <__main__.Tuple object at 0x7b4b7ca48bb0>, <__main__.Tuple object at 0x7b4b7ca48b80>, <__main__.Tuple object at 0x7b4b7ca4a3e0>, <__main__.Tuple object at 0x7b4b7ca49b10>, <__main__.Tuple object at 0x7b4b7ca49ab0>, <__main__.Tuple object at 0x7b4b7ca482e0>, <__main__.Tuple object at 0x7b4b7ca49cc0>, <__main__.Tuple object at 0x7b4b7ca4abf0>, <__main__.Tuple object at 0x7b4b7ca49030>, <__main__.Tuple object at 0x7b4b7ca48730>, <__main__.Tuple object at 0x7b4b7ca4bc10>, <__main__.Tuple object at 0x7b4b7ca48070>, <__main__.Tuple object at 0x7b4b7ca4b5b0>, <__main__.Tuple object at 0x7b4b7ca48f70>, <__main__.Tuple object at 0x7b4b7ca498a0>, <__main__.Tuple object at 0x7b4b7ca48100>, <__main__.Tuple object at 0x7b4b7ca48760>, <__main__.Tuple object at 0x7b4b7ca49090>, <__main__.Tuple object at 0x7b4b7ca4acb0>, <__main__.Tuple object at 0x7b4b7ca4b460>, <__main__.Tuple object at 0x7b4b7ca49630>, <__main__.Tuple object at 0x7b4b7ca4a770>, <__main__.Tuple object at 0x7b4b7ca487c0>, <__main__.Tuple object at 0x7b4b7ca49b70>, <__main__.Tuple object at 0x7b4b7ca4b0d0>, <__main__.Tuple object at 0x7b4b7ca49cf0>, <__main__.Tuple object at 0x7b4b7ca4ada0>, <__main__.Tuple object at 0x7b4b7ca4b730>, <__main__.Tuple object at 0x7b4b7c93c400>, <__main__.Tuple object at 0x7b4b7c93db10>, <__main__.Tuple object at 0x7b4b7c93de70>, <__main__.Tuple object at 0x7b4b7c93dea0>, <__main__.Tuple object at 0x7b4b7c93d9f0>, <__main__.Tuple object at 0x7b4b7c93fa90>, <__main__.Tuple object at 0x7b4b7c93d960>, <__main__.Tuple object at 0x7b4b7c93c1f0>, <__main__.Tuple object at 0x7b4b7c93c910>, <__main__.Tuple object at 0x7b4b7c93c760>, <__main__.Tuple object at 0x7b4b7c93ff10>, <__main__.Tuple object at 0x7b4b7c93cdf0>, <__main__.Tuple object at 0x7b4b7c93f190>, <__main__.Tuple object at 0x7b4b7c93d6f0>, <__main__.Tuple object at 0x7b4b7c93d8d0>, <__main__.Tuple object at 0x7b4b7c93d1e0>, <__main__.Tuple object at 0x7b4b7c93f100>, <__main__.Tuple object at 0x7b4b7c93c250>, <__main__.Tuple object at 0x7b4b7c93f0d0>, <__main__.Tuple object at 0x7b4b7c93fa30>, <__main__.Tuple object at 0x7b4b7c93ee00>, <__main__.Tuple object at 0x7b4b7c93f460>]\n",
            "[(2, (1, 3)), (3, (2, 0)), (3, (2, 3)), (2, (1, 3)), (0, (1, 3)), (0, (1, 2)), (2, (2, 1)), (2, (2, 0)), (1, (1, 1)), (1, (1, 2)), (1, (1, 1)), (3, (1, 2)), (3, (1, 1)), (2, (2, 3)), (0, (2, 1)), (1, (1, 1)), (2, (1, 1)), (2, (1, 1)), (3, (2, 2)), (1, (1, 3)), (2, (1, 0)), (3, (1, 1)), (0, (1, 1)), (0, (1, 1)), (3, (2, 1)), (2, (1, 0)), (2, (2, 2)), (2, (1, 3)), (0, (1, 2)), (2, (1, 0)), (1, (2, 3)), (1, (1, 3)), (0, (2, 1)), (0, (2, 1)), (0, (1, 3)), (3, (1, 0)), (3, (2, 3)), (2, (1, 3)), (3, (2, 2)), (2, (2, 2)), (0, (2, 2)), (3, (1, 1)), (3, (2, 0)), (2, (2, 1)), (2, (2, 2)), (0, (1, 0)), (1, (2, 0)), (1, (2, 0)), (1, (2, 1)), (2, (2, 1)), (0, (1, 1)), (1, (2, 2)), (0, (1, 1)), (0, (1, 1)), (1, (2, 1)), (3, (2, 1)), (2, (1, 1)), (0, (1, 3)), (0, (1, 2)), (2, (1, 0)), (3, (2, 0)), (3, (1, 2)), (1, (1, 1)), (0, (2, 1)), (3, (1, 2)), (2, (1, 3)), (3, (1, 2)), (3, (1, 1)), (3, (1, 0)), (1, (1, 0)), (0, (1, 0)), (0, (1, 0)), (2, (2, 0)), (1, (1, 3)), (2, (2, 0)), (2, (2, 2)), (3, (1, 0)), (0, (1, 1)), (1, (1, 2)), (2, (2, 2)), (0, (1, 3)), (0, (1, 0)), (0, (1, 2)), (1, (1, 3)), (1, (1, 3)), (2, (1, 2)), (3, (1, 3)), (1, (1, 1)), (2, (2, 1)), (3, (2, 1)), (0, (1, 3)), (2, (1, 1)), (1, (2, 2)), (3, (2, 3)), (3, (2, 3)), (0, (1, 1)), (3, (1, 2)), (0, (2, 2)), (2, (1, 3)), (0, (2, 1))]\n",
            "[(2, [(1, 3), (1, 3), (2, 1), (2, 0), (2, 3), (1, 1), (1, 1), (1, 0), (1, 0), (2, 2), (1, 3), (1, 0), (1, 3), (2, 2), (2, 1), (2, 2), (2, 1), (1, 1), (1, 0), (1, 3), (2, 0), (2, 0), (2, 2), (2, 2), (1, 2), (2, 1), (1, 1), (1, 3)]), (3, [(2, 0), (2, 3), (1, 2), (1, 1), (2, 2), (1, 1), (2, 1), (1, 0), (2, 3), (2, 2), (1, 1), (2, 0), (2, 1), (2, 0), (1, 2), (1, 2), (1, 2), (1, 1), (1, 0), (1, 0), (1, 3), (2, 1), (2, 3), (2, 3), (1, 2)]), (0, [(1, 3), (1, 2), (2, 1), (1, 1), (1, 1), (1, 2), (2, 1), (2, 1), (1, 3), (2, 2), (1, 0), (1, 1), (1, 1), (1, 1), (1, 3), (1, 2), (2, 1), (1, 0), (1, 0), (1, 1), (1, 3), (1, 0), (1, 2), (1, 3), (1, 1), (2, 2), (2, 1)]), (1, [(1, 1), (1, 2), (1, 1), (1, 1), (1, 3), (2, 3), (1, 3), (2, 0), (2, 0), (2, 1), (2, 2), (2, 1), (1, 1), (1, 0), (1, 3), (1, 2), (1, 3), (1, 3), (1, 1), (2, 2)])]\n",
            "[[(1, 2, 3), (1, 2, 3), (2, 2, 1), (2, 2, 0), (2, 2, 3), (1, 2, 1), (1, 2, 1), (1, 2, 0), (1, 2, 0), (2, 2, 2), (1, 2, 3), (1, 2, 0), (1, 2, 3), (2, 2, 2), (2, 2, 1), (2, 2, 2), (2, 2, 1), (1, 2, 1), (1, 2, 0), (1, 2, 3), (2, 2, 0), (2, 2, 0), (2, 2, 2), (2, 2, 2), (1, 2, 2), (2, 2, 1), (1, 2, 1), (1, 2, 3)], [(2, 3, 0), (2, 3, 3), (1, 3, 2), (1, 3, 1), (2, 3, 2), (1, 3, 1), (2, 3, 1), (1, 3, 0), (2, 3, 3), (2, 3, 2), (1, 3, 1), (2, 3, 0), (2, 3, 1), (2, 3, 0), (1, 3, 2), (1, 3, 2), (1, 3, 2), (1, 3, 1), (1, 3, 0), (1, 3, 0), (1, 3, 3), (2, 3, 1), (2, 3, 3), (2, 3, 3), (1, 3, 2)], [(1, 0, 3), (1, 0, 2), (2, 0, 1), (1, 0, 1), (1, 0, 1), (1, 0, 2), (2, 0, 1), (2, 0, 1), (1, 0, 3), (2, 0, 2), (1, 0, 0), (1, 0, 1), (1, 0, 1), (1, 0, 1), (1, 0, 3), (1, 0, 2), (2, 0, 1), (1, 0, 0), (1, 0, 0), (1, 0, 1), (1, 0, 3), (1, 0, 0), (1, 0, 2), (1, 0, 3), (1, 0, 1), (2, 0, 2), (2, 0, 1)], [(1, 1, 1), (1, 1, 2), (1, 1, 1), (1, 1, 1), (1, 1, 3), (2, 1, 3), (1, 1, 3), (2, 1, 0), (2, 1, 0), (2, 1, 1), (2, 1, 2), (2, 1, 1), (1, 1, 1), (1, 1, 0), (1, 1, 3), (1, 1, 2), (1, 1, 3), (1, 1, 3), (1, 1, 1), (2, 1, 2)]]\n"
          ]
        }
      ]
    },
    {
      "cell_type": "markdown",
      "metadata": {
        "id": "kYdlr0YUxE27"
      },
      "source": [
        "### Grouping and Aggregation (Группировка и аггрегация)\n",
        "\n",
        "**The Map Function:** Для каждого кортежа $(a, b, c$) создайте пару $(a, b)$.\n",
        "\n",
        "**The Reduce Function:** Ключ представляет ту или иную группу. Примение аггрегирующую операцию $\\theta$ к списку значений $[b1, b2, . . . , bn]$ ассоциированных с ключом $a$. Возвращайте в выходной поток $(a, x)$, где $x$ результат применения  $\\theta$ к списку. Например, если $\\theta$ это $SUM$, тогда $x = b1 + b2 + · · · + bn$, а если $\\theta$ is $MAX$, тогда $x$ это максимальное из значений $b1, b2, . . . , bn$."
      ]
    },
    {
      "cell_type": "code",
      "metadata": {
        "id": "MLPckfEGxico",
        "colab": {
          "base_uri": "https://localhost:8080/"
        },
        "outputId": "75793a56-3cf8-4301-8bdc-077a975c9cb8"
      },
      "source": [
        "def get_random_tuple():\n",
        "  return (random.randint(0, 3), random.randint(0, 3), random.randint(0, 3))\n",
        "\n",
        "def RECORDREADER(count):\n",
        "  return [get_random_tuple() for i in range(count)]\n",
        "\n",
        "def MAP(t: Tuple):\n",
        "  return (t[0], t[1])\n",
        "\n",
        "def tetta(values):\n",
        "  return sum(values)\n",
        "\n",
        "\n",
        "def REDUCE(key, values: Iterator[NamedTuple]):\n",
        "  x = tetta(values)\n",
        "  return (key, x)\n",
        "\n",
        "def group_by_key(iterable):\n",
        "  t = {}\n",
        "  for (k2, v2) in iterable:\n",
        "    t[k2] = t.get(k2, []) + [v2]\n",
        "  return t.items()\n",
        "\n",
        "record = RECORDREADER(100)\n",
        "print(record)\n",
        "map_output = list(map(lambda x: MAP(x), RECORDREADER(100)))\n",
        "print(map_output)\n",
        "\n",
        "shuffle_output = group_by_key(map_output)\n",
        "shuffle_output = list(shuffle_output)\n",
        "\n",
        "print(shuffle_output)\n",
        "\n",
        "reduce_output = list(map(lambda x: REDUCE(*x), shuffle_output))\n",
        "print(reduce_output)"
      ],
      "execution_count": 85,
      "outputs": [
        {
          "output_type": "stream",
          "name": "stdout",
          "text": [
            "[(3, 1, 1), (0, 1, 1), (1, 0, 3), (1, 0, 3), (1, 1, 2), (2, 0, 2), (2, 2, 1), (1, 3, 2), (3, 2, 3), (2, 1, 3), (3, 3, 3), (0, 0, 1), (2, 0, 2), (1, 1, 0), (3, 2, 2), (3, 2, 1), (2, 0, 0), (1, 2, 1), (2, 1, 1), (1, 0, 3), (3, 3, 2), (2, 3, 1), (0, 2, 3), (2, 3, 1), (0, 3, 3), (2, 2, 2), (0, 1, 3), (2, 3, 3), (0, 0, 1), (3, 0, 0), (2, 0, 3), (1, 1, 0), (2, 1, 3), (3, 0, 1), (2, 3, 0), (2, 1, 3), (3, 1, 1), (3, 1, 0), (2, 3, 0), (1, 1, 0), (1, 3, 0), (3, 3, 2), (0, 0, 1), (1, 0, 2), (2, 3, 0), (1, 3, 3), (0, 1, 3), (0, 0, 0), (3, 1, 3), (0, 0, 1), (2, 2, 3), (2, 0, 3), (2, 2, 1), (3, 1, 2), (2, 0, 2), (2, 3, 0), (0, 0, 0), (0, 3, 3), (1, 2, 0), (1, 1, 0), (3, 3, 3), (1, 0, 0), (0, 2, 0), (2, 0, 1), (2, 2, 1), (0, 3, 2), (2, 1, 1), (0, 2, 0), (0, 1, 0), (1, 2, 2), (0, 2, 3), (0, 3, 2), (3, 3, 0), (0, 2, 0), (0, 2, 1), (0, 1, 0), (3, 0, 2), (2, 1, 1), (3, 1, 2), (1, 0, 3), (2, 1, 3), (0, 0, 0), (1, 2, 0), (3, 0, 0), (3, 3, 3), (0, 0, 0), (1, 0, 0), (2, 0, 0), (3, 0, 2), (1, 0, 0), (3, 3, 2), (3, 3, 2), (1, 2, 1), (1, 0, 0), (2, 2, 3), (2, 0, 2), (1, 3, 2), (0, 2, 3), (0, 3, 2), (0, 0, 1)]\n",
            "[(2, 3), (2, 2), (2, 1), (3, 3), (0, 1), (2, 0), (3, 0), (3, 2), (1, 0), (0, 1), (2, 3), (0, 2), (2, 1), (3, 3), (3, 3), (3, 0), (3, 2), (2, 1), (1, 2), (1, 3), (0, 2), (3, 0), (3, 1), (0, 0), (0, 2), (3, 3), (0, 2), (1, 2), (3, 1), (0, 2), (3, 2), (3, 3), (2, 0), (1, 2), (0, 1), (3, 3), (0, 3), (2, 1), (2, 0), (2, 2), (1, 2), (1, 1), (0, 1), (3, 1), (2, 1), (3, 0), (0, 0), (3, 1), (1, 3), (3, 1), (3, 3), (1, 0), (1, 3), (3, 1), (2, 3), (1, 2), (3, 1), (2, 1), (1, 0), (0, 1), (3, 2), (0, 2), (1, 1), (3, 0), (0, 2), (2, 3), (1, 2), (0, 1), (2, 3), (3, 3), (3, 3), (3, 0), (3, 3), (2, 0), (0, 2), (1, 3), (1, 1), (3, 3), (3, 2), (3, 3), (3, 1), (2, 0), (3, 2), (1, 0), (2, 3), (1, 0), (2, 2), (1, 3), (0, 0), (1, 3), (1, 2), (1, 2), (2, 0), (3, 1), (0, 2), (0, 1), (0, 2), (1, 3), (2, 0), (1, 2)]\n",
            "[(2, [3, 2, 1, 0, 3, 1, 1, 0, 1, 0, 2, 1, 3, 1, 3, 3, 0, 0, 3, 2, 0, 0]), (3, [3, 0, 2, 3, 3, 0, 2, 0, 1, 3, 1, 2, 3, 3, 1, 0, 1, 1, 3, 1, 1, 2, 0, 3, 3, 0, 3, 3, 2, 3, 1, 2, 1]), (0, [1, 1, 2, 2, 0, 2, 2, 2, 1, 3, 1, 0, 1, 2, 2, 1, 2, 0, 2, 1, 2]), (1, [0, 2, 3, 2, 2, 2, 1, 3, 0, 3, 2, 0, 1, 2, 3, 1, 0, 0, 3, 3, 2, 2, 3, 2])]\n",
            "[(2, 30), (3, 57), (0, 30), (1, 42)]\n"
          ]
        }
      ]
    },
    {
      "cell_type": "markdown",
      "metadata": {
        "id": "03IffTEOJgOb"
      },
      "source": [
        "#"
      ]
    },
    {
      "cell_type": "markdown",
      "metadata": {
        "id": "IIrRgvG4RIS4"
      },
      "source": [
        "### Matrix-Vector multiplication\n",
        "\n",
        "Случай, когда вектор не помещается в памяти Map задачи\n"
      ]
    },
    {
      "cell_type": "code",
      "metadata": {
        "id": "KQhDbiL3zS9r"
      },
      "source": [],
      "execution_count": 85,
      "outputs": []
    },
    {
      "cell_type": "markdown",
      "metadata": {
        "id": "GIo2t7nNxvA9"
      },
      "source": [
        "## Matrix multiplication (Перемножение матриц)\n",
        "\n",
        "Если у нас есть матрица $M$ с элементами $m_{ij}$ в строке $i$ и столбце $j$, и матрица $N$ с элементами $n_{jk}$ в строке $j$ и столбце $k$, тогда их произведение $P = MN$ есть матрица $P$ с элементами $p_{ik}$ в строке $i$ и столбце $k$, где\n",
        "\n",
        "$$p_{ik} =\\sum_{j} m_{ij}n_{jk}$$\n",
        "\n",
        "Необходимым требованием является одинаковое количество столбцов в $M$ и строк в $N$, чтобы операция суммирования по  $j$ была осмысленной. Мы можем размышлять о матрице, как об отношении с тремя атрибутами: номер строки, номер столбца, само значение. Таким образом матрица $M$ предстваляется как отношение $ M(I, J, V )$, с кортежами $(i, j, m_{ij})$, и, аналогично, матрица $N$ представляется как отношение $N(J, K, W)$, с кортежами $(j, k, n_{jk})$. Так как большие матрицы как правило разреженные (большинство значений равно 0), и так как мы можем нулевыми значениями пренебречь (не хранить), такое реляционное представление достаточно эффективно для больших матриц. Однако, возможно, что координаты $i$, $j$, и $k$ неявно закодированы в смещение позиции элемента относительно начала файла, вместо явного хранения. Тогда, функция Map (или Reader) должна быть разработана таким образом, чтобы реконструировать компоненты $I$, $J$, и $K$ кортежей из смещения.\n",
        "\n",
        "Произведение $MN$ это фактически join, за которым следуют группировка по ключу и аггрегация. Таким образом join отношений $M(I, J, V )$ и $N(J, K, W)$, имеющих общим только атрибут $J$, создаст кортежи $(i, j, k, v, w)$ из каждого кортежа $(i, j, v) \\in M$ и кортежа $(j, k, w) \\in N$. Такой 5 компонентный кортеж представляет пару элементов матрицы $(m_{ij} , n_{jk})$. Что нам хотелось бы получить на самом деле, это произведение этих элементов, то есть, 4 компонентный кортеж$(i, j, k, v \\times w)$, так как он представляет произведение $m_{ij}n_{jk}$. Мы представляем отношение как результат одной MapReduce операции, в которой мы можем произвести группировку и аггрегацию, с $I$ и $K$  атрибутами, по которым идёт группировка, и суммой  $V \\times W$.\n",
        "\n",
        "\n",
        "\n"
      ]
    },
    {
      "cell_type": "code",
      "metadata": {
        "id": "1MBkGaLAYVCt"
      },
      "source": [
        "# MapReduce model\n",
        "def flatten(nested_iterable):\n",
        "  for iterable in nested_iterable:\n",
        "    for element in iterable:\n",
        "      yield element\n",
        "\n",
        "def groupbykey(iterable):\n",
        "  t = {}\n",
        "  for (k2, v2) in iterable:\n",
        "    t[k2] = t.get(k2, []) + [v2]\n",
        "  return t.items()\n",
        "\n",
        "def MapReduce(RECORDREADER, MAP, REDUCE):\n",
        "  return flatten(map(lambda x: REDUCE(*x), groupbykey(flatten(map(lambda x: MAP(*x), RECORDREADER())))))"
      ],
      "execution_count": 86,
      "outputs": []
    },
    {
      "cell_type": "markdown",
      "metadata": {
        "id": "sMspsOT0ZB35"
      },
      "source": [
        "Реализуйте перемножение матриц с использованием модельного кода MapReduce для одной машины в случае, когда одна матрица хранится в памяти, а другая генерируется RECORDREADER-ом."
      ]
    },
    {
      "cell_type": "code",
      "metadata": {
        "id": "psP1XekbsEjS"
      },
      "source": [
        "import numpy as np\n",
        "I = 2\n",
        "J = 3\n",
        "K = 4*10\n",
        "small_mat = np.random.rand(I,J) # it is legal to access this from RECORDREADER, MAP, REDUCE\n",
        "big_mat = np.random.rand(J,K)\n",
        "\n",
        "def RECORDREADER():\n",
        "  for j in range(big_mat.shape[0]):\n",
        "    for k in range(big_mat.shape[1]):\n",
        "      yield ((j, k), big_mat[j,k])\n",
        "\n",
        "def MAP(k1, v1):\n",
        "  (j, k) = k1\n",
        "  w = v1\n",
        "  for i in range(small_mat.shape[0]):\n",
        "    yield ((i, k), w * small_mat[i][j])\n",
        "\n",
        "def REDUCE(key, values):\n",
        "  (i, k) = key\n",
        "  el_value = 0\n",
        "  for v in values:\n",
        "    el_value += v\n",
        "  yield ((i, k), el_value)"
      ],
      "execution_count": 87,
      "outputs": []
    },
    {
      "cell_type": "markdown",
      "metadata": {
        "id": "rnt306LHhHrm"
      },
      "source": [
        "Проверьте своё решение"
      ]
    },
    {
      "cell_type": "code",
      "metadata": {
        "id": "Ewy_ZNYqW5a2",
        "colab": {
          "base_uri": "https://localhost:8080/"
        },
        "outputId": "7b9762b2-ef4f-49e8-878e-55922dbf0641"
      },
      "source": [
        "# CHECK THE SOLUTION\n",
        "reference_solution = np.matmul(small_mat, big_mat)\n",
        "solution = MapReduce(RECORDREADER, MAP, REDUCE)\n",
        "\n",
        "def asmatrix(reduce_output):\n",
        "  reduce_output = list(reduce_output)\n",
        "  I = max(i for ((i,k), vw) in reduce_output)+1\n",
        "  K = max(k for ((i,k), vw) in reduce_output)+1\n",
        "  mat = np.empty(shape=(I,K))\n",
        "  for ((i,k), vw) in reduce_output:\n",
        "    mat[i,k] = vw\n",
        "  return mat\n",
        "\n",
        "np.allclose(reference_solution, asmatrix(solution)) # should return true"
      ],
      "execution_count": 88,
      "outputs": [
        {
          "output_type": "execute_result",
          "data": {
            "text/plain": [
              "True"
            ]
          },
          "metadata": {},
          "execution_count": 88
        }
      ]
    },
    {
      "cell_type": "code",
      "metadata": {
        "id": "TK7v4CEcfxqf",
        "colab": {
          "base_uri": "https://localhost:8080/"
        },
        "outputId": "49ed6ff0-143e-453a-eba1-29fcdbe287e5"
      },
      "source": [
        "reduce_output = list(MapReduce(RECORDREADER, MAP, REDUCE))\n",
        "max(i for ((i,k), vw) in reduce_output)"
      ],
      "execution_count": 89,
      "outputs": [
        {
          "output_type": "execute_result",
          "data": {
            "text/plain": [
              "1"
            ]
          },
          "metadata": {},
          "execution_count": 89
        }
      ]
    },
    {
      "cell_type": "markdown",
      "metadata": {
        "id": "i4yyg3kOZqJJ"
      },
      "source": [
        "Реализуйте перемножение матриц  с использованием модельного кода MapReduce для одной машины в случае, когда обе матрицы генерируются в RECORDREADER. Например, сначала одна, а потом другая."
      ]
    },
    {
      "cell_type": "code",
      "metadata": {
        "id": "3B7rIAJCaHZq",
        "colab": {
          "base_uri": "https://localhost:8080/"
        },
        "outputId": "5cd9e3f5-3fd8-4671-b075-790cd03e8699"
      },
      "source": [
        "import numpy as np\n",
        "I = 2\n",
        "J = 3\n",
        "K = 4*10\n",
        "small_mat = np.random.rand(I,J)\n",
        "big_mat = np.random.rand(J,K)\n",
        "reference_solution = np.matmul(small_mat, big_mat)\n",
        "\n",
        "def RECORDREADER():\n",
        "  for i in range(small_mat.shape[0]):\n",
        "    for j in range(small_mat.shape[1]):\n",
        "      yield ((0, i, j), small_mat[i,j]) # первая матрица\n",
        "\n",
        "  for j in range(big_mat.shape[0]):\n",
        "    for k in range(big_mat.shape[1]):\n",
        "      yield ((1, j, k), big_mat[j,k]) # вторая матрица\n",
        "\n",
        "def MAP_JOIN(k1, v1):\n",
        "  (mat_num, i, j) = k1\n",
        "  w = v1\n",
        "  if mat_num == 0:\n",
        "    yield (j, (mat_num, i, w))\n",
        "  else:\n",
        "    yield (i, (mat_num, j, w))\n",
        "\n",
        "\n",
        "def REDUCE_JOIN(key, values):\n",
        "  from_first_mat = [v for v in values if v[0] == 0]\n",
        "  from_second_mat = [v for v in values if v[0] == 1]\n",
        "  for f in from_first_mat:\n",
        "    for s in from_second_mat:\n",
        "      yield ((f[1], s[1]), f[2] * s[2])\n",
        "\n",
        "\n",
        "def MAP_MUL(k1, v1):\n",
        "  (i, k) = k1\n",
        "  yield ((i, k), v1)\n",
        "\n",
        "\n",
        "def REDUCE_MUL(key, values):\n",
        "  res_el_value = 0\n",
        "  for v in values:\n",
        "    res_el_value += v\n",
        "  yield (key, res_el_value)\n",
        "\n",
        "\n",
        "def GET_JOINED():\n",
        "  for j in joined:\n",
        "    yield j\n",
        "\n",
        "joined = MapReduce(RECORDREADER, MAP_JOIN, REDUCE_JOIN)\n",
        "solution = MapReduce(GET_JOINED, MAP_MUL, REDUCE_MUL)\n",
        "np.allclose(reference_solution, asmatrix(solution)) # should return true"
      ],
      "execution_count": 90,
      "outputs": [
        {
          "output_type": "execute_result",
          "data": {
            "text/plain": [
              "True"
            ]
          },
          "metadata": {},
          "execution_count": 90
        }
      ]
    },
    {
      "cell_type": "markdown",
      "metadata": {
        "id": "mXyzQi1DaIwo"
      },
      "source": [
        "Реализуйте перемножение матриц с использованием модельного кода MapReduce Distributed, когда каждая матрица генерируется в своём RECORDREADER."
      ]
    },
    {
      "cell_type": "code",
      "metadata": {
        "id": "TDM_s78Rb5eR",
        "colab": {
          "base_uri": "https://localhost:8080/"
        },
        "outputId": "eb870fa5-e25b-404c-a69a-8ee7779eff79"
      },
      "source": [
        "def flatten(nested_iterable):\n",
        "  for iterable in nested_iterable:\n",
        "    for element in iterable:\n",
        "      yield element\n",
        "\n",
        "def groupbykey(iterable):\n",
        "  t = {}\n",
        "  for (k2, v2) in iterable:\n",
        "    t[k2] = t.get(k2, []) + [v2]\n",
        "  return t.items()\n",
        "\n",
        "def groupbykey_distributed(map_partitions, PARTITIONER):\n",
        "  global reducers\n",
        "  partitions = [dict() for _ in range(reducers)]\n",
        "  for map_partition in map_partitions:\n",
        "    for (k2, v2) in map_partition:\n",
        "      p = partitions[PARTITIONER(k2)]\n",
        "      p[k2] = p.get(k2, []) + [v2]\n",
        "  return [(partition_id, sorted(partition.items(), key=lambda x: x[0])) for (partition_id, partition) in enumerate(partitions)]\n",
        "\n",
        "def PARTITIONER(obj):\n",
        "  global reducers\n",
        "  return hash(obj) % reducers\n",
        "\n",
        "def MapReduceDistributed(INPUTFORMAT, MAP, REDUCE, PARTITIONER=PARTITIONER, COMBINER=None):\n",
        "  map_partitions = map(lambda record_reader: flatten(map(lambda k1v1: MAP(*k1v1), record_reader)), INPUTFORMAT())\n",
        "  if COMBINER != None:\n",
        "    map_partitions = map(lambda map_partition: flatten(map(lambda k2v2: COMBINER(*k2v2), groupbykey(map_partition))), map_partitions)\n",
        "  reduce_partitions = groupbykey_distributed(map_partitions, PARTITIONER) # shuffle\n",
        "  reduce_outputs = map(lambda reduce_partition: (reduce_partition[0], flatten(map(lambda reduce_input_group: REDUCE(*reduce_input_group), reduce_partition[1]))), reduce_partitions)\n",
        "\n",
        "  print(\"{} key-value pairs were sent over a network.\".format(sum([len(vs) for (k,vs) in flatten([partition for (partition_id, partition) in reduce_partitions])])))\n",
        "  return reduce_outputs\n",
        "\n",
        "def asmatrix(reduce_output):\n",
        "  reduce_output = list(reduce_output)\n",
        "  I = max(i for ((i,k), vw) in reduce_output)+1\n",
        "  K = max(k for ((i,k), vw) in reduce_output)+1\n",
        "  mat = np.empty(shape=(I,K))\n",
        "  for ((i,k), vw) in reduce_output:\n",
        "    mat[i,k] = vw\n",
        "  return mat\n",
        "\n",
        "# ===================================================================================================================================================================================\n",
        "\n",
        "import numpy as np\n",
        "I = 2\n",
        "J = 3\n",
        "K = 4*10\n",
        "small_mat = np.random.rand(I,J)\n",
        "big_mat = np.random.rand(J,K)\n",
        "reference_solution = np.matmul(small_mat, big_mat)\n",
        "\n",
        "def INPUTFORMAT():\n",
        "  first_mat = []\n",
        "  for i in range(small_mat.shape[0]):\n",
        "    for j in range(small_mat.shape[1]):\n",
        "      first_mat.append(((0, i, j), small_mat[i,j])) # первая матрица\n",
        "  yield first_mat\n",
        "\n",
        "  second_mat = []\n",
        "  for j in range(big_mat.shape[0]):\n",
        "    for k in range(big_mat.shape[1]):\n",
        "      second_mat.append(((1, j, k), big_mat[j,k])) # вторая матрица\n",
        "  yield second_mat\n",
        "\n",
        "\n",
        "def MAP_JOIN(k1, v1):\n",
        "  (mat_num, i, j) = k1\n",
        "  w = v1\n",
        "  if mat_num == 0:\n",
        "    yield (j, (mat_num, i, w))\n",
        "  else:\n",
        "    yield (i, (mat_num, j, w))\n",
        "\n",
        "\n",
        "def REDUCE_JOIN(key, values):\n",
        "  from_first_mat = [v for v in values if v[0] == 0]\n",
        "  from_second_mat = [v for v in values if v[0] == 1]\n",
        "  for f in from_first_mat:\n",
        "    for s in from_second_mat:\n",
        "      yield ((f[1], s[1]), f[2] * s[2])\n",
        "\n",
        "\n",
        "def GET_JOINED():\n",
        "  for j in joined:\n",
        "    print(\"aa\", j)\n",
        "    yield j[1]\n",
        "\n",
        "\n",
        "def MAP_MUL(k1, v1):\n",
        "  yield (k1, v1)\n",
        "\n",
        "\n",
        "def REDUCE_MUL(key, values):\n",
        "  res_val = 0\n",
        "  for v in values:\n",
        "    res_val += v\n",
        "  yield (key, res_val)\n",
        "\n",
        "maps = 4\n",
        "reducers = 2\n",
        "partitioned_output = MapReduceDistributed(INPUTFORMAT, MAP_JOIN, REDUCE_JOIN, COMBINER=None)\n",
        "joined = [(partition_id, list(partition)) for (partition_id, partition) in partitioned_output]\n",
        "print(joined)\n",
        "\n",
        "mul_output = MapReduceDistributed(GET_JOINED, MAP_MUL, REDUCE_MUL, COMBINER=None)\n",
        "pre_result = [(partition_id, list(partition)) for (partition_id, partition) in mul_output]\n",
        "print(pre_result)\n",
        "\n",
        "solution = []\n",
        "for p in pre_result:\n",
        "  for v in p[1]:\n",
        "    solution.append(v)\n",
        "\n",
        "print(solution)\n",
        "np.allclose(reference_solution, asmatrix(solution)) # should return true\n"
      ],
      "execution_count": 91,
      "outputs": [
        {
          "output_type": "stream",
          "name": "stdout",
          "text": [
            "126 key-value pairs were sent over a network.\n",
            "[(0, [((0, 0), 0.004882209977262622), ((0, 1), 0.0038683451450971613), ((0, 2), 0.003390957747262682), ((0, 3), 0.003214427472294149), ((0, 4), 0.0036018560350790443), ((0, 5), 0.0009688484558747747), ((0, 6), 0.004937945352445722), ((0, 7), 0.00024106855149476318), ((0, 8), 0.0036262309305828667), ((0, 9), 0.0028645230944768893), ((0, 10), 0.0029622096829746633), ((0, 11), 0.000612627135925204), ((0, 12), 0.004594738074563853), ((0, 13), 0.0033357819100331572), ((0, 14), 0.0005310222298188597), ((0, 15), 0.0049873557765213045), ((0, 16), 0.0026101958816150484), ((0, 17), 0.0052606402573071335), ((0, 18), 0.003688775428009355), ((0, 19), 0.0035654339981394064), ((0, 20), 0.0011257624299577998), ((0, 21), 0.00515052073444553), ((0, 22), 0.0007713453302701629), ((0, 23), 0.0032375162015068435), ((0, 24), 0.003396008622807865), ((0, 25), 0.0018057050375171655), ((0, 26), 0.004540959918195643), ((0, 27), 0.0026251648417825128), ((0, 28), 0.004967273108999728), ((0, 29), 0.0017190620198806648), ((0, 30), 5.6444344352063374e-05), ((0, 31), 0.0033705088553017035), ((0, 32), 0.005098655333106185), ((0, 33), 0.00430371520783456), ((0, 34), 0.0030265324818666947), ((0, 35), 0.0020397941431426338), ((0, 36), 0.004129665766712022), ((0, 37), 0.003548604003817868), ((0, 38), 0.001412016391007241), ((0, 39), 0.00497588053625449), ((1, 0), 0.3687798441643711), ((1, 1), 0.2921971251598619), ((1, 2), 0.25613746140116733), ((1, 3), 0.24280317066062646), ((1, 4), 0.27206775487024465), ((1, 5), 0.07318238753358963), ((1, 6), 0.3729898398569347), ((1, 7), 0.018209217396875452), ((1, 8), 0.2739089231541337), ((1, 9), 0.2163729920069362), ((1, 10), 0.2237517907581027), ((1, 11), 0.046275055921301045), ((1, 12), 0.3470655295460704), ((1, 13), 0.2519697306501537), ((1, 14), 0.040110994011407705), ((1, 15), 0.37672207762949056), ((1, 16), 0.19716227588396118), ((1, 17), 0.39736473919179516), ((1, 18), 0.27863324884305285), ((1, 19), 0.26931660054273665), ((1, 20), 0.08503495249475403), ((1, 21), 0.3890468133611806), ((1, 22), 0.05826390344100611), ((1, 23), 0.24454718781692766), ((1, 24), 0.2565189814720207), ((1, 25), 0.1363947117071282), ((1, 26), 0.3430033732239789), ((1, 27), 0.19829296277034442), ((1, 28), 0.37520512464436634), ((1, 29), 0.12985009386178212), ((1, 30), 0.004263547985657302), ((1, 31), 0.2545928454944726), ((1, 32), 0.3851291378182351), ((1, 33), 0.32508299132249496), ((1, 34), 0.22861044121805682), ((1, 35), 0.15407673363883126), ((1, 36), 0.31193609144047607), ((1, 37), 0.26804533963587496), ((1, 38), 0.10665726936332004), ((1, 39), 0.3758552903882508), ((0, 0), 0.12817858536652713), ((0, 1), 0.11650023399978002), ((0, 2), 0.2840000537400202), ((0, 3), 0.021846158089859246), ((0, 4), 0.28456349453072005), ((0, 5), 0.24018138425551874), ((0, 6), 0.06879339843635576), ((0, 7), 0.2735355531534772), ((0, 8), 0.22116063564825836), ((0, 9), 0.09232577870424898), ((0, 10), 0.4158797444521804), ((0, 11), 0.14403317026442547), ((0, 12), 0.34218747537105515), ((0, 13), 0.14647330492874278), ((0, 14), 0.051172033719148705), ((0, 15), 0.23915905155425904), ((0, 16), 0.28557329054940506), ((0, 17), 0.23890031550992571), ((0, 18), 0.05195116542234951), ((0, 19), 0.21332507384257676), ((0, 20), 0.3902994729841371), ((0, 21), 0.15700020107143253), ((0, 22), 0.15768942917542986), ((0, 23), 0.43703286942405417), ((0, 24), 0.09111333512243619), ((0, 25), 0.4681797289347698), ((0, 26), 0.4860820749494453), ((0, 27), 0.2837497432440064), ((0, 28), 0.44320917414970257), ((0, 29), 0.2470978668262238), ((0, 30), 0.08433658671073146), ((0, 31), 0.42580521569818586), ((0, 32), 0.4242067661117786), ((0, 33), 0.20357501536228662), ((0, 34), 0.15810372567564188), ((0, 35), 0.3196235543385938), ((0, 36), 0.24865226190413878), ((0, 37), 0.3502079311183882), ((0, 38), 0.17717169148339443), ((0, 39), 0.0063464983090031745), ((1, 0), 0.12529329589440094), ((1, 1), 0.11387782326167882), ((1, 2), 0.2776072357603537), ((1, 3), 0.021354402858181246), ((1, 4), 0.27815799354494203), ((1, 5), 0.23477492094176375), ((1, 6), 0.06724486466456683), ((1, 7), 0.2673782902260613), ((1, 8), 0.2161823278298348), ((1, 9), 0.09024753297748044), ((1, 10), 0.4065183254217925), ((1, 11), 0.1407909953830866), ((1, 12), 0.3344848632899628), ((1, 13), 0.14317620281570298), ((1, 14), 0.050020155425789865), ((1, 15), 0.23377560086598684), ((1, 16), 0.27914505913784354), ((1, 17), 0.23352268894884792), ((1, 18), 0.05078174893808134), ((1, 19), 0.2085231438794828), ((1, 20), 0.3815138637721352), ((1, 21), 0.15346613938727702), ((1, 22), 0.15413985302302938), ((1, 23), 0.4271952952807869), ((1, 24), 0.08906238140152142), ((1, 25), 0.4576410415315997), ((1, 26), 0.47514040720182216), ((1, 27), 0.27736255973313084), ((1, 28), 0.43323257189225695), ((1, 29), 0.24153571405554172), ((1, 30), 0.08243817704225438), ((1, 31), 0.4162203751219126), ((1, 32), 0.4146579065049489), ((1, 33), 0.19899255841806981), ((1, 34), 0.15454482374290934), ((1, 35), 0.3124288542743074), ((1, 36), 0.24305511982739586), ((1, 37), 0.3423247792344632), ((1, 38), 0.17318357120000957), ((1, 39), 0.006203639151184637)]), (1, [((0, 0), 0.38689496117391253), ((0, 1), 0.06568214733388372), ((0, 2), 0.314259758328031), ((0, 3), 0.08869933184676519), ((0, 4), 0.19823242308664693), ((0, 5), 0.3121873237275845), ((0, 6), 0.17255001571416964), ((0, 7), 0.3104668466956982), ((0, 8), 0.028579104865897365), ((0, 9), 0.36877451479882173), ((0, 10), 0.15637629870084474), ((0, 11), 0.33701517288343447), ((0, 12), 0.0868843042377715), ((0, 13), 0.02044850007848319), ((0, 14), 0.19291370454709106), ((0, 15), 0.22009523071353138), ((0, 16), 0.22027817192405705), ((0, 17), 0.3375836303604021), ((0, 18), 0.03712095201039474), ((0, 19), 0.04591040236889899), ((0, 20), 0.048757011831507), ((0, 21), 0.31690367386110674), ((0, 22), 0.14399862001438868), ((0, 23), 0.060549178438003406), ((0, 24), 0.313769169463068), ((0, 25), 0.19960871627210947), ((0, 26), 0.1963957181811052), ((0, 27), 0.11131904954578903), ((0, 28), 0.08488295640997683), ((0, 29), 0.018310377859050833), ((0, 30), 0.18621693573376294), ((0, 31), 0.1411379849315096), ((0, 32), 0.044338884996270665), ((0, 33), 0.22539991924283342), ((0, 34), 0.42779082797077916), ((0, 35), 0.07249688560334917), ((0, 36), 0.4155615983497288), ((0, 37), 0.3449289825378443), ((0, 38), 0.14020281011056454), ((0, 39), 0.4036946870250264), ((1, 0), 0.24108099378182876), ((1, 1), 0.04092769082577776), ((1, 2), 0.19582073287665114), ((1, 3), 0.05527009967904493), ((1, 4), 0.12352207796272316), ((1, 5), 0.1945293627551393), ((1, 6), 0.1075189222915294), ((1, 7), 0.19345730352912233), ((1, 8), 0.017808138367996416), ((1, 9), 0.22978982781103816), ((1, 10), 0.09744079731702056), ((1, 11), 0.21000002830683434), ((1, 12), 0.05413912434044143), ((1, 13), 0.012741816810719769), ((1, 14), 0.12020789173690258), ((1, 15), 0.13714517445784918), ((1, 16), 0.13725916831474347), ((1, 17), 0.21035424406879272), ((1, 18), 0.02313071220581448), ((1, 19), 0.028607571921937178), ((1, 20), 0.030381343893720013), ((1, 21), 0.19746820272804216), ((1, 22), 0.08972804998790337), ((1, 23), 0.037729248440497395), ((1, 24), 0.19551503840406168), ((1, 25), 0.12437967023500225), ((1, 26), 0.12237759512281118), ((1, 27), 0.06936484003285852), ((1, 28), 0.05289204962599209), ((1, 29), 0.011409515588900396), ((1, 30), 0.11603501836645157), ((1, 31), 0.08794553840766686), ((1, 32), 0.027628332055930384), ((1, 33), 0.14045061833974132), ((1, 34), 0.266563921186836), ((1, 35), 0.04517407302052361), ((1, 36), 0.2589436750578001), ((1, 37), 0.21493126103805557), ((1, 38), 0.08736281467689222), ((1, 39), 0.2515491957743284)])]\n",
            "aa (0, [((0, 0), 0.004882209977262622), ((0, 1), 0.0038683451450971613), ((0, 2), 0.003390957747262682), ((0, 3), 0.003214427472294149), ((0, 4), 0.0036018560350790443), ((0, 5), 0.0009688484558747747), ((0, 6), 0.004937945352445722), ((0, 7), 0.00024106855149476318), ((0, 8), 0.0036262309305828667), ((0, 9), 0.0028645230944768893), ((0, 10), 0.0029622096829746633), ((0, 11), 0.000612627135925204), ((0, 12), 0.004594738074563853), ((0, 13), 0.0033357819100331572), ((0, 14), 0.0005310222298188597), ((0, 15), 0.0049873557765213045), ((0, 16), 0.0026101958816150484), ((0, 17), 0.0052606402573071335), ((0, 18), 0.003688775428009355), ((0, 19), 0.0035654339981394064), ((0, 20), 0.0011257624299577998), ((0, 21), 0.00515052073444553), ((0, 22), 0.0007713453302701629), ((0, 23), 0.0032375162015068435), ((0, 24), 0.003396008622807865), ((0, 25), 0.0018057050375171655), ((0, 26), 0.004540959918195643), ((0, 27), 0.0026251648417825128), ((0, 28), 0.004967273108999728), ((0, 29), 0.0017190620198806648), ((0, 30), 5.6444344352063374e-05), ((0, 31), 0.0033705088553017035), ((0, 32), 0.005098655333106185), ((0, 33), 0.00430371520783456), ((0, 34), 0.0030265324818666947), ((0, 35), 0.0020397941431426338), ((0, 36), 0.004129665766712022), ((0, 37), 0.003548604003817868), ((0, 38), 0.001412016391007241), ((0, 39), 0.00497588053625449), ((1, 0), 0.3687798441643711), ((1, 1), 0.2921971251598619), ((1, 2), 0.25613746140116733), ((1, 3), 0.24280317066062646), ((1, 4), 0.27206775487024465), ((1, 5), 0.07318238753358963), ((1, 6), 0.3729898398569347), ((1, 7), 0.018209217396875452), ((1, 8), 0.2739089231541337), ((1, 9), 0.2163729920069362), ((1, 10), 0.2237517907581027), ((1, 11), 0.046275055921301045), ((1, 12), 0.3470655295460704), ((1, 13), 0.2519697306501537), ((1, 14), 0.040110994011407705), ((1, 15), 0.37672207762949056), ((1, 16), 0.19716227588396118), ((1, 17), 0.39736473919179516), ((1, 18), 0.27863324884305285), ((1, 19), 0.26931660054273665), ((1, 20), 0.08503495249475403), ((1, 21), 0.3890468133611806), ((1, 22), 0.05826390344100611), ((1, 23), 0.24454718781692766), ((1, 24), 0.2565189814720207), ((1, 25), 0.1363947117071282), ((1, 26), 0.3430033732239789), ((1, 27), 0.19829296277034442), ((1, 28), 0.37520512464436634), ((1, 29), 0.12985009386178212), ((1, 30), 0.004263547985657302), ((1, 31), 0.2545928454944726), ((1, 32), 0.3851291378182351), ((1, 33), 0.32508299132249496), ((1, 34), 0.22861044121805682), ((1, 35), 0.15407673363883126), ((1, 36), 0.31193609144047607), ((1, 37), 0.26804533963587496), ((1, 38), 0.10665726936332004), ((1, 39), 0.3758552903882508), ((0, 0), 0.12817858536652713), ((0, 1), 0.11650023399978002), ((0, 2), 0.2840000537400202), ((0, 3), 0.021846158089859246), ((0, 4), 0.28456349453072005), ((0, 5), 0.24018138425551874), ((0, 6), 0.06879339843635576), ((0, 7), 0.2735355531534772), ((0, 8), 0.22116063564825836), ((0, 9), 0.09232577870424898), ((0, 10), 0.4158797444521804), ((0, 11), 0.14403317026442547), ((0, 12), 0.34218747537105515), ((0, 13), 0.14647330492874278), ((0, 14), 0.051172033719148705), ((0, 15), 0.23915905155425904), ((0, 16), 0.28557329054940506), ((0, 17), 0.23890031550992571), ((0, 18), 0.05195116542234951), ((0, 19), 0.21332507384257676), ((0, 20), 0.3902994729841371), ((0, 21), 0.15700020107143253), ((0, 22), 0.15768942917542986), ((0, 23), 0.43703286942405417), ((0, 24), 0.09111333512243619), ((0, 25), 0.4681797289347698), ((0, 26), 0.4860820749494453), ((0, 27), 0.2837497432440064), ((0, 28), 0.44320917414970257), ((0, 29), 0.2470978668262238), ((0, 30), 0.08433658671073146), ((0, 31), 0.42580521569818586), ((0, 32), 0.4242067661117786), ((0, 33), 0.20357501536228662), ((0, 34), 0.15810372567564188), ((0, 35), 0.3196235543385938), ((0, 36), 0.24865226190413878), ((0, 37), 0.3502079311183882), ((0, 38), 0.17717169148339443), ((0, 39), 0.0063464983090031745), ((1, 0), 0.12529329589440094), ((1, 1), 0.11387782326167882), ((1, 2), 0.2776072357603537), ((1, 3), 0.021354402858181246), ((1, 4), 0.27815799354494203), ((1, 5), 0.23477492094176375), ((1, 6), 0.06724486466456683), ((1, 7), 0.2673782902260613), ((1, 8), 0.2161823278298348), ((1, 9), 0.09024753297748044), ((1, 10), 0.4065183254217925), ((1, 11), 0.1407909953830866), ((1, 12), 0.3344848632899628), ((1, 13), 0.14317620281570298), ((1, 14), 0.050020155425789865), ((1, 15), 0.23377560086598684), ((1, 16), 0.27914505913784354), ((1, 17), 0.23352268894884792), ((1, 18), 0.05078174893808134), ((1, 19), 0.2085231438794828), ((1, 20), 0.3815138637721352), ((1, 21), 0.15346613938727702), ((1, 22), 0.15413985302302938), ((1, 23), 0.4271952952807869), ((1, 24), 0.08906238140152142), ((1, 25), 0.4576410415315997), ((1, 26), 0.47514040720182216), ((1, 27), 0.27736255973313084), ((1, 28), 0.43323257189225695), ((1, 29), 0.24153571405554172), ((1, 30), 0.08243817704225438), ((1, 31), 0.4162203751219126), ((1, 32), 0.4146579065049489), ((1, 33), 0.19899255841806981), ((1, 34), 0.15454482374290934), ((1, 35), 0.3124288542743074), ((1, 36), 0.24305511982739586), ((1, 37), 0.3423247792344632), ((1, 38), 0.17318357120000957), ((1, 39), 0.006203639151184637)])\n",
            "aa (1, [((0, 0), 0.38689496117391253), ((0, 1), 0.06568214733388372), ((0, 2), 0.314259758328031), ((0, 3), 0.08869933184676519), ((0, 4), 0.19823242308664693), ((0, 5), 0.3121873237275845), ((0, 6), 0.17255001571416964), ((0, 7), 0.3104668466956982), ((0, 8), 0.028579104865897365), ((0, 9), 0.36877451479882173), ((0, 10), 0.15637629870084474), ((0, 11), 0.33701517288343447), ((0, 12), 0.0868843042377715), ((0, 13), 0.02044850007848319), ((0, 14), 0.19291370454709106), ((0, 15), 0.22009523071353138), ((0, 16), 0.22027817192405705), ((0, 17), 0.3375836303604021), ((0, 18), 0.03712095201039474), ((0, 19), 0.04591040236889899), ((0, 20), 0.048757011831507), ((0, 21), 0.31690367386110674), ((0, 22), 0.14399862001438868), ((0, 23), 0.060549178438003406), ((0, 24), 0.313769169463068), ((0, 25), 0.19960871627210947), ((0, 26), 0.1963957181811052), ((0, 27), 0.11131904954578903), ((0, 28), 0.08488295640997683), ((0, 29), 0.018310377859050833), ((0, 30), 0.18621693573376294), ((0, 31), 0.1411379849315096), ((0, 32), 0.044338884996270665), ((0, 33), 0.22539991924283342), ((0, 34), 0.42779082797077916), ((0, 35), 0.07249688560334917), ((0, 36), 0.4155615983497288), ((0, 37), 0.3449289825378443), ((0, 38), 0.14020281011056454), ((0, 39), 0.4036946870250264), ((1, 0), 0.24108099378182876), ((1, 1), 0.04092769082577776), ((1, 2), 0.19582073287665114), ((1, 3), 0.05527009967904493), ((1, 4), 0.12352207796272316), ((1, 5), 0.1945293627551393), ((1, 6), 0.1075189222915294), ((1, 7), 0.19345730352912233), ((1, 8), 0.017808138367996416), ((1, 9), 0.22978982781103816), ((1, 10), 0.09744079731702056), ((1, 11), 0.21000002830683434), ((1, 12), 0.05413912434044143), ((1, 13), 0.012741816810719769), ((1, 14), 0.12020789173690258), ((1, 15), 0.13714517445784918), ((1, 16), 0.13725916831474347), ((1, 17), 0.21035424406879272), ((1, 18), 0.02313071220581448), ((1, 19), 0.028607571921937178), ((1, 20), 0.030381343893720013), ((1, 21), 0.19746820272804216), ((1, 22), 0.08972804998790337), ((1, 23), 0.037729248440497395), ((1, 24), 0.19551503840406168), ((1, 25), 0.12437967023500225), ((1, 26), 0.12237759512281118), ((1, 27), 0.06936484003285852), ((1, 28), 0.05289204962599209), ((1, 29), 0.011409515588900396), ((1, 30), 0.11603501836645157), ((1, 31), 0.08794553840766686), ((1, 32), 0.027628332055930384), ((1, 33), 0.14045061833974132), ((1, 34), 0.266563921186836), ((1, 35), 0.04517407302052361), ((1, 36), 0.2589436750578001), ((1, 37), 0.21493126103805557), ((1, 38), 0.08736281467689222), ((1, 39), 0.2515491957743284)])\n",
            "240 key-value pairs were sent over a network.\n",
            "[(0, [((0, 1), 0.18605072647876092), ((0, 2), 0.6016507698153138), ((0, 4), 0.4863977736524461), ((0, 5), 0.553337556438978), ((0, 8), 0.2533659714447386), ((0, 9), 0.4639648165975476), ((0, 11), 0.48166097028378513), ((0, 12), 0.4336665176833905), ((0, 15), 0.46424163804431173), ((0, 16), 0.5084616583550772), ((0, 18), 0.0927608928607536), ((0, 19), 0.26280091020961516), ((0, 22), 0.3024593945200887), ((0, 23), 0.5008195640635644), ((0, 25), 0.6695941502443964), ((0, 26), 0.6870187530487462), ((0, 29), 0.26712730670515533), ((0, 32), 0.4736443064411554), ((0, 33), 0.4332786498129546), ((0, 36), 0.6683435260205796), ((0, 39), 0.4150170658702841), ((1, 0), 0.7351541338406008), ((1, 1), 0.4470026392473185), ((1, 3), 0.31942767319785265), ((1, 4), 0.6737478263779099), ((1, 7), 0.4790448111520591), ((1, 10), 0.7277109134969157), ((1, 11), 0.397066079611222), ((1, 14), 0.21033904117410016), ((1, 17), 0.8412416722094358), ((1, 18), 0.3525457099869487), ((1, 21), 0.7399811554764997), ((1, 24), 0.5410964012776038), ((1, 25), 0.7184154234737302), ((1, 27), 0.5450203625363338), ((1, 28), 0.8613297461626155), ((1, 31), 0.7587587590240521), ((1, 32), 0.8274153763791144), ((1, 34), 0.6497191861478022), ((1, 35), 0.5116796609336622), ((1, 38), 0.3672036552402218), ((1, 39), 0.6336081253137638)]), (1, [((0, 0), 0.5199557565177023), ((0, 3), 0.11375991740891858), ((0, 6), 0.24628135950297114), ((0, 7), 0.5842434684006701), ((0, 10), 0.5752182528359998), ((0, 13), 0.17025758691725915), ((0, 14), 0.24461676049605863), ((0, 17), 0.5817445861276349), ((0, 20), 0.4401822472456019), ((0, 21), 0.4790543956669848), ((0, 24), 0.40827851320831204), ((0, 27), 0.39769395763157794), ((0, 28), 0.5330594036686791), ((0, 30), 0.27060996678884647), ((0, 31), 0.5703137094849972), ((0, 34), 0.5889210861282878), ((0, 35), 0.3941602340850856), ((0, 37), 0.6986855176600504), ((0, 38), 0.3187865179849662), ((1, 2), 0.7295654300381721), ((1, 5), 0.5024866712304927), ((1, 6), 0.5477536268130309), ((1, 8), 0.5078993893519649), ((1, 9), 0.5364103527954548), ((1, 12), 0.7356895171764746), ((1, 13), 0.4078877502765765), ((1, 15), 0.7476428529533266), ((1, 16), 0.6135665033365482), ((1, 19), 0.5064473163441566), ((1, 20), 0.4969301601606092), ((1, 22), 0.3021318064519388), ((1, 23), 0.709471731538212), ((1, 26), 0.9405213755486123), ((1, 29), 0.38279532350622425), ((1, 30), 0.20273674339436326), ((1, 33), 0.6645261680803061), ((1, 36), 0.8139348863256719), ((1, 37), 0.8253013799083937)])]\n",
            "[((0, 1), 0.18605072647876092), ((0, 2), 0.6016507698153138), ((0, 4), 0.4863977736524461), ((0, 5), 0.553337556438978), ((0, 8), 0.2533659714447386), ((0, 9), 0.4639648165975476), ((0, 11), 0.48166097028378513), ((0, 12), 0.4336665176833905), ((0, 15), 0.46424163804431173), ((0, 16), 0.5084616583550772), ((0, 18), 0.0927608928607536), ((0, 19), 0.26280091020961516), ((0, 22), 0.3024593945200887), ((0, 23), 0.5008195640635644), ((0, 25), 0.6695941502443964), ((0, 26), 0.6870187530487462), ((0, 29), 0.26712730670515533), ((0, 32), 0.4736443064411554), ((0, 33), 0.4332786498129546), ((0, 36), 0.6683435260205796), ((0, 39), 0.4150170658702841), ((1, 0), 0.7351541338406008), ((1, 1), 0.4470026392473185), ((1, 3), 0.31942767319785265), ((1, 4), 0.6737478263779099), ((1, 7), 0.4790448111520591), ((1, 10), 0.7277109134969157), ((1, 11), 0.397066079611222), ((1, 14), 0.21033904117410016), ((1, 17), 0.8412416722094358), ((1, 18), 0.3525457099869487), ((1, 21), 0.7399811554764997), ((1, 24), 0.5410964012776038), ((1, 25), 0.7184154234737302), ((1, 27), 0.5450203625363338), ((1, 28), 0.8613297461626155), ((1, 31), 0.7587587590240521), ((1, 32), 0.8274153763791144), ((1, 34), 0.6497191861478022), ((1, 35), 0.5116796609336622), ((1, 38), 0.3672036552402218), ((1, 39), 0.6336081253137638), ((0, 0), 0.5199557565177023), ((0, 3), 0.11375991740891858), ((0, 6), 0.24628135950297114), ((0, 7), 0.5842434684006701), ((0, 10), 0.5752182528359998), ((0, 13), 0.17025758691725915), ((0, 14), 0.24461676049605863), ((0, 17), 0.5817445861276349), ((0, 20), 0.4401822472456019), ((0, 21), 0.4790543956669848), ((0, 24), 0.40827851320831204), ((0, 27), 0.39769395763157794), ((0, 28), 0.5330594036686791), ((0, 30), 0.27060996678884647), ((0, 31), 0.5703137094849972), ((0, 34), 0.5889210861282878), ((0, 35), 0.3941602340850856), ((0, 37), 0.6986855176600504), ((0, 38), 0.3187865179849662), ((1, 2), 0.7295654300381721), ((1, 5), 0.5024866712304927), ((1, 6), 0.5477536268130309), ((1, 8), 0.5078993893519649), ((1, 9), 0.5364103527954548), ((1, 12), 0.7356895171764746), ((1, 13), 0.4078877502765765), ((1, 15), 0.7476428529533266), ((1, 16), 0.6135665033365482), ((1, 19), 0.5064473163441566), ((1, 20), 0.4969301601606092), ((1, 22), 0.3021318064519388), ((1, 23), 0.709471731538212), ((1, 26), 0.9405213755486123), ((1, 29), 0.38279532350622425), ((1, 30), 0.20273674339436326), ((1, 33), 0.6645261680803061), ((1, 36), 0.8139348863256719), ((1, 37), 0.8253013799083937)]\n"
          ]
        },
        {
          "output_type": "execute_result",
          "data": {
            "text/plain": [
              "True"
            ]
          },
          "metadata": {},
          "execution_count": 91
        }
      ]
    },
    {
      "cell_type": "markdown",
      "metadata": {
        "id": "ZuSA2P9Db6UM"
      },
      "source": [
        "Обобщите предыдущее решение на случай, когда каждая матрица генерируется несколькими RECORDREADER-ами, и проверьте его работоспособность. Будет ли работать решение, если RECORDREADER-ы будут генерировать случайное подмножество элементов матрицы?"
      ]
    },
    {
      "cell_type": "code",
      "metadata": {
        "id": "ehN0FqRDcwU5",
        "colab": {
          "base_uri": "https://localhost:8080/"
        },
        "outputId": "ca61f29e-90be-4019-813f-f50000e89253"
      },
      "source": [
        "def flatten(nested_iterable):\n",
        "  for iterable in nested_iterable:\n",
        "    for element in iterable:\n",
        "      yield element\n",
        "\n",
        "def groupbykey(iterable):\n",
        "  t = {}\n",
        "  for (k2, v2) in iterable:\n",
        "    t[k2] = t.get(k2, []) + [v2]\n",
        "  return t.items()\n",
        "\n",
        "def groupbykey_distributed(map_partitions, PARTITIONER):\n",
        "  global reducers\n",
        "  partitions = [dict() for _ in range(reducers)]\n",
        "  for map_partition in map_partitions:\n",
        "    for (k2, v2) in map_partition:\n",
        "      p = partitions[PARTITIONER(k2)]\n",
        "      p[k2] = p.get(k2, []) + [v2]\n",
        "  return [(partition_id, sorted(partition.items(), key=lambda x: x[0])) for (partition_id, partition) in enumerate(partitions)]\n",
        "\n",
        "def PARTITIONER(obj):\n",
        "  global reducers\n",
        "  return hash(obj) % reducers\n",
        "\n",
        "def MapReduceDistributed(INPUTFORMAT, MAP, REDUCE, PARTITIONER=PARTITIONER, COMBINER=None):\n",
        "  map_partitions = map(lambda record_reader: flatten(map(lambda k1v1: MAP(*k1v1), record_reader)), INPUTFORMAT())\n",
        "  if COMBINER != None:\n",
        "    map_partitions = map(lambda map_partition: flatten(map(lambda k2v2: COMBINER(*k2v2), groupbykey(map_partition))), map_partitions)\n",
        "  reduce_partitions = groupbykey_distributed(map_partitions, PARTITIONER) # shuffle\n",
        "  reduce_outputs = map(lambda reduce_partition: (reduce_partition[0], flatten(map(lambda reduce_input_group: REDUCE(*reduce_input_group), reduce_partition[1]))), reduce_partitions)\n",
        "\n",
        "  print(\"{} key-value pairs were sent over a network.\".format(sum([len(vs) for (k,vs) in flatten([partition for (partition_id, partition) in reduce_partitions])])))\n",
        "  return reduce_outputs\n",
        "\n",
        "def asmatrix(reduce_output):\n",
        "  reduce_output = list(reduce_output)\n",
        "  I = max(i for ((i,k), vw) in reduce_output)+1\n",
        "  K = max(k for ((i,k), vw) in reduce_output)+1\n",
        "  mat = np.empty(shape=(I,K))\n",
        "  for ((i,k), vw) in reduce_output:\n",
        "    mat[i,k] = vw\n",
        "  return mat\n",
        "\n",
        "# ===================================================================================================================================================================================\n",
        "\n",
        "import numpy as np\n",
        "I = 2\n",
        "J = 3\n",
        "K = 4*10\n",
        "small_mat = np.random.rand(I,J)\n",
        "big_mat = np.random.rand(J,K)\n",
        "reference_solution = np.matmul(small_mat, big_mat)\n",
        "\n",
        "def INPUTFORMAT():\n",
        "  first_mat = []\n",
        "  for i in range(small_mat.shape[0]):\n",
        "    for j in range(small_mat.shape[1]):\n",
        "      first_mat.append(((0, i, j), small_mat[i,j])) # первая матрица\n",
        "\n",
        "  global maps\n",
        "  split_size =  int(np.ceil(len(first_mat)/maps))\n",
        "  for i in range(0, len(first_mat), split_size):\n",
        "    yield first_mat[i:i+split_size]\n",
        "\n",
        "  second_mat = []\n",
        "  for j in range(big_mat.shape[0]):\n",
        "    for k in range(big_mat.shape[1]):\n",
        "      second_mat.append(((1, j, k), big_mat[j,k])) # вторая матрица\n",
        "\n",
        "  split_size =  int(np.ceil(len(second_mat)/maps))\n",
        "  for i in range(0, len(second_mat), split_size):\n",
        "    yield second_mat[i:i+split_size]\n",
        "\n",
        "\n",
        "def MAP_JOIN(k1, v1):\n",
        "  (mat_num, i, j) = k1\n",
        "  w = v1\n",
        "  if mat_num == 0:\n",
        "    yield (j, (mat_num, i, w))\n",
        "  else:\n",
        "    yield (i, (mat_num, j, w))\n",
        "\n",
        "\n",
        "def REDUCE_JOIN(key, values):\n",
        "  from_first_mat = [v for v in values if v[0] == 0]\n",
        "  from_second_mat = [v for v in values if v[0] == 1]\n",
        "  for f in from_first_mat:\n",
        "    for s in from_second_mat:\n",
        "      yield ((f[1], s[1]), f[2] * s[2])\n",
        "\n",
        "\n",
        "def GET_JOINED():\n",
        "  for j in joined:\n",
        "    print(\"aa\", j)\n",
        "    yield j[1]\n",
        "\n",
        "\n",
        "def MAP_MUL(k1, v1):\n",
        "  yield (k1, v1)\n",
        "\n",
        "\n",
        "def REDUCE_MUL(key, values):\n",
        "  res_val = 0\n",
        "  for v in values:\n",
        "    res_val += v\n",
        "  yield (key, res_val)\n",
        "\n",
        "maps = 3\n",
        "reducers = 2\n",
        "partitioned_output = MapReduceDistributed(INPUTFORMAT, MAP_JOIN, REDUCE_JOIN, COMBINER=None)\n",
        "joined = [(partition_id, list(partition)) for (partition_id, partition) in partitioned_output]\n",
        "print(joined)\n",
        "\n",
        "mul_output = MapReduceDistributed(GET_JOINED, MAP_MUL, REDUCE_MUL, COMBINER=None)\n",
        "pre_result = [(partition_id, list(partition)) for (partition_id, partition) in mul_output]\n",
        "print(pre_result)\n",
        "\n",
        "solution = []\n",
        "for p in pre_result:\n",
        "  for v in p[1]:\n",
        "    solution.append(v)\n",
        "\n",
        "print(solution)\n",
        "np.allclose(reference_solution, asmatrix(solution)) # should return true\n"
      ],
      "execution_count": 92,
      "outputs": [
        {
          "output_type": "stream",
          "name": "stdout",
          "text": [
            "126 key-value pairs were sent over a network.\n",
            "[(0, [((0, 0), 0.2597241050229439), ((0, 1), 0.401575155675791), ((0, 2), 0.48696056075347904), ((0, 3), 0.15550329099934523), ((0, 4), 0.6474419040648105), ((0, 5), 0.21157506698264378), ((0, 6), 0.5493977409722797), ((0, 7), 0.12556834078574267), ((0, 8), 0.48166764407265433), ((0, 9), 0.14121495297756564), ((0, 10), 0.21719559880892286), ((0, 11), 0.44477801190453703), ((0, 12), 0.46100539969532117), ((0, 13), 0.6762059090446996), ((0, 14), 0.33092172487529037), ((0, 15), 0.15605497432927276), ((0, 16), 0.0017540311672767492), ((0, 17), 0.07559319004211063), ((0, 18), 0.5329479878291786), ((0, 19), 0.33301178653165975), ((0, 20), 0.38581091716718885), ((0, 21), 0.5607321278530568), ((0, 22), 0.647414618432631), ((0, 23), 0.13884507959910106), ((0, 24), 0.6556002174363336), ((0, 25), 0.6164376851333723), ((0, 26), 0.5012853954486918), ((0, 27), 0.5336417651420756), ((0, 28), 0.6648073794634358), ((0, 29), 0.10175440197720324), ((0, 30), 0.24276179798361824), ((0, 31), 0.6750328061557419), ((0, 32), 0.26636635124255836), ((0, 33), 0.057511862365798534), ((0, 34), 0.5890275254370614), ((0, 35), 0.18568698132079772), ((0, 36), 0.3039914232907089), ((0, 37), 0.11561823994949888), ((0, 38), 0.3460593778773589), ((0, 39), 0.2336374883142896), ((1, 0), 0.21785361504431214), ((1, 1), 0.3368366573761998), ((1, 2), 0.40845696064590997), ((1, 3), 0.13043438572057967), ((1, 4), 0.5430668798309329), ((1, 5), 0.17746675146436505), ((1, 6), 0.46082855481364166), ((1, 7), 0.10532529113103925), ((1, 8), 0.4040173225424535), ((1, 9), 0.11844949086168775), ((1, 10), 0.18218118941273467), ((1, 11), 0.37307472010372583), ((1, 12), 0.3866860677783514), ((1, 13), 0.5671937989225123), ((1, 14), 0.27757336599316673), ((1, 15), 0.13089713140132336), ((1, 16), 0.0014712613242343366), ((1, 17), 0.06340670505708625), ((1, 18), 0.4470306896193636), ((1, 19), 0.27932648585651304), ((1, 20), 0.3236137940335141), ((1, 21), 0.47033570916910666), ((1, 22), 0.5430439929540737), ((1, 23), 0.11646166811935824), ((1, 24), 0.5499099799755793), ((1, 25), 0.5170608948445089), ((1, 26), 0.4204724684979386), ((1, 27), 0.44761262211129377), ((1, 28), 0.5576328424019442), ((1, 29), 0.08535043104854498), ((1, 30), 0.20362582549169345), ((1, 31), 0.566209813607958), ((1, 32), 0.22342505536491541), ((1, 33), 0.048240293765622236), ((1, 34), 0.49406956572526634), ((1, 35), 0.15575212067369673), ((1, 36), 0.2549845363813894), ((1, 37), 0.09697926011077776), ((1, 38), 0.2902706565642352), ((1, 39), 0.19597245867742946), ((0, 0), 0.3514130576051677), ((0, 1), 0.633066696250603), ((0, 2), 0.6981044158761278), ((0, 3), 0.4717063685511523), ((0, 4), 0.6303436164503327), ((0, 5), 0.8318923723915375), ((0, 6), 0.8101150511033456), ((0, 7), 0.5247531009172873), ((0, 8), 0.5635025990125148), ((0, 9), 0.21447672886390737), ((0, 10), 0.6462418298947845), ((0, 11), 0.8633726725601415), ((0, 12), 0.6239660248251446), ((0, 13), 0.5215078540310112), ((0, 14), 0.2668051133471187), ((0, 15), 0.5435507213663806), ((0, 16), 0.559000955762353), ((0, 17), 0.08459498063951841), ((0, 18), 0.8274309311031406), ((0, 19), 0.30184410678144197), ((0, 20), 0.4863498922000382), ((0, 21), 0.5377987455955864), ((0, 22), 0.8809964530946472), ((0, 23), 0.8274453397222072), ((0, 24), 0.060528412561022586), ((0, 25), 0.4599274663676378), ((0, 26), 0.6087724515720482), ((0, 27), 0.7732969153002893), ((0, 28), 0.09643024824370192), ((0, 29), 0.07282889142434705), ((0, 30), 0.37365590282654076), ((0, 31), 0.26578867558547464), ((0, 32), 0.08204984975054401), ((0, 33), 0.4190792957865905), ((0, 34), 0.2580399028812047), ((0, 35), 0.8636158243186489), ((0, 36), 0.06228115545145327), ((0, 37), 0.7356972117962133), ((0, 38), 0.5507315090012407), ((0, 39), 0.5357354218230774), ((1, 0), 0.2596119997074392), ((1, 1), 0.4676881163205363), ((1, 2), 0.5157357687426185), ((1, 3), 0.34848060128684893), ((1, 4), 0.4656763976976461), ((1, 5), 0.6145737549131889), ((1, 6), 0.5984854115646869), ((1, 7), 0.3876697206706562), ((1, 8), 0.4162965302625309), ((1, 9), 0.1584481033531476), ((1, 10), 0.47742145638219613), ((1, 11), 0.6378303286269187), ((1, 12), 0.46096485019165456), ((1, 13), 0.3852722427868461), ((1, 14), 0.19710653178414184), ((1, 15), 0.4015567625119233), ((1, 16), 0.41297086953122963), ((1, 17), 0.06249589084339851), ((1, 18), 0.6112777940221756), ((1, 19), 0.22299214689250518), ((1, 20), 0.3592987378784659), ((1, 21), 0.39730739869402437), ((1, 22), 0.6508501775140045), ((1, 23), 0.6112884386192614), ((1, 24), 0.04471632992573487), ((1, 25), 0.3397787494801461), ((1, 26), 0.44974035568419773), ((1, 27), 0.5712854266623872), ((1, 28), 0.07123938350338659), ((1, 29), 0.053803504821366276), ((1, 30), 0.27604425628451745), ((1, 31), 0.19635562218027885), ((1, 32), 0.06061563481618452), ((1, 33), 0.3096015121253201), ((1, 34), 0.19063109278816343), ((1, 35), 0.6380099608656542), ((1, 36), 0.04601119668412653), ((1, 37), 0.5435080461585945), ((1, 38), 0.4068616838772956), ((1, 39), 0.39578308535667883)]), (1, [((0, 0), 0.27610182787690185), ((0, 1), 0.1332749223713688), ((0, 2), 0.3853430861395932), ((0, 3), 0.35969914043199824), ((0, 4), 0.32769968991243537), ((0, 5), 0.37930444619194426), ((0, 6), 0.2460079869132202), ((0, 7), 0.33230168815292105), ((0, 8), 0.13584827237875927), ((0, 9), 0.27732451319513307), ((0, 10), 0.08856146872973582), ((0, 11), 0.32325347304067137), ((0, 12), 0.2627232174501027), ((0, 13), 0.3241629754948172), ((0, 14), 0.03247698492510181), ((0, 15), 0.015878997816500578), ((0, 16), 0.10357058322450248), ((0, 17), 0.060504939039823354), ((0, 18), 0.13439508174184944), ((0, 19), 0.22613890229829117), ((0, 20), 0.15432011385083264), ((0, 21), 0.11429178373924417), ((0, 22), 0.17841206451177502), ((0, 23), 0.27489838589292087), ((0, 24), 0.25716693202345814), ((0, 25), 0.10945358934362749), ((0, 26), 0.20773913067717786), ((0, 27), 0.33398998692360726), ((0, 28), 0.305457253944798), ((0, 29), 0.3963475080235614), ((0, 30), 0.23084443650304962), ((0, 31), 0.3739911411718008), ((0, 32), 0.08611901171073122), ((0, 33), 0.39188873403765395), ((0, 34), 0.007226477293756278), ((0, 35), 0.2572102322653391), ((0, 36), 0.10336428862905012), ((0, 37), 0.24564730428847772), ((0, 38), 0.25039782516646986), ((0, 39), 0.31095997475266784), ((1, 0), 0.06401775240292015), ((1, 1), 0.03090150125950129), ((1, 2), 0.08934674018043817), ((1, 3), 0.08340086224269894), ((1, 4), 0.07598137894502156), ((1, 5), 0.08794660400607235), ((1, 6), 0.05704010913818681), ((1, 7), 0.07704841130110374), ((1, 8), 0.03149816548619603), ((1, 9), 0.06430124768642152), ((1, 10), 0.02053411316098528), ((1, 11), 0.0749504664986426), ((1, 12), 0.060915749868623977), ((1, 13), 0.07516134631558216), ((1, 14), 0.007530205778483625), ((1, 15), 0.0036817494416460732), ((1, 16), 0.024014168990030497), ((1, 17), 0.014028846662804831), ((1, 18), 0.03116122458615457), ((1, 19), 0.05243320686183427), ((1, 20), 0.03578109900705778), ((1, 21), 0.026500016929873898), ((1, 22), 0.04136712697425837), ((1, 23), 0.06373871893344192), ((1, 24), 0.05962745378069851), ((1, 25), 0.025378219463781514), ((1, 26), 0.04816698366089308), ((1, 27), 0.0774398650394402), ((1, 28), 0.07082418469693111), ((1, 29), 0.09189825662972165), ((1, 30), 0.053524245360058204), ((1, 31), 0.08671464604390924), ((1, 32), 0.019967798153584737), ((1, 33), 0.09086443265526514), ((1, 34), 0.0016755515082763999), ((1, 35), 0.05963749349751255), ((1, 36), 0.023966336940401265), ((1, 37), 0.056956480242484266), ((1, 38), 0.05805794947827574), ((1, 39), 0.07210006114052231)])]\n",
            "aa (0, [((0, 0), 0.2597241050229439), ((0, 1), 0.401575155675791), ((0, 2), 0.48696056075347904), ((0, 3), 0.15550329099934523), ((0, 4), 0.6474419040648105), ((0, 5), 0.21157506698264378), ((0, 6), 0.5493977409722797), ((0, 7), 0.12556834078574267), ((0, 8), 0.48166764407265433), ((0, 9), 0.14121495297756564), ((0, 10), 0.21719559880892286), ((0, 11), 0.44477801190453703), ((0, 12), 0.46100539969532117), ((0, 13), 0.6762059090446996), ((0, 14), 0.33092172487529037), ((0, 15), 0.15605497432927276), ((0, 16), 0.0017540311672767492), ((0, 17), 0.07559319004211063), ((0, 18), 0.5329479878291786), ((0, 19), 0.33301178653165975), ((0, 20), 0.38581091716718885), ((0, 21), 0.5607321278530568), ((0, 22), 0.647414618432631), ((0, 23), 0.13884507959910106), ((0, 24), 0.6556002174363336), ((0, 25), 0.6164376851333723), ((0, 26), 0.5012853954486918), ((0, 27), 0.5336417651420756), ((0, 28), 0.6648073794634358), ((0, 29), 0.10175440197720324), ((0, 30), 0.24276179798361824), ((0, 31), 0.6750328061557419), ((0, 32), 0.26636635124255836), ((0, 33), 0.057511862365798534), ((0, 34), 0.5890275254370614), ((0, 35), 0.18568698132079772), ((0, 36), 0.3039914232907089), ((0, 37), 0.11561823994949888), ((0, 38), 0.3460593778773589), ((0, 39), 0.2336374883142896), ((1, 0), 0.21785361504431214), ((1, 1), 0.3368366573761998), ((1, 2), 0.40845696064590997), ((1, 3), 0.13043438572057967), ((1, 4), 0.5430668798309329), ((1, 5), 0.17746675146436505), ((1, 6), 0.46082855481364166), ((1, 7), 0.10532529113103925), ((1, 8), 0.4040173225424535), ((1, 9), 0.11844949086168775), ((1, 10), 0.18218118941273467), ((1, 11), 0.37307472010372583), ((1, 12), 0.3866860677783514), ((1, 13), 0.5671937989225123), ((1, 14), 0.27757336599316673), ((1, 15), 0.13089713140132336), ((1, 16), 0.0014712613242343366), ((1, 17), 0.06340670505708625), ((1, 18), 0.4470306896193636), ((1, 19), 0.27932648585651304), ((1, 20), 0.3236137940335141), ((1, 21), 0.47033570916910666), ((1, 22), 0.5430439929540737), ((1, 23), 0.11646166811935824), ((1, 24), 0.5499099799755793), ((1, 25), 0.5170608948445089), ((1, 26), 0.4204724684979386), ((1, 27), 0.44761262211129377), ((1, 28), 0.5576328424019442), ((1, 29), 0.08535043104854498), ((1, 30), 0.20362582549169345), ((1, 31), 0.566209813607958), ((1, 32), 0.22342505536491541), ((1, 33), 0.048240293765622236), ((1, 34), 0.49406956572526634), ((1, 35), 0.15575212067369673), ((1, 36), 0.2549845363813894), ((1, 37), 0.09697926011077776), ((1, 38), 0.2902706565642352), ((1, 39), 0.19597245867742946), ((0, 0), 0.3514130576051677), ((0, 1), 0.633066696250603), ((0, 2), 0.6981044158761278), ((0, 3), 0.4717063685511523), ((0, 4), 0.6303436164503327), ((0, 5), 0.8318923723915375), ((0, 6), 0.8101150511033456), ((0, 7), 0.5247531009172873), ((0, 8), 0.5635025990125148), ((0, 9), 0.21447672886390737), ((0, 10), 0.6462418298947845), ((0, 11), 0.8633726725601415), ((0, 12), 0.6239660248251446), ((0, 13), 0.5215078540310112), ((0, 14), 0.2668051133471187), ((0, 15), 0.5435507213663806), ((0, 16), 0.559000955762353), ((0, 17), 0.08459498063951841), ((0, 18), 0.8274309311031406), ((0, 19), 0.30184410678144197), ((0, 20), 0.4863498922000382), ((0, 21), 0.5377987455955864), ((0, 22), 0.8809964530946472), ((0, 23), 0.8274453397222072), ((0, 24), 0.060528412561022586), ((0, 25), 0.4599274663676378), ((0, 26), 0.6087724515720482), ((0, 27), 0.7732969153002893), ((0, 28), 0.09643024824370192), ((0, 29), 0.07282889142434705), ((0, 30), 0.37365590282654076), ((0, 31), 0.26578867558547464), ((0, 32), 0.08204984975054401), ((0, 33), 0.4190792957865905), ((0, 34), 0.2580399028812047), ((0, 35), 0.8636158243186489), ((0, 36), 0.06228115545145327), ((0, 37), 0.7356972117962133), ((0, 38), 0.5507315090012407), ((0, 39), 0.5357354218230774), ((1, 0), 0.2596119997074392), ((1, 1), 0.4676881163205363), ((1, 2), 0.5157357687426185), ((1, 3), 0.34848060128684893), ((1, 4), 0.4656763976976461), ((1, 5), 0.6145737549131889), ((1, 6), 0.5984854115646869), ((1, 7), 0.3876697206706562), ((1, 8), 0.4162965302625309), ((1, 9), 0.1584481033531476), ((1, 10), 0.47742145638219613), ((1, 11), 0.6378303286269187), ((1, 12), 0.46096485019165456), ((1, 13), 0.3852722427868461), ((1, 14), 0.19710653178414184), ((1, 15), 0.4015567625119233), ((1, 16), 0.41297086953122963), ((1, 17), 0.06249589084339851), ((1, 18), 0.6112777940221756), ((1, 19), 0.22299214689250518), ((1, 20), 0.3592987378784659), ((1, 21), 0.39730739869402437), ((1, 22), 0.6508501775140045), ((1, 23), 0.6112884386192614), ((1, 24), 0.04471632992573487), ((1, 25), 0.3397787494801461), ((1, 26), 0.44974035568419773), ((1, 27), 0.5712854266623872), ((1, 28), 0.07123938350338659), ((1, 29), 0.053803504821366276), ((1, 30), 0.27604425628451745), ((1, 31), 0.19635562218027885), ((1, 32), 0.06061563481618452), ((1, 33), 0.3096015121253201), ((1, 34), 0.19063109278816343), ((1, 35), 0.6380099608656542), ((1, 36), 0.04601119668412653), ((1, 37), 0.5435080461585945), ((1, 38), 0.4068616838772956), ((1, 39), 0.39578308535667883)])\n",
            "aa (1, [((0, 0), 0.27610182787690185), ((0, 1), 0.1332749223713688), ((0, 2), 0.3853430861395932), ((0, 3), 0.35969914043199824), ((0, 4), 0.32769968991243537), ((0, 5), 0.37930444619194426), ((0, 6), 0.2460079869132202), ((0, 7), 0.33230168815292105), ((0, 8), 0.13584827237875927), ((0, 9), 0.27732451319513307), ((0, 10), 0.08856146872973582), ((0, 11), 0.32325347304067137), ((0, 12), 0.2627232174501027), ((0, 13), 0.3241629754948172), ((0, 14), 0.03247698492510181), ((0, 15), 0.015878997816500578), ((0, 16), 0.10357058322450248), ((0, 17), 0.060504939039823354), ((0, 18), 0.13439508174184944), ((0, 19), 0.22613890229829117), ((0, 20), 0.15432011385083264), ((0, 21), 0.11429178373924417), ((0, 22), 0.17841206451177502), ((0, 23), 0.27489838589292087), ((0, 24), 0.25716693202345814), ((0, 25), 0.10945358934362749), ((0, 26), 0.20773913067717786), ((0, 27), 0.33398998692360726), ((0, 28), 0.305457253944798), ((0, 29), 0.3963475080235614), ((0, 30), 0.23084443650304962), ((0, 31), 0.3739911411718008), ((0, 32), 0.08611901171073122), ((0, 33), 0.39188873403765395), ((0, 34), 0.007226477293756278), ((0, 35), 0.2572102322653391), ((0, 36), 0.10336428862905012), ((0, 37), 0.24564730428847772), ((0, 38), 0.25039782516646986), ((0, 39), 0.31095997475266784), ((1, 0), 0.06401775240292015), ((1, 1), 0.03090150125950129), ((1, 2), 0.08934674018043817), ((1, 3), 0.08340086224269894), ((1, 4), 0.07598137894502156), ((1, 5), 0.08794660400607235), ((1, 6), 0.05704010913818681), ((1, 7), 0.07704841130110374), ((1, 8), 0.03149816548619603), ((1, 9), 0.06430124768642152), ((1, 10), 0.02053411316098528), ((1, 11), 0.0749504664986426), ((1, 12), 0.060915749868623977), ((1, 13), 0.07516134631558216), ((1, 14), 0.007530205778483625), ((1, 15), 0.0036817494416460732), ((1, 16), 0.024014168990030497), ((1, 17), 0.014028846662804831), ((1, 18), 0.03116122458615457), ((1, 19), 0.05243320686183427), ((1, 20), 0.03578109900705778), ((1, 21), 0.026500016929873898), ((1, 22), 0.04136712697425837), ((1, 23), 0.06373871893344192), ((1, 24), 0.05962745378069851), ((1, 25), 0.025378219463781514), ((1, 26), 0.04816698366089308), ((1, 27), 0.0774398650394402), ((1, 28), 0.07082418469693111), ((1, 29), 0.09189825662972165), ((1, 30), 0.053524245360058204), ((1, 31), 0.08671464604390924), ((1, 32), 0.019967798153584737), ((1, 33), 0.09086443265526514), ((1, 34), 0.0016755515082763999), ((1, 35), 0.05963749349751255), ((1, 36), 0.023966336940401265), ((1, 37), 0.056956480242484266), ((1, 38), 0.05805794947827574), ((1, 39), 0.07210006114052231)])\n",
            "240 key-value pairs were sent over a network.\n",
            "[(0, [((0, 1), 1.1679167742977627), ((0, 2), 1.5704080627692), ((0, 4), 1.6054852104275785), ((0, 5), 1.4227718855661253), ((0, 8), 1.1810185154639283), ((0, 9), 0.6330161950366061), ((0, 11), 1.63140415750535), ((0, 12), 1.3476946419705684), ((0, 15), 0.7154846935121539), ((0, 16), 0.6643255701541323), ((0, 18), 1.4947740006741688), ((0, 19), 0.8609947956113928), ((0, 22), 1.7068231360390533), ((0, 23), 1.2411888052142293), ((0, 25), 1.1858187408446375), ((0, 26), 1.317796977697918), ((0, 29), 0.5709308014251117), ((0, 32), 0.4345352127038336), ((0, 33), 0.868479892190043), ((0, 36), 0.46963686737121224), ((0, 39), 1.0803328848900349), ((1, 0), 0.5414833671546715), ((1, 1), 0.8354262749562373), ((1, 3), 0.5623158492501276), ((1, 4), 1.0847246564736008), ((1, 7), 0.5700434231027992), ((1, 10), 0.6801367589559161), ((1, 11), 1.0858555152292872), ((1, 14), 0.4822101035557922), ((1, 17), 0.13993144256328957), ((1, 18), 1.0894697082276938), ((1, 21), 0.894143124793005), ((1, 24), 0.6542537636820127), ((1, 25), 0.8822178637884365), ((1, 27), 1.096337913813121), ((1, 28), 0.6996964106022618), ((1, 31), 0.849280081832146), ((1, 32), 0.3040084883346847), ((1, 34), 0.6863762100217061), ((1, 35), 0.8533995750368635), ((1, 38), 0.7551902899198065), ((1, 39), 0.6638556051746305)]), (1, [((0, 0), 0.8872389905050135), ((0, 3), 0.9869087999824957), ((0, 6), 1.6055207789888453), ((0, 7), 0.982623129855951), ((0, 10), 0.9519988974334432), ((0, 13), 1.521876738570528), ((0, 14), 0.6302038231475108), ((0, 17), 0.2206931097214524), ((0, 20), 1.0264809232180596), ((0, 21), 1.2128226571878873), ((0, 24), 0.9732955620208144), ((0, 27), 1.640928667365972), ((0, 28), 1.0666948816519357), ((0, 30), 0.8472621373132087), ((0, 31), 1.3148126229130175), ((0, 34), 0.8542939056120223), ((0, 35), 1.3065130379047858), ((0, 37), 1.09696275603419), ((0, 38), 1.1471887120450694), ((1, 2), 1.0135394695689666), ((1, 5), 0.8799871103836263), ((1, 6), 1.1163540755165156), ((1, 8), 0.8518120182911804), ((1, 9), 0.3411988419012569), ((1, 12), 0.90856666783863), ((1, 13), 1.0276273880249407), ((1, 15), 0.5361356433548927), ((1, 16), 0.4384562998454945), ((1, 19), 0.5547518396108525), ((1, 20), 0.7186936309190377), ((1, 22), 1.2352612974423365), ((1, 23), 0.7914888256720616), ((1, 26), 0.9183798078430294), ((1, 29), 0.2310521924996329), ((1, 30), 0.5331943271362691), ((1, 33), 0.4487062385462075), ((1, 36), 0.3249620700059172), ((1, 37), 0.6974437865118565)])]\n",
            "[((0, 1), 1.1679167742977627), ((0, 2), 1.5704080627692), ((0, 4), 1.6054852104275785), ((0, 5), 1.4227718855661253), ((0, 8), 1.1810185154639283), ((0, 9), 0.6330161950366061), ((0, 11), 1.63140415750535), ((0, 12), 1.3476946419705684), ((0, 15), 0.7154846935121539), ((0, 16), 0.6643255701541323), ((0, 18), 1.4947740006741688), ((0, 19), 0.8609947956113928), ((0, 22), 1.7068231360390533), ((0, 23), 1.2411888052142293), ((0, 25), 1.1858187408446375), ((0, 26), 1.317796977697918), ((0, 29), 0.5709308014251117), ((0, 32), 0.4345352127038336), ((0, 33), 0.868479892190043), ((0, 36), 0.46963686737121224), ((0, 39), 1.0803328848900349), ((1, 0), 0.5414833671546715), ((1, 1), 0.8354262749562373), ((1, 3), 0.5623158492501276), ((1, 4), 1.0847246564736008), ((1, 7), 0.5700434231027992), ((1, 10), 0.6801367589559161), ((1, 11), 1.0858555152292872), ((1, 14), 0.4822101035557922), ((1, 17), 0.13993144256328957), ((1, 18), 1.0894697082276938), ((1, 21), 0.894143124793005), ((1, 24), 0.6542537636820127), ((1, 25), 0.8822178637884365), ((1, 27), 1.096337913813121), ((1, 28), 0.6996964106022618), ((1, 31), 0.849280081832146), ((1, 32), 0.3040084883346847), ((1, 34), 0.6863762100217061), ((1, 35), 0.8533995750368635), ((1, 38), 0.7551902899198065), ((1, 39), 0.6638556051746305), ((0, 0), 0.8872389905050135), ((0, 3), 0.9869087999824957), ((0, 6), 1.6055207789888453), ((0, 7), 0.982623129855951), ((0, 10), 0.9519988974334432), ((0, 13), 1.521876738570528), ((0, 14), 0.6302038231475108), ((0, 17), 0.2206931097214524), ((0, 20), 1.0264809232180596), ((0, 21), 1.2128226571878873), ((0, 24), 0.9732955620208144), ((0, 27), 1.640928667365972), ((0, 28), 1.0666948816519357), ((0, 30), 0.8472621373132087), ((0, 31), 1.3148126229130175), ((0, 34), 0.8542939056120223), ((0, 35), 1.3065130379047858), ((0, 37), 1.09696275603419), ((0, 38), 1.1471887120450694), ((1, 2), 1.0135394695689666), ((1, 5), 0.8799871103836263), ((1, 6), 1.1163540755165156), ((1, 8), 0.8518120182911804), ((1, 9), 0.3411988419012569), ((1, 12), 0.90856666783863), ((1, 13), 1.0276273880249407), ((1, 15), 0.5361356433548927), ((1, 16), 0.4384562998454945), ((1, 19), 0.5547518396108525), ((1, 20), 0.7186936309190377), ((1, 22), 1.2352612974423365), ((1, 23), 0.7914888256720616), ((1, 26), 0.9183798078430294), ((1, 29), 0.2310521924996329), ((1, 30), 0.5331943271362691), ((1, 33), 0.4487062385462075), ((1, 36), 0.3249620700059172), ((1, 37), 0.6974437865118565)]\n"
          ]
        },
        {
          "output_type": "execute_result",
          "data": {
            "text/plain": [
              "True"
            ]
          },
          "metadata": {},
          "execution_count": 92
        }
      ]
    },
    {
      "cell_type": "code",
      "source": [],
      "metadata": {
        "id": "FIpqZIDrAw8V"
      },
      "execution_count": 92,
      "outputs": []
    }
  ]
}