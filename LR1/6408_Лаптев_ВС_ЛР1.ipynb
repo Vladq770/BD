{
  "cells": [
    {
      "cell_type": "markdown",
      "id": "265271cd-6376-433f-aa86-0fa4f9623306",
      "metadata": {
        "id": "265271cd-6376-433f-aa86-0fa4f9623306"
      },
      "source": [
        "## Импортирование необходимых модулей"
      ]
    },
    {
      "cell_type": "code",
      "source": [
        "!pip install pyspark"
      ],
      "metadata": {
        "colab": {
          "base_uri": "https://localhost:8080/"
        },
        "id": "FzNUCZ-LCZyd",
        "outputId": "746de5ab-f4db-4766-c98b-f4418ea6108f"
      },
      "id": "FzNUCZ-LCZyd",
      "execution_count": 2,
      "outputs": [
        {
          "output_type": "stream",
          "name": "stdout",
          "text": [
            "Collecting pyspark\n",
            "  Downloading pyspark-3.5.1.tar.gz (317.0 MB)\n",
            "\u001b[2K     \u001b[90m━━━━━━━━━━━━━━━━━━━━━━━━━━━━━━━━━━━━━━━━\u001b[0m \u001b[32m317.0/317.0 MB\u001b[0m \u001b[31m3.8 MB/s\u001b[0m eta \u001b[36m0:00:00\u001b[0m\n",
            "\u001b[?25h  Preparing metadata (setup.py) ... \u001b[?25l\u001b[?25hdone\n",
            "Requirement already satisfied: py4j==0.10.9.7 in /usr/local/lib/python3.10/dist-packages (from pyspark) (0.10.9.7)\n",
            "Building wheels for collected packages: pyspark\n",
            "  Building wheel for pyspark (setup.py) ... \u001b[?25l\u001b[?25hdone\n",
            "  Created wheel for pyspark: filename=pyspark-3.5.1-py2.py3-none-any.whl size=317488491 sha256=6e8894405a108ba2622bbf192e8e7845f0111be7345e3ac049d9d84830f362cb\n",
            "  Stored in directory: /root/.cache/pip/wheels/80/1d/60/2c256ed38dddce2fdd93be545214a63e02fbd8d74fb0b7f3a6\n",
            "Successfully built pyspark\n",
            "Installing collected packages: pyspark\n",
            "Successfully installed pyspark-3.5.1\n"
          ]
        }
      ]
    },
    {
      "cell_type": "code",
      "execution_count": 3,
      "id": "b7c5efdc-cced-4028-a5eb-f495f2651f49",
      "metadata": {
        "id": "b7c5efdc-cced-4028-a5eb-f495f2651f49"
      },
      "outputs": [],
      "source": [
        "from pyspark import SparkContext, SparkConf\n",
        "\n",
        "import pyspark.sql as sql\n",
        "from pyspark.sql import SparkSession\n",
        "from pyspark.sql.types import DoubleType\n",
        "from pyspark.sql.functions import udf, col, max, sum, countDistinct"
      ]
    },
    {
      "cell_type": "markdown",
      "id": "3faf1642-14f6-49cd-910d-c653598c1e78",
      "metadata": {
        "id": "3faf1642-14f6-49cd-910d-c653598c1e78"
      },
      "source": [
        "## Инициализация сессии"
      ]
    },
    {
      "cell_type": "code",
      "execution_count": 4,
      "id": "5ef103f9-2132-4bf1-a4bb-c320cd5f3828",
      "metadata": {
        "id": "5ef103f9-2132-4bf1-a4bb-c320cd5f3828"
      },
      "outputs": [],
      "source": [
        "spark = SparkSession \\\n",
        "    .builder \\\n",
        "    .appName('LR1') \\\n",
        "    .getOrCreate()"
      ]
    },
    {
      "cell_type": "code",
      "execution_count": 5,
      "id": "fb49b53b-6be4-410f-8c66-0bae39644b3b",
      "metadata": {
        "id": "fb49b53b-6be4-410f-8c66-0bae39644b3b",
        "outputId": "ea197ff2-f785-486c-f851-3f0f01787f3d",
        "colab": {
          "base_uri": "https://localhost:8080/",
          "height": 35
        }
      },
      "outputs": [
        {
          "output_type": "execute_result",
          "data": {
            "text/plain": [
              "'3.5.1'"
            ],
            "application/vnd.google.colaboratory.intrinsic+json": {
              "type": "string"
            }
          },
          "metadata": {},
          "execution_count": 5
        }
      ],
      "source": [
        "spark.version"
      ]
    },
    {
      "cell_type": "markdown",
      "id": "8a68c747-2766-4685-b8ee-7da1f3382cd2",
      "metadata": {
        "id": "8a68c747-2766-4685-b8ee-7da1f3382cd2"
      },
      "source": [
        "## Загрузка данных"
      ]
    },
    {
      "cell_type": "code",
      "execution_count": 14,
      "id": "054e0c2d-e211-497a-a704-87ec65655257",
      "metadata": {
        "id": "054e0c2d-e211-497a-a704-87ec65655257",
        "outputId": "f21b07e9-98f9-468e-d6db-2ed30f2777d0",
        "colab": {
          "base_uri": "https://localhost:8080/"
        }
      },
      "outputs": [
        {
          "output_type": "stream",
          "name": "stdout",
          "text": [
            "Trips\n",
            "root\n",
            " |-- id: integer (nullable = true)\n",
            " |-- duration: integer (nullable = true)\n",
            " |-- start_date: timestamp (nullable = true)\n",
            " |-- start_station_name: string (nullable = true)\n",
            " |-- start_station_id: integer (nullable = true)\n",
            " |-- end_date: timestamp (nullable = true)\n",
            " |-- end_station_name: string (nullable = true)\n",
            " |-- end_station_id: integer (nullable = true)\n",
            " |-- bike_id: integer (nullable = true)\n",
            " |-- subscription_type: string (nullable = true)\n",
            " |-- zip_code: string (nullable = true)\n",
            "\n",
            "Stations\n",
            "root\n",
            " |-- id: integer (nullable = true)\n",
            " |-- name: string (nullable = true)\n",
            " |-- lat: double (nullable = true)\n",
            " |-- long: double (nullable = true)\n",
            " |-- dock_count: integer (nullable = true)\n",
            " |-- city: string (nullable = true)\n",
            " |-- installation_date: string (nullable = true)\n",
            "\n"
          ]
        }
      ],
      "source": [
        "trip_data = spark.read\\\n",
        ".option(\"header\", True)\\\n",
        ".option(\"inferSchema\", True)\\\n",
        ".option(\"timestampFormat\", 'M/d/y H:m')\\\n",
        ".csv('trips.csv')\n",
        "\n",
        "print(\"Trips\")\n",
        "trip_data.printSchema()\n",
        "\n",
        "stations_data = spark.read\\\n",
        ".option(\"header\", True)\\\n",
        ".option(\"inferSchema\", True)\\\n",
        ".option(\"timestampFormat\", 'M/d/y H:m')\\\n",
        ".csv('stations.csv')\n",
        "\n",
        "print(\"Stations\")\n",
        "stations_data.printSchema()"
      ]
    },
    {
      "cell_type": "markdown",
      "id": "64c477e6-8e4f-4adb-a558-f0148fad031c",
      "metadata": {
        "id": "64c477e6-8e4f-4adb-a558-f0148fad031c"
      },
      "source": [
        "## Задание 1. Найти велосипед с максимальным временем пробега"
      ]
    },
    {
      "cell_type": "code",
      "execution_count": 17,
      "id": "39be2465-a5c6-4cb8-99c0-c0a5e855f129",
      "metadata": {
        "id": "39be2465-a5c6-4cb8-99c0-c0a5e855f129",
        "outputId": "ca53cb18-3b70-443f-f203-7aa7b21f15b8",
        "colab": {
          "base_uri": "https://localhost:8080/"
        }
      },
      "outputs": [
        {
          "output_type": "stream",
          "name": "stdout",
          "text": [
            "Bike #535 has total trips duration = 18611693\n"
          ]
        }
      ],
      "source": [
        "# Группировка по id велосипеда и применение функции sum для подсчета времени пробега каждого велосипеда\n",
        "max_trips_duration_per_bike = trip_data.groupBy(\"bike_id\").agg(sum(col(\"duration\")).alias(\"total_trips_duration\"))\n",
        "\n",
        "# Выбор велосипеда с максимальным пробегом\n",
        "bike_with_max_trips_duration = max_trips_duration_per_bike.orderBy(col(\"total_trips_duration\").desc()).first()\n",
        "\n",
        "# Получение id велосипеда\n",
        "bike_id_with_max_duration = bike_with_max_trips_duration[\"bike_id\"]\n",
        "\n",
        "# Получение значения пробега\n",
        "total_duration = bike_with_max_trips_duration[\"total_trips_duration\"]\n",
        "\n",
        "print(f\"Bike #{bike_id_with_max_duration} has total trips duration = {total_duration}\")"
      ]
    },
    {
      "cell_type": "markdown",
      "id": "6ac48049-99bb-48a0-bacc-ef8a98080845",
      "metadata": {
        "id": "6ac48049-99bb-48a0-bacc-ef8a98080845"
      },
      "source": [
        "## Задание 2. Найти наибольшее геодезическое расстояние между станциями"
      ]
    },
    {
      "cell_type": "code",
      "execution_count": 20,
      "id": "f84e1bdb-7308-45f5-9b97-8dacf9dc0bb5",
      "metadata": {
        "id": "f84e1bdb-7308-45f5-9b97-8dacf9dc0bb5"
      },
      "outputs": [],
      "source": [
        "from math import sin, cos, sqrt, atan2, radians\n",
        "\n",
        "def geodesic_distance(lat1, lon1, lat2, lon2):\n",
        "    # Радиус Земли в километрах\n",
        "    R = 6373.0\n",
        "\n",
        "    # Конвертация в радианы\n",
        "    lat1 = radians(lat1)\n",
        "    lat2 = radians(lat2)\n",
        "    lon1 = radians(lon1)\n",
        "    lon2 = radians(lon2)\n",
        "\n",
        "    dlon = lon2 - lon1\n",
        "    dlat = lat2 - lat1\n",
        "\n",
        "    # Вычисление геодезического расстояния по формуле Хаверсина\n",
        "    a = sin(dlat / 2)**2 + cos(lat1) * cos(lat2) * sin(dlon / 2)**2\n",
        "    c = 2 * atan2(sqrt(a), sqrt(1 - a))\n",
        "    distance = R * c\n",
        "\n",
        "    return distance\n",
        "\n",
        "# Конвертация функции в pyspark.sql.functions.udf (user-defined function)\n",
        "geodesic_distance_udf = udf(geodesic_distance, DoubleType())"
      ]
    },
    {
      "cell_type": "code",
      "execution_count": 21,
      "id": "0f5a503c-b6ab-462a-9be7-2f869eb7bac7",
      "metadata": {
        "id": "0f5a503c-b6ab-462a-9be7-2f869eb7bac7",
        "outputId": "e23933fb-943d-4ea8-83ff-2a5ef7c406cb",
        "colab": {
          "base_uri": "https://localhost:8080/"
        }
      },
      "outputs": [
        {
          "output_type": "stream",
          "name": "stdout",
          "text": [
            "The maximum geodesic distance between stations equals to 69.9428256877473 kilometers\n"
          ]
        }
      ],
      "source": [
        "# Объединение датасета станций с самим собой для получения всех возможных пар\n",
        "station_pairs = stations_data.alias(\"station1\").crossJoin(stations_data.alias(\"station2\"))\n",
        "\n",
        "# Вычисление расстояния для каждой пары станций с помощью объявленной ранее функции\n",
        "station_pairs_with_distance = station_pairs.withColumn(\n",
        "    \"geodesic_distance\",\n",
        "    geodesic_distance_udf(\n",
        "        col(\"station1.lat\"),\n",
        "        col(\"station1.long\"),\n",
        "        col(\"station2.lat\"),\n",
        "        col(\"station2.long\")\n",
        "    )\n",
        ")\n",
        "\n",
        "# Поиск максимального геодезического расстояния среди всех расстояний для каждой пары станций\n",
        "max_distance = station_pairs_with_distance.selectExpr(\"max(geodesic_distance) as max_distance\").collect()[0][\"max_distance\"]\n",
        "\n",
        "print(f\"The maximum geodesic distance between stations equals to {max_distance} kilometers\")"
      ]
    },
    {
      "cell_type": "markdown",
      "id": "be016e30-ef06-4123-b99e-61a34de5fd13",
      "metadata": {
        "id": "be016e30-ef06-4123-b99e-61a34de5fd13"
      },
      "source": [
        "## Задание 3. Найти путь велосипеда с максимальным временем пробега через станции"
      ]
    },
    {
      "cell_type": "code",
      "execution_count": 22,
      "id": "45f74ae1-6faf-45fc-8755-75e3b1e8fb80",
      "metadata": {
        "id": "45f74ae1-6faf-45fc-8755-75e3b1e8fb80",
        "outputId": "9bfabc76-7498-4c76-f235-bf31de1a16df",
        "colab": {
          "base_uri": "https://localhost:8080/"
        }
      },
      "outputs": [
        {
          "output_type": "stream",
          "name": "stdout",
          "text": [
            "The longest trip (17270400 seconds) is from \"South Van Ness at Market\" to \"2nd at Folsom\"\n"
          ]
        }
      ],
      "source": [
        "# Сортировка по столбцу duration и выбор наиболее длительной поездки\n",
        "trip_with_max_duration = trip_data.select(\"start_station_name\", \"end_station_name\", \"duration\").orderBy(col(\"duration\").desc()).first()\n",
        "\n",
        "# Получение стартовой и конечной станций, а также времени поездки\n",
        "start_location = trip_with_max_duration[\"start_station_name\"]\n",
        "end_location = trip_with_max_duration[\"end_station_name\"]\n",
        "trip_time = trip_with_max_duration[\"duration\"]\n",
        "\n",
        "print(f\"The longest trip ({trip_time} seconds) is from \\\"{start_location}\\\" to \\\"{end_location}\\\"\")"
      ]
    },
    {
      "cell_type": "markdown",
      "id": "50013cfd-91dc-47df-8fdf-0842c2704b53",
      "metadata": {
        "id": "50013cfd-91dc-47df-8fdf-0842c2704b53"
      },
      "source": [
        "## Задание 4. Найти количество велосипедов в системе"
      ]
    },
    {
      "cell_type": "code",
      "execution_count": 23,
      "id": "7c4e73fb-20e9-4167-bd13-5470f9c3faff",
      "metadata": {
        "id": "7c4e73fb-20e9-4167-bd13-5470f9c3faff",
        "outputId": "9101ec66-6542-464a-9739-28b0b6586044",
        "colab": {
          "base_uri": "https://localhost:8080/"
        }
      },
      "outputs": [
        {
          "output_type": "stream",
          "name": "stdout",
          "text": [
            "Total number of bikes is 700\n"
          ]
        }
      ],
      "source": [
        "# Группировка по id велосипеда и подсчет уникальных значений id\n",
        "unique_bikes_count = trip_data.agg(countDistinct(\"bike_id\").alias(\"bike_count\")).collect()[0][\"bike_count\"]\n",
        "\n",
        "print(f\"Total number of bikes is {unique_bikes_count}\")"
      ]
    },
    {
      "cell_type": "markdown",
      "id": "39399a31-80f2-42d5-8115-c7c30796bad2",
      "metadata": {
        "id": "39399a31-80f2-42d5-8115-c7c30796bad2"
      },
      "source": [
        "## Задание 5. Найти пользователей потративших на поездки более 3 часов"
      ]
    },
    {
      "cell_type": "code",
      "execution_count": 24,
      "id": "dd2ba011-1947-44c1-9b9f-faa4c141df43",
      "metadata": {
        "id": "dd2ba011-1947-44c1-9b9f-faa4c141df43",
        "outputId": "369eed31-002f-48dd-a8da-c1f73e05d60b",
        "colab": {
          "base_uri": "https://localhost:8080/"
        }
      },
      "outputs": [
        {
          "output_type": "stream",
          "name": "stdout",
          "text": [
            "+-------+----------+\n",
            "|bike_id|total_time|\n",
            "+-------+----------+\n",
            "|    471|   1718831|\n",
            "|    496|   1679568|\n",
            "|    148|    332138|\n",
            "|    463|   1722796|\n",
            "|    540|   1752835|\n",
            "|    392|   1789476|\n",
            "|    623|   2037219|\n",
            "|    243|    307458|\n",
            "|    516|   1896751|\n",
            "|     31|    407907|\n",
            "|    580|   1034382|\n",
            "|    137|   1529200|\n",
            "|    251|   1282980|\n",
            "|    451|   1695574|\n",
            "|     85|   1214769|\n",
            "|    458|   1647080|\n",
            "|     65|    216922|\n",
            "|    588|    266415|\n",
            "|    255|    396395|\n",
            "|     53|    226389|\n",
            "+-------+----------+\n",
            "only showing top 20 rows\n",
            "\n"
          ]
        }
      ],
      "source": [
        "# Группировка по id велосипеда и подсчет общего времени, проведенного в поездке\n",
        "users_with_total_trip_time = trip_data.groupBy(\"bike_id\").sum(\"duration\").withColumnRenamed(\"sum(duration)\", \"total_time\")\n",
        "users_with_total_trip_time.filter(\"total_time>10800\").show()"
      ]
    }
  ],
  "metadata": {
    "kernelspec": {
      "display_name": "Python 3",
      "language": "python",
      "name": "python3"
    },
    "language_info": {
      "codemirror_mode": {
        "name": "ipython",
        "version": 3
      },
      "file_extension": ".py",
      "mimetype": "text/x-python",
      "name": "python",
      "nbconvert_exporter": "python",
      "pygments_lexer": "ipython3",
      "version": "3.9.5"
    },
    "colab": {
      "provenance": []
    }
  },
  "nbformat": 4,
  "nbformat_minor": 5
}